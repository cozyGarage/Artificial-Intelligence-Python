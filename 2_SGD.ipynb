{
 "cells": [
  {
   "cell_type": "markdown",
   "metadata": {
    "deletable": false,
    "editable": false,
    "nbgrader": {
     "cell_type": "markdown",
     "checksum": "268aba7ccc796b6abe1bb678b85824df",
     "grade": false,
     "grade_id": "cell-5cb269cc88b84f7f",
     "locked": true,
     "schema_version": 3,
     "solution": false,
     "task": false
    }
   },
   "source": [
    "<h1><center>Gradient Based Optimization</center></h1>\n",
    "\n",
    "<br>\n",
    "<br>\n",
    "<center><font size=\"3\">This notebook is a part of teaching material for CS-EJ3311 - Deep Learning with Python</font></center>\n",
    "<center><font size=\"3\">23.10.-10.12.2023</font></center>\n",
    "<center><font size=\"3\">Aalto University & FiTech.io</font></center>"
   ]
  },
  {
   "cell_type": "markdown",
   "metadata": {
    "deletable": false,
    "editable": false,
    "nbgrader": {
     "cell_type": "markdown",
     "checksum": "a79910e866142e37b42f0d0e03f93392",
     "grade": false,
     "grade_id": "cell-ca2bcb5604e982c6",
     "locked": true,
     "schema_version": 3,
     "solution": false,
     "task": false
    }
   },
   "source": [
    "<div class=\" alert alert-danger\">\n",
    "   <h3 align=\"center\"> <b>NOTE:</b></h3><br>These notebooks were prepared as classic jupyter notebooks and may look different in jupyter lab. To switch to classic notebook from Jupyter Lab go to Help > Launch Classic Notebook.  \n",
    "</div>"
   ]
  },
  {
   "cell_type": "markdown",
   "metadata": {
    "deletable": false,
    "editable": false,
    "nbgrader": {
     "cell_type": "markdown",
     "checksum": "c341a72b79cdc4329fabf30c2b655ba3",
     "grade": false,
     "grade_id": "cell-f67d71d3c0644230",
     "locked": true,
     "schema_version": 3,
     "solution": false,
     "task": false
    }
   },
   "source": [
    "This notebook demonstrates a simple but powerful method to find an optimal choice for the parameters (weights and biases) of an artificial neural network (ANN). The idea is to tune (adjust) the parameters according to the gradient of the average loss incurred by the ANN on a training set. This average loss is also known as the **training loss** (or training error) and defines an **objective or cost function** $f(\\mathbf{w})$ that we want to minimize.  \n",
    "\n",
    "Here we discuss a simple iterative algorithm which is called **gradient descent** (GD). GD minimizes the training loss by incrementally improving the current guess for the optimal parameters by moving a bit into the direction of the negative gradient. We will also discuss a simple variant of GD known as **stochastic gradient descent** (SGD). SGD is one of the most widely used optimization methods within deep learning.\n",
    "\n",
    "## Learning Goals\n",
    "\n",
    "- understand how gradients of the loss function can be used to learn the parameters of an ANN\n",
    "\n",
    "- understand the basic idea behind stochastic gradient descent (SGD)\n",
    "\n",
    "- understand SGD components \"batch\", \"batch size\", \"learning rate\" and \"epoch\"\n",
    "\n",
    "- be aware of some advanced variants of SGD such as ADAM or RMSprop"
   ]
  },
  {
   "cell_type": "markdown",
   "metadata": {
    "deletable": false,
    "editable": false,
    "nbgrader": {
     "cell_type": "markdown",
     "checksum": "ec01ff6f6cc1279ef31b5d40e018c6c0",
     "grade": false,
     "grade_id": "cell-7f83fda88459b81f",
     "locked": true,
     "schema_version": 3,
     "solution": false,
     "task": false
    }
   },
   "source": [
    "## Additional Reading\n",
    "\n",
    "-  Loss function chapter 1.1.5 & Gradient-based optimization chapter 2.4 of the book \"Deep Learning with Python\" by F. Chollet. \n",
    "-  Gradient descent Chapter 4 & 11 of \"Hands-On Machine Learning with Scikit-Learn, Keras, and TensorFlow\" by Aurélien Géron. \n",
    "\n",
    "Advanced reading:\n",
    "\n",
    "- Chapter 2.3 & 5 of [\"Machine Learning: The Basics\"](https://github.com/alexjungaalto/MachineLearningTheBasics/blob/master/MLBasicsBook.pdf) by Alex Jung \n",
    "- Chapter 8 [\"Optimization for Training DeepModels\"](https://www.deeplearningbook.org/contents/optimization.html) of Deep Learning Book by Ian Goodfellow \n",
    "\n",
    "## Video materials\n",
    "\n",
    "Beginner-friendly videos:\n",
    "- 3Blue1Brown, [\"Gradient descent, how neural networks learn\"](https://www.youtube.com/watch?v=IHZwWFHWa-w)\n",
    "- StatQuest, [\"Gradient Descent, Step-by-Step\"](https://www.youtube.com/watch?v=sDv4f4s2SB8)\n",
    "\n",
    "Videos from Andrew Ng's courses  with a brief intro to:\n",
    "- [\"Gradient Descent (C1W2L04)\"](https://www.youtube.com/watch?v=uJryes5Vk1o)\n",
    "- [\"Adam Optimization Algorithm (C2W2L08)\"](https://www.youtube.com/watch?v=JXQT_vxqwIs)\n",
    "- [\"RMSProp (C2W2L07)\"](https://www.youtube.com/watch?v=_e-LFe_igno)"
   ]
  },
  {
   "cell_type": "code",
   "execution_count": 1,
   "metadata": {
    "deletable": false,
    "editable": false,
    "nbgrader": {
     "cell_type": "code",
     "checksum": "92d6cf44621b6a5ae7931558439c9f31",
     "grade": false,
     "grade_id": "cell-be6ce98897a3b562",
     "locked": true,
     "schema_version": 3,
     "solution": false,
     "task": false
    }
   },
   "outputs": [
    {
     "data": {
      "text/html": [
       "<style>\n",
       "@font-face {\n",
       "  font-family: 'Sanchez';\n",
       "  src: url('https://fonts.googleapis.com/css?family=Sanchez:400italic,400');\n",
       "}\n",
       "\n",
       "@import url('https://fonts.googleapis.com/css2?family=Sanchez&display=swap');\n",
       "\n",
       "* {\n",
       "  margin: 0;\n",
       "  padding: 0;\n",
       "  box-sizing: border-box;\n",
       "}\n",
       "\n",
       "*,\n",
       "*:before,\n",
       "*:after {\n",
       "\tbox-sizing: inherit;\n",
       "}\n",
       "\n",
       "body {\n",
       "font-family: -apple-system, BlinkMacSystemFont, \"Segoe UI\", Roboto, Helvetica,\n",
       "    Arial, sans-serif, \"Apple Color Emoji\", \"Segoe UI Emoji\", \"Segoe UI Symbol\";\n",
       "}\n",
       "\n",
       ".title-container {\n",
       "  text-align: left;\n",
       "}\n",
       "\n",
       ".title {\n",
       "  font-weight: 600;\n",
       "}\n",
       "\n",
       ".subtitle {\n",
       "  margin: 10px 0px;\n",
       "  color: #888888;\n",
       "  font-size: 25px;\n",
       "  transition: all 0.5s;\n",
       "}\n",
       "\n",
       ".main-container {\n",
       "  padding: 15px;\n",
       "}\n",
       "\n",
       ".card-container {\n",
       "  display: flex;\n",
       "  flex-wrap: wrap;\n",
       "  justify-content: space-between;\n",
       "}\n",
       "\n",
       ".card {\n",
       "  margin: 20px;\n",
       "  padding: 20px;\n",
       "  width: 100%;\n",
       "  min-height: 200px;\n",
       "  display: grid;\n",
       "  grid-template-columns: 1fr 1fr 1fr;\n",
       "  gap: 10px;\n",
       "  border-radius: 10px;\n",
       "  box-shadow: 0px 6px 10px rgba(0, 0, 0, 0.25);\n",
       "  transition: all 0.5s;\n",
       "}\n",
       "\n",
       ".card.small {\n",
       "  width: 50%;\n",
       "  min-height: 100px;\n",
       "  grid-template-columns: 1fr 1fr;\n",
       "}\n",
       "\n",
       ".card:hover {\n",
       "  box-shadow: 0px 6px 10px rgba(0, 0, 0, 0.4);\n",
       "  transform: scale(1.01);\n",
       "}\n",
       "\n",
       ".card__title {\n",
       "  grid-columnn-start: 1;\n",
       "  grid-columnn-end: -1;\n",
       "  font-weight: 400;\n",
       "  color: #ffffff;\n",
       "}\n",
       "\n",
       ".test-input {\n",
       "  grid-column-start: 1;\n",
       "  grid-column-end: 2;\n",
       "  color: #40413e;\n",
       "}\n",
       "\n",
       ".test-output {\n",
       "  grid-column-start: 2;\n",
       "  grid-column-end: 3;\n",
       "  color: #40413e;\n",
       "}\n",
       "\n",
       ".test-expected-output {\n",
       "  grid-column-start: 3;\n",
       "  grid-column-end: 4;\n",
       "  color: #40413e;\n",
       "}\n",
       "\n",
       ".card-failure {\n",
       "  background: radial-gradient(#fbc1cc, #fa99b2);\n",
       "}\n",
       "\n",
       ".card-failure .card__title::before {\n",
       "    display: inline-block;\n",
       "    margin-right: 5px;\n",
       "    font-style: normal;\n",
       "    font-variant: normal;\n",
       "    text-rendering: auto;\n",
       "    -webkit-font-smoothing: antialiased;\n",
       "    font-family: \"Font Awesome 5 Free\";\n",
       "    font-weight: 900;\n",
       "    content: \"\\f057\";\n",
       "}\n",
       "\n",
       ".card-success {\n",
       "  background: radial-gradient(#60efbc, #58d5c9);\n",
       "}\n",
       "\n",
       ".card-success .card__title::before {\n",
       "    display: inline-block;\n",
       "    margin-right: 5px;\n",
       "    font-style: normal;\n",
       "    font-variant: normal;\n",
       "    text-rendering: auto;\n",
       "    -webkit-font-smoothing: antialiased;\n",
       "    font-family: \"Font Awesome 5 Free\";\n",
       "    font-weight: 900;\n",
       "    content: \"\\f058\";\n",
       "}\n",
       "\n",
       ".card-info {\n",
       "  background: radial-gradient(#1fe4f5, #3fbafe);\n",
       "}\n",
       "\n",
       "@media (max-width: 1600px) {\n",
       "  .card-container {\n",
       "    justify-content: center;\n",
       "  }\n",
       "}\n",
       "\n",
       ".code-block {\n",
       "  padding: 5px;\n",
       "  background-color: #f3f7f7;\n",
       "  color: black;\n",
       "  border-radius: 10px;\n",
       "  box-shadow: 0px 6px 10px rgba(0, 0, 0, 0.25);\n",
       "}\n",
       "\n",
       "details {\n",
       "\tfont-size: 1rem;\n",
       "\tbox-shadow: 0 10px 15px -5px rgba(0, 0, 0, 0.1),\n",
       "\t\t0 10px 10px -5px rgba(0, 0, 0, 0.04);\n",
       "\twidth: 100%;\n",
       "\tbackground: #ffffff;\n",
       "\tborder-radius: 10px;\n",
       "\tposition: relative;\n",
       "}\n",
       "\n",
       "details:hover {\n",
       "    cursor: pointer;\n",
       "}\n",
       "\n",
       ".summary-title {\n",
       "    user-select: none;\n",
       "    margin-left: 5px;\n",
       "}\n",
       "\n",
       ".summary-content {\n",
       "    border: 2px solid #0C7B89;\n",
       "    cursor: default;\n",
       "    padding: 1em;\n",
       "    font-weight: 300;\n",
       "    font-size: 15px;\n",
       "    line-height: 1.5;\n",
       "}\n",
       "\n",
       "summary {\n",
       "   color: white;\n",
       "   font-size: large;\n",
       "   font-weight: bold;\n",
       "   padding: 1em;\n",
       "   background-color: #0C7B89;\n",
       "   border-radius: 8px;\n",
       "   list-style: none;\n",
       "}\n",
       "\n",
       "details[open] summary {\n",
       "    border-radius: 8px 8px 0 0;\n",
       "}\n",
       "\n",
       "details[open] summary::before {\n",
       "  transform: rotate(90deg);\n",
       "  font-family: \"Font Awesome 5 Free\";\n",
       "  padding-right: 5px;\n",
       "}\n",
       "\n",
       "details summary::before {\n",
       "  position: absolute;\n",
       "  will-change: transform;\n",
       "  transition: transform 300ms ease;\n",
       "  font-family: \"Font Awesome 5 Free\";\n",
       "  color: #fff;\n",
       "  font-size: 1.1rem;\n",
       "  content: \"\\f105\";\n",
       "  left: 0;\n",
       "  display: inline-block;\n",
       "  width: 1.6rem;\n",
       "  text-align: center;\n",
       "  padding-right: 5px;\n",
       "}\n",
       "\n",
       "summary:focus {\n",
       "  outline: none;\n",
       "}\n",
       "\n",
       "summary::-webkit-details-marker {\n",
       "    display: none;\n",
       "}\n",
       "\n",
       ".ludwig {\n",
       "  position: relative;\n",
       "  padding-left: 1em;\n",
       "  border-left: 0.2em solid lighten( hsl(200, 40, 10), 40%);\n",
       "  font-family: 'Roboto', serif;\n",
       "  font-size: 1.3em;\n",
       "  line-height: 1.5em;\n",
       "  font-weight: 100;\n",
       "}\n",
       "\n",
       ".ludwig::before, .ludwig::after {\n",
       "  content: '\\201C';\n",
       "  font-family: 'Sanchez';\n",
       "  color: lighten( hsl(200, 40, 10), 40%);\n",
       "}\n",
       "\n",
       ".ludwig::after {\n",
       "  content: '\\201D';\n",
       "}\n",
       "\n",
       ".blockquote-container {\n",
       "  margin: 2em auto;\n",
       "}\n",
       "\n",
       "blockquote {\n",
       "  margin-bottom: 3em;\n",
       "}\n",
       "\n",
       ".wrap-up {\n",
       "    border: 2px solid #B41086;\n",
       "    cursor: default;\n",
       "    padding: 20px;\n",
       "    line-height: 1.5;\n",
       "    border-radius: 20px\n",
       "}\n",
       "\n",
       ".wrap-up-title {\n",
       "    font-size:20px;\n",
       "    color: #B41086;\n",
       "    font-weight: bold\n",
       "}\n",
       "\n",
       ".wrap-up-content {\n",
       "    font-size:14px;\n",
       "    color: black;\n",
       "}\n",
       "\n",
       ".info {\n",
       "    background-color: white;\n",
       "    border: 2px solid #0C7B89;\n",
       "    cursor: default;\n",
       "    padding: 10px;\n",
       "    line-height: 1.5;\n",
       "    border-radius: 20px\n",
       "}\n",
       "\n",
       ".info-title {\n",
       "    font-size: 20px;\n",
       "    color: #0C7B89;\n",
       "    font-weight: bold\n",
       "}\n",
       "\n",
       "</style>"
      ],
      "text/plain": [
       "<IPython.core.display.HTML object>"
      ]
     },
     "execution_count": 1,
     "metadata": {},
     "output_type": "execute_result"
    }
   ],
   "source": [
    "from utils import load_styles\n",
    "\n",
    "# This MUST be the last line of this cell\n",
    "load_styles()"
   ]
  },
  {
   "cell_type": "markdown",
   "metadata": {
    "deletable": false,
    "editable": false,
    "nbgrader": {
     "cell_type": "markdown",
     "checksum": "02053fb49b07b16be2bef35e4b6b10ac",
     "grade": false,
     "grade_id": "cell-b0e3481a9dd3e926",
     "locked": true,
     "schema_version": 3,
     "solution": false,
     "task": false
    }
   },
   "source": [
    "Deep learning aims at finding a good choice for the weights (and biases) of an **artificial neural network (ANN)**. We need to define a loss function to measure how \"good\" a particular choice for these parameters is. For a given pair of predicted label value $\\hat{y}$ and true label value $y$, the loss function $L(y,\\hat{y})$ provides a measure for the error, or \"loss\", incurred in predicting the true label $y$ by $\\hat{y}$. We emphasize that the precise definition of the loss function is a design choice. In principle, the deep learning engineer is free to choose an arbitrary loss function used to guide the training of an ANN.  \n",
    "\n",
    "Some particular choices for the loss function have been proven to be useful in many applications. If the label values are numeric (like a temperature or a weight), then the **squared error** loss $ L(y,\\hat{y})=(y-\\hat{y})^2$ is a good choice for the loss function. \\\n",
    "If the label values are categories (like \"cat\" and \"dog\"), we might use  the **logistic loss** $L(y,\\hat{y}) = -y\\ln\\big(\\hat{p}(y=1)\\big)-(1-y)\\ln\\big(\\hat{p}(y=0)\\big)$ where $\\hat{p}$ is an estimate for the probability that label value is $y=1$ or $y=0$.\n",
    "\n",
    "To measure the quality of a particular choice for the parameters of an ANN, we typically use a set of labeled data points \n",
    "\n",
    "$$\\big(\\mathbf{x}^{(1)},y^{(1)}\\big),\\ldots,\\big(\\mathbf{x}^{(m)},y^{(m)}\\big).$$\n",
    "\n",
    "We first compute the resulting predictions $\\hat{y}^{(i)}$ obtained when feeding the feature vectors $\\mathbf{x}^{(i)}$ into the ANN. Based on the predictions, we calculate the average loss (or training loss)\n",
    "\n",
    "$$ (1/m) \\big( L(y^{(1)},\\hat{y}^{(1)})+L(y^{(2)},\\hat{y}^{(2)})+\\ldots+L(y^{(m)},\\hat{y}^{(m)}) \\big).$$\n",
    "\n",
    "Note that the training loss depends on the parameters $\\mathbf{w}$ of the ANN via the predictions $\\hat{y}^{(i)}$. Indeed, the predictions $\\hat{y}^{(i)}=h^{(\\mathbf{w})}\\big(\\mathbf{x}^{(i)}\\big)$ are obtained by applying the ANN with parameters $\\mathbf{w}$ to the input feature vector $\\mathbf{x}^{(i)}$. By evaluating the training loss for different choices for the weights, we obtain a **cost or objective function** $f(\\mathbf{w})$. The objective function $f(\\mathbf{w})$ is the average loss incurred by an ANN with parameters $\\mathbf{w}$. It seems natural to learn parameters of an ANN that minimize the training loss, i.e., that solve\n",
    "\n",
    "$$ \\min_{\\mathbf{w} \\in \\mathbb{R}^{d}} f(\\mathbf{w})$$"
   ]
  },
  {
   "cell_type": "markdown",
   "metadata": {
    "deletable": false,
    "editable": false,
    "nbgrader": {
     "cell_type": "markdown",
     "checksum": "eab26419cd837be8116d953a326bd15b",
     "grade": false,
     "grade_id": "cell-fd3af423ccbcda83",
     "locked": true,
     "schema_version": 3,
     "solution": false,
     "task": false
    }
   },
   "source": [
    "<div class=\"info\">\n",
    "    <div  class=\"info-title\"><i class=\"fa fa-info-circle\" aria-hidden=\"true\"></i>&nbsp; Info</div><br>\n",
    "    <div class=\"wrap-up-content\">\n",
    "         Here we use following format:\n",
    "        <br>\n",
    "        <ul>\n",
    "          <li>non-bold font and lower case for scalar variables ( true label $y$, predicted label $\\hat{y}$ )</li>\n",
    "          <li>bold font and lower case for vectors ( features of a datapoint stacked into a vector $\\mathbf{x}$, ANN parameters stacked into a vector $\\mathbf{w}$ )</li>\n",
    "          <li>bold font and upper case for matrices ( feature matrix $\\mathbf{X}$ )</li>\n",
    "        </ul>\n",
    "    </div>\n",
    "</div>"
   ]
  },
  {
   "cell_type": "markdown",
   "metadata": {
    "deletable": false,
    "editable": false,
    "nbgrader": {
     "cell_type": "markdown",
     "checksum": "5bdc290d9797235132e69618b97918ee",
     "grade": false,
     "grade_id": "cell-74b899199a3ac3b1",
     "locked": true,
     "schema_version": 3,
     "solution": false,
     "task": false
    }
   },
   "source": [
    "## Mean Squared Error \n",
    "\n",
    "Maybe the most widely used loss function for applications involving numeric label values $y \\in \\mathbb{R}$ is the squared error loss \n",
    "\n",
    "$$L(y,\\hat{y}) = (\\underbrace{y- \\hat{y}}_{\\mbox{prediction error}})^{2}.$$\n",
    "\n",
    "We assess the quality of a predictor $\\hat{y} = h^{(\\mathbf{w})}(\\mathbf{x})$ by the average loss incurred over a set of labeled data points (the **training set**). For the squared error, average loss is referred to as the **mean squared error (MSE)** \n",
    "\n",
    "$$ f(\\mathbf{w}) = (1/m) \\big( \\big( y^{(1)}-\\hat{y}^{(1)}\\big)^{2}+\\big( y^{(2)}-\\hat{y}^{(2)}\\big)^{2}+\\ldots+\\big( y^{(m)}-\\hat{y}^{(m)}\\big)^{2} \\big). $$\n",
    "\n",
    "Note that the MSE on the right hands side depends on the weight vector $\\mathbf{w}$ via the predictions $\\hat{y}^{(i)}$ obtained by applying the predictor map $h^{(\\mathbf{w})}\\big(\\mathbf{x}^{(i)}\\big)$. "
   ]
  },
  {
   "cell_type": "markdown",
   "metadata": {
    "deletable": false,
    "editable": false,
    "nbgrader": {
     "cell_type": "markdown",
     "checksum": "b9c97b7a9653de0fcde76c238a9aa3ea",
     "grade": false,
     "grade_id": "cell-7a19ba4e42949ab2",
     "locked": true,
     "schema_version": 3,
     "solution": false,
     "task": false
    }
   },
   "source": [
    "The shape of the loss $f(\\mathbf{w})$, viewed as a function of the weights $\\mathbf{w}$, depends on two components. First, it depends on how the predictor map depends on the weights (the structure of the ANN in deep learning context). Second, it depends on the choice of the loss function $L(y,\\hat{y})$ used to measure the loss incurred by predicting the true label value $y$ with the prediction $\\hat{y}$. \n",
    "\n",
    "The combination of linear predictor function and squared error loss $L(y,\\hat{y})=(y-\\hat{y})^{2}$ is a very popular as they result in a [convex](https://en.wikipedia.org/wiki/Convex_function) and [differentiable](https://en.wikipedia.org/wiki/Differentiable_function) loss function $f(\\mathbf{w})$. A convex function has the attractive property that any local minimum is always also a [global minimum](https://en.wikipedia.org/wiki/Maxima_and_minima#/media/File:Extrema_example_original.svg). If a convex function is also differentiable, it can be minimized by a simple but powerful algorithm which is known as **gradient descent**. \n",
    "\n",
    "<img src=\"../../../coursedata/SGD/MSELinPred.jpeg\" width=400>\n"
   ]
  },
  {
   "cell_type": "markdown",
   "metadata": {
    "deletable": false,
    "editable": false,
    "nbgrader": {
     "cell_type": "markdown",
     "checksum": "1926db6782080c70661c29fa9ac2d330",
     "grade": false,
     "grade_id": "cell-a24f9b508deb7119",
     "locked": true,
     "schema_version": 3,
     "solution": false,
     "task": false
    }
   },
   "source": [
    "Deep learning methods use predictor maps represented by ANN with tunable weights. In this case, the predictor depends non-linearly on the weights. As a result, we obtain (highly) non-convex loss landscapes. Below, examples of loss function landscapes of more complicated models (neural networks) illustrate that finding a minimum of these loss functions is not a trivial task.\n",
    "\n",
    "<img src=\"../../../coursedata/SGD/NNloss.png\" width=500/>\n",
    "\n",
    "\n",
    "<center><a href=\"https://www.cs.umd.edu/~tomg/projects/landscapes/\">image source</a></center>\n",
    "<center><a href=\"https://arxiv.org/abs/1712.09913/\">original paper</a></center>\n",
    "\n",
    "Here you can find more examples of visualizations for loss functions obtained from representing a predictor map using ANN:\n",
    "\n",
    "[3D visualization of NN loss functions](http://www.telesens.co/loss-landscape-viz/viewer.html) \\\n",
    "[3D animation of NN loss functions](https://www.youtube.com/watch?time_continue=32&v=aq3oA6jSGro&feature=emb_logo)"
   ]
  },
  {
   "cell_type": "markdown",
   "metadata": {
    "deletable": false,
    "editable": false,
    "nbgrader": {
     "cell_type": "markdown",
     "checksum": "d8b376a79df6552ae6798970feff5b4f",
     "grade": false,
     "grade_id": "cell-bc3add6f815d8e8a",
     "locked": true,
     "schema_version": 3,
     "solution": false,
     "task": false
    }
   },
   "source": [
    "# Gradient Descent \n",
    "\n",
    "We will now introduce a simple algorithm that allows to find (a good approximation to) the optimal parameter vector $\\mathbf{w}_{\\rm opt}$ for a predictor map $h^{(\\mathbf{w})}(\\mathbf{x})$. The optimum weight vector should result in the smallest possible loss  \n",
    "\n",
    "\\begin{align} \n",
    "f(\\mathbf{w}_{\\rm opt}) = \\min_{\\mathbf{w} \\in \\mathbb{R}^{d}} f(\\mathbf{w}) \\mbox{ with } f(\\mathbf{w})& = (1/m) \\sum_{i=1}^{m} \\big(y^{(i)} - \\hat{y}^{(i)} \\big)^{2} \\nonumber \\\\ \n",
    "& =(1/m) \\sum_{i=1}^{m} \\big(y^{(i)} - h^{(\\mathbf{w})}\\big(\\mathbf{x}^{(i)}\\big) \\big)^{2}. \\end{align}\n",
    "\n",
    "**Gradient descent (GD)** constructs a sequence of parameter vectors $\\mathbf{w}^{(0)},\\mathbf{w}^{(1)},\\ldots$ such that the loss values $f\\big(\\mathbf{w}^{(0)}\\big),f\\big(\\mathbf{w}^{(1)}\\big),\\ldots$ tends toward the minimum loss. GD is an iterative algorithm that gradually improves the current guess (approximation) $\\mathbf{w}^{(k)}$ for the optimum weight vector.  \n",
    "\n",
    "There are many different strategies for choosing the first (or initial) guess $\\mathbf{w}^{(0)}$. One simple approach is to choose the initial weights randomly. **Given the current weight vector $\\mathbf{w}^{(k)}$, how does GD know in which \"direction\" to go to find a better parameter vector $\\mathbf{w}^{(k+1)}$?** Mathematics, or [calcululs](https://en.wikipedia.org/wiki/Differential_calculus) to be specific, tells us that this direction is precisely the opposite of the gradient $\\nabla f(\\mathbf{w})$. More precisely, for a small step size, the steepest descent is towards the opposite direction of the [gradient](https://en.wikipedia.org/wiki/Derivative). We can think of [GD](https://en.wikipedia.org/wiki/Gradient_descent) as imitating a hiker who takes a sequence of (small) steps downhill.\n",
    "\n",
    "<img src=\"../../../coursedata/SGD/GradientHiker.jpeg\" width=500/>\n",
    "\n",
    "Given the downhill direction $- \\nabla f\\big(\\mathbf{w}^{(k)}\\big)$ at the current estimate $\\mathbf{w}^{(k)}$, we take a step \n",
    "\n",
    "$$\\mbox{(Gradient Step)} \\quad \\underbrace{\\mathbf{w}^{(k+1)}}_{\\mbox{new guess}} = \\underbrace{\\mathbf{w}^{(k)}}_{\\mbox{current guess}} - \\underbrace{\\alpha}_{\\mbox{step size}} \\nabla f\\big(\\mathbf{w}^{(k)}\\big).$$ \n",
    "\n",
    "Here, we used a tuning parameter $\\alpha>0$ which adjusts the step size for the steep downhill. We will refer to this parameter as **learning rate**. This name is due to the fact that choosing a larger value for $\\alpha$ tends to speed up the progress of GD to reach the optimum weight vector. Thus, increasing the value of $\\alpha$ tends to speed up the learning of a good weight vector for a predictor map $h^{(\\mathbf{w})}$. \n",
    "\n",
    "The GD algorithm requires the specification of a suitable learning rate  $\\alpha$ and initial guess $\\mathbf{w}^{(0)}$ and then repeating the gradient step for a sufficient number of iterations. One possible stopping criterion is to use a fixed number of iterations which might be dictated by constraints on processing duration we grant for GD (computing time costs money, [see here](https://aws.amazon.com/emr/pricing/)). \n",
    "\n",
    "Another option is to monitor the loss function and stop if consecutive iterates do not result in any significant decrease. Similarly, we could monitor the validation loss which is obtained by applying the predictor map using the current GD iterate $\\mathbf{w}^{(k)}$ to validation data which is different from the training data used to define the training loss. \n",
    "\n",
    "A key challenge in the use of GD is to find a good choice for the learning rate $\\alpha$. If the learning rate is too small (left plot below), the GD steps make too little progress and thus require an excessive number of iterations to get close to the optimum weight vector. Conversely, if the learning rate is too high (right plot below), it is possible that GD iterates $\\mathbf{w}^{(k)}$ will \"overshoot\" the minimum and climb up the loss function on the other side of the minimum (GD diverges). \n",
    "\n",
    "<img src=\"../../../coursedata/SGD/lrate.png\" width=800/>"
   ]
  },
  {
   "cell_type": "markdown",
   "metadata": {
    "deletable": false,
    "editable": false,
    "nbgrader": {
     "cell_type": "markdown",
     "checksum": "23844f355103c4ec0b6b0a526c3ed672",
     "grade": false,
     "grade_id": "cell-924816fce21eb6a1",
     "locked": true,
     "schema_version": 3,
     "solution": false,
     "task": false
    }
   },
   "source": [
    "The figure below shows how GD adapts the parameter vector $\\mathbf{w}$ of a linear predictor $h^{(\\mathbf{w})}(\\mathbf{x})= \\mathbf{w}^{T} \\mathbf{x}$ to better fit the labeled data points (left) resulting in a smaller MSE (right). Note that after around $200$ iterations, gradient descent found weight vectors resulting in an almost minimum MSE. The additional iterations (beyond $200$) are (in some sense) a waste of computation as they do not decrease the MSE significantly. \n",
    "\n",
    "<img src=\"../../../coursedata/SGD/plainGD.gif\" width=\"750\" align=\"center\">"
   ]
  },
  {
   "cell_type": "markdown",
   "metadata": {
    "deletable": false,
    "editable": false,
    "nbgrader": {
     "cell_type": "markdown",
     "checksum": "6cb9b089c352872028a1d77e68121d1d",
     "grade": false,
     "grade_id": "cell-140d9675efb76a99",
     "locked": true,
     "schema_version": 3,
     "solution": false,
     "task": false
    }
   },
   "source": [
    "To develop some intuition for the functioning of GD, let us work out the gradient update for the special case of linear predictor maps $h^{(\\mathbf{w})}(\\mathbf{x}) = \\mathbf{w}^{T} \\mathbf{x}$. Here, we can find a closed-form expression for the gradient: \n",
    "\n",
    "\\begin{align} \n",
    "\\nabla f\\big( \\mathbf{w}^{(k)} \\big)= - (2/m) \\sum_{i=1}^{m}\\mathbf{x}^{(i)} \\big(y^{(i)} - \\big( \\mathbf{w}^{(k)}\\big)^{T} \\mathbf{x}^{(i)} \\big) \\big). \\end{align}\n",
    "\n",
    "The gradient update of GD then becomes, in turn, \n",
    "\n",
    "\\begin{align} \n",
    "\\mathbf{w}^{(k+1)} & = \\mathbf{w}^{(k)} + {\\alpha}\\,(2/m) \\sum_{i=1}^{m}\\mathbf{x}^{(i)} \\big(y^{(i)} - \\big( \\mathbf{w}^{(k)}\\big)^{T} \\mathbf{x}^{(i)} \\big)\\nonumber \\\\ \n",
    " & = \\mathbf{w}^{(k)} + {\\alpha}\\,(2/m) \\sum_{i=1}^{m}\\mathbf{x}^{(i)} \\big( y^{(i)} - \\hat{y}^{(i)} \\big) \n",
    ". \\end{align}\n",
    "\n",
    "Note that the gradient update involves the computation of the predictions $\\hat{y}^{(i)} = \\big( \\mathbf{w}^{(k)}\\big)^{T} \\mathbf{x}^{(i)}$. \n",
    "\n",
    "After the forward pass, the weight vector $\\mathbf{w}^{(k)}$ is updated by a weighted combination of the feature vectors $\\mathbf{x}^{(i)}$. The weight for the $i$th feature vector $\\mathbf{x}^{(i)}$ is given by the prediction error $ \\big( y^{(i)}$ - $\\hat{y}^{(i)} \\big)$ incurred by the current parameter vector for that data point. Thus, the gradient update puts more emphasis (larger weight) on those data points $\\big(\\mathbf{x}^{(i)},y^{(i)}\\big)$ which are not well predicted using the current weight vector $\\mathbf{w}^{(k)}$. \n",
    "\n"
   ]
  },
  {
   "cell_type": "markdown",
   "metadata": {
    "deletable": false,
    "editable": false,
    "nbgrader": {
     "cell_type": "markdown",
     "checksum": "76f5e48941d30253569bc3e9ecec88c5",
     "grade": false,
     "grade_id": "cell-872656208f52d61b",
     "locked": true,
     "schema_version": 3,
     "solution": false,
     "task": false
    }
   },
   "source": [
    "Many machine learning and deep learning Python libraries, such as `sklearn` and `keras`, provide ready-to-use gradient-based optimization algorithms. However, it is instructive to implement our own simplified gradient descent algorithm for learning purposes. In this simple case, we have 100 data points (samples) that are described by only one feature `x`, and a label `y`. \\\n",
    "We need to find the optimal linear predictor `y_pred = weight * x`."
   ]
  },
  {
   "cell_type": "code",
   "execution_count": 2,
   "metadata": {
    "deletable": false,
    "editable": false,
    "nbgrader": {
     "cell_type": "code",
     "checksum": "c13002524902ef5cdb06d8878ef989fc",
     "grade": false,
     "grade_id": "cell-d062ee24a84dc848",
     "locked": true,
     "schema_version": 3,
     "solution": false,
     "task": false
    }
   },
   "outputs": [],
   "source": [
    "# import Python libraries\n",
    "import numpy as np                                 # library for numerical arrays (vectors, matrices, tensors)\n",
    "import matplotlib.pyplot as plt                    # library providing tools for plotting data \n",
    "from sklearn import preprocessing                  # function for pre-processing input data\n",
    "from sklearn.linear_model import LinearRegression  # sklearn class for fitting linear predictor \n",
    "from sklearn.datasets import make_regression       # function to generate a random regression problem"
   ]
  },
  {
   "cell_type": "markdown",
   "metadata": {
    "deletable": false,
    "editable": false,
    "nbgrader": {
     "cell_type": "markdown",
     "checksum": "e34ea9bbeb313f1920887cb5a46b58d7",
     "grade": false,
     "grade_id": "cell-7903eaf0c4e0eb78",
     "locked": true,
     "schema_version": 3,
     "solution": false,
     "task": false
    }
   },
   "source": [
    "<a id='St1'></a>\n",
    "<div class=\" alert alert-warning\">\n",
    "    <h3><b>STUDENT TASK 2.1.</b> GRADIENT DESCENT. </h3> [2 points]\n",
    "        \n",
    "Your task is to implement the gradient descent algorithm for a dataset of size $m$, where $i$th datapoint is characterized by only one feature ${x}^{(i)}$. Feature values for all $m$ data points are stored in a feature matrix $\\mathbf{X}$, numpy array of shape (m,1). Labels of datapoints are stored in a label vector $\\mathbf{y}$, numpy array of shape (m,1).\n",
    "\n",
    "Implement GD algorithm in two steps:\n",
    "    \n",
    "- implement gradient \"step\" or one iteration of GD in Python function `gradient_step_onefeature()`\n",
    "- define Python function `GD_onefeature()`, which uses `gradient_step_onefeature()` and iterates the gradient step epochs times.\n",
    "  \n",
    "**Implementation note.**\n",
    "\n",
    "You can use for-loop to compute training loss and gradient for each datapoint, but we advise to use vectorized implementation where you use NumPy arrays $\\mathbf{X}$ and $\\mathbf{y}$ and matrix multiplication operation for computing predictions and gradient.    \n",
    "    \n",
    "</div>"
   ]
  },
  {
   "cell_type": "markdown",
   "metadata": {
    "deletable": false,
    "editable": false,
    "nbgrader": {
     "cell_type": "markdown",
     "checksum": "808af91ca9e33b746421da72ac8b186a",
     "grade": false,
     "grade_id": "cell-d23608ab77205d2c",
     "locked": true,
     "schema_version": 3,
     "solution": false,
     "task": false
    }
   },
   "source": [
    "<details>\n",
    "    <summary>\n",
    "        <span class=\"summary-title\">Hints</span>\n",
    "    </summary>\n",
    "    <div class=\"summary-content\">\n",
    "\n",
    "To implement the `gradient_step_onefeature()` function you will need to perform following steps:\n",
    "    \n",
    "1. Compute predictions for all data points, given the current weight $w$, and store predictions in numpy array `y_hat` of shape (m,1).\\\n",
    "The prediction for $i$th data point is:\n",
    "\\begin{align} \n",
    "\\hat{y}^{(i)} =w{x}^{(i)}\n",
    "\\end{align} \n",
    "\n",
    "\n",
    "2. Compute the MSE training loss, given the true labels $y^{(i)}$ and the predictions $\\hat{y}^{(i)}$ for $m$ data points. Store the result in a variable `MSE` (scalar).\\\n",
    "The training loss for $i$th data point is:\n",
    "\\begin{align} \n",
    "L\\big(y^{(i)}, \\hat{y}^{(i)} \\big)= \\big(y^{(i)} - \\hat{y}^{(i)} \\big)^{2}\n",
    "\\end{align}    \n",
    "To obtain MSE loss over $m$ data points you need to compute **average** of training losses over $m$ datapoints.\n",
    "\n",
    "\n",
    "3. Compute the **average** gradient of the loss function $f\\big(w \\big)$.\\\n",
    "The gradient of loss function for $i$th data point given current weight ${w}^{(k)}$ is:\n",
    "\\begin{align} \n",
    "\\nabla f\\big(w^{(k)} \\big)= - 2x\\big(y^{(i)} - \\hat{y}^{(i)} \\big)\n",
    "\\end{align} \n",
    "or\n",
    "\\begin{align} \n",
    "\\nabla f\\big(w^{(k)} \\big)= - 2x\\big(y^{(i)} - w^{(k)}{x}^{(i)} \\big)\n",
    "\\end{align}\n",
    "\n",
    "\n",
    "4. Update the weight - change the weight values to the opposite direction from the gradient \n",
    "    \n",
    "\\begin{align} \n",
    "w^{(k+1)}= w^{(k)} - \\alpha\\nabla f\\big(w^{(k)} \\big)\n",
    "\\end{align}   \n",
    "     </div>    \n",
    "</details>"
   ]
  },
  {
   "cell_type": "code",
   "execution_count": 3,
   "metadata": {
    "deletable": false,
    "nbgrader": {
     "cell_type": "code",
     "checksum": "e8ccfb5ed1a1a0db90ed800504b05fce",
     "grade": false,
     "grade_id": "cell-788861738364f21c",
     "locked": false,
     "schema_version": 3,
     "solution": true,
     "task": false
    }
   },
   "outputs": [],
   "source": [
    "import numpy as np\n",
    "\n",
    "def gradient_step_onefeature(X, y, weight, lrate):\n",
    "    '''\n",
    "    Function for performing one gradient descent step for a linear predictor and MSE as a loss function.\n",
    "\n",
    "    Inputs:\n",
    "    - X: numpy array of shape (m,1), feature matrix\n",
    "    - y: numpy array of shape (m,1), label vector \n",
    "    - weight: float number, model's weight, used to compute the prediction\n",
    "    - lrate: float number, learning rate or step size; a coefficient alpha used during weight update\n",
    "\n",
    "    Outputs:\n",
    "    - weight: float number, updated weight value\n",
    "    - MSE: float number, MSE loss on the dataset (X, y)   \n",
    "    '''\n",
    "\n",
    "    # Compute predictions\n",
    "    y_hat = X * weight\n",
    "\n",
    "    # Compute MSE loss\n",
    "    MSE = np.mean((y - y_hat)**2)\n",
    "\n",
    "    # Compute the average gradient of the loss function\n",
    "    grad_w = -2 * np.mean(X * (y - y_hat))\n",
    "\n",
    "    # Update the weights\n",
    "    weight = weight - lrate * grad_w\n",
    "\n",
    "    return weight, MSE\n"
   ]
  },
  {
   "cell_type": "code",
   "execution_count": 4,
   "metadata": {
    "deletable": false,
    "editable": false,
    "nbgrader": {
     "cell_type": "code",
     "checksum": "16f2e0d7cdeedb8580e314ba9884dabe",
     "grade": false,
     "grade_id": "cell-8ee03d326c042553",
     "locked": true,
     "schema_version": 3,
     "solution": false,
     "task": false
    }
   },
   "outputs": [],
   "source": [
    "# Sanity check\n",
    "X, y, weight = np.random.rand(10,1), np.random.rand(10,1), np.random.rand()    \n",
    "w, MSE = gradient_step_onefeature(X, y, weight, lrate=0.01)\n",
    "\n",
    "assert isinstance(w, float), \"Output `weight` should be a float!\"\n",
    "assert isinstance(MSE, float), \"Output `MSE` should be a float!\""
   ]
  },
  {
   "cell_type": "code",
   "execution_count": 5,
   "metadata": {
    "deletable": false,
    "editable": false,
    "nbgrader": {
     "cell_type": "code",
     "checksum": "c99c4be994d86e7d6dab7212f0365864",
     "grade": false,
     "grade_id": "cell-bae380ea380e69a0",
     "locked": true,
     "schema_version": 3,
     "solution": false,
     "task": false
    },
    "tags": []
   },
   "outputs": [
    {
     "data": {
      "text/html": [
       "<div class=\"main-container\">\n",
       "    <div class=\"title-container\">\n",
       "        <h1 class=\"title\">Congratulations!</h1>\n",
       "        <h3 class=\"subtitle\">You have passed the test cases.</h3>\n",
       "\n",
       "         <div class=\"card-container\">\n",
       "             <div class=\"card card-success\">\n",
       "                 <h2 class=\"card__title\">Test Case 1</h2>\n",
       "                 <div class=\"test-input\">\n",
       "                     <p>Input</p>\n",
       "                     <div class=\"code-block\">\n",
       " <p>x = [[0.22199317]\n",
       " [0.87073231]]</p>\n",
       " <p>y = [[0.20671916]\n",
       " [0.91861091]]</p>\n",
       " <p>lrate = 0.5</p>\n",
       " <p>weight = 0.01</p>       \n",
       "        </div>\n",
       "                 </div>\n",
       "                 <div class=\"test-output\">\n",
       "                     <p>Your Output</p>\n",
       "                     <div class=\"code-block\">(0.4288399389984786, 0.43487223311756806)</div>\n",
       "                 </div>\n",
       "                 <div class=\"test-expected-output\">\n",
       "                     <p>Expected Output</p>\n",
       "                     <div class=\"code-block\">(0.4288399389984786, 0.43487223311756806)</div>\n",
       "                 </div>\n",
       "             </div>\n",
       "         </div>\n",
       "         <div class=\"card-container\">\n",
       "             <div class=\"card card-success\">\n",
       "                 <h2 class=\"card__title\">Test Case 2</h2>\n",
       "                 <div class=\"test-input\">\n",
       "                     <p>Input</p>\n",
       "                     <div class=\"code-block\">\n",
       " <p>x = [[0.61174386]\n",
       " [0.76590786]\n",
       " [0.51841799]\n",
       " [0.2968005 ]]</p>\n",
       " <p>y = [[0.18772123]\n",
       " [0.08074127]\n",
       " [0.7384403 ]\n",
       " [0.44130922]]</p>\n",
       " <p>lrate = 1.0</p>\n",
       " <p>weight = 1.0</p>       \n",
       "        </div>\n",
       "                 </div>\n",
       "                 <div class=\"test-output\">\n",
       "                     <p>Your Output</p>\n",
       "                     <div class=\"code-block\">(0.6863930332906611, 0.17963525849230216)</div>\n",
       "                 </div>\n",
       "                 <div class=\"test-expected-output\">\n",
       "                     <p>Expected Output</p>\n",
       "                     <div class=\"code-block\">(0.6863930332906611, 0.17963525849230216)</div>\n",
       "                 </div>\n",
       "             </div>\n",
       "         </div>\n",
       "         <div class=\"card-container\">\n",
       "             <div class=\"card card-success\">\n",
       "                 <h2 class=\"card__title\">Test Case 3</h2>\n",
       "                 <div class=\"test-input\">\n",
       "                     <p>Input</p>\n",
       "                     <div class=\"code-block\">\n",
       " <p>x = [[0.27408646]\n",
       " [0.41423502]\n",
       " [0.29607993]\n",
       " [0.62878791]\n",
       " [0.57983781]\n",
       " [0.5999292 ]]</p>\n",
       " <p>y = [[0.26581912]\n",
       " [0.28468588]\n",
       " [0.25358821]\n",
       " [0.32756395]\n",
       " [0.1441643 ]\n",
       " [0.16561286]]</p>\n",
       " <p>lrate = 1.5</p>\n",
       " <p>weight = 0.01</p>       \n",
       "        </div>\n",
       "                 </div>\n",
       "                 <div class=\"test-output\">\n",
       "                     <p>Your Output</p>\n",
       "                     <div class=\"code-block\">(0.3302620145732867, 0.05976147812656014)</div>\n",
       "                 </div>\n",
       "                 <div class=\"test-expected-output\">\n",
       "                     <p>Expected Output</p>\n",
       "                     <div class=\"code-block\">(0.3302620145732867, 0.05976147812656014)</div>\n",
       "                 </div>\n",
       "             </div>\n",
       "         </div>\n",
       "         <div class=\"card-container\">\n",
       "             <div class=\"card card-success\">\n",
       "                 <h2 class=\"card__title\">Test Case 4</h2>\n",
       "                 <div class=\"test-input\">\n",
       "                     <p>Input</p>\n",
       "                     <div class=\"code-block\">\n",
       " <p>x = [[0.99598891]\n",
       " [0.47740172]\n",
       " [0.68491561]\n",
       " [0.84337526]\n",
       " [0.61612483]\n",
       " [0.56318751]\n",
       " [0.36816219]\n",
       " [0.6909312 ]]</p>\n",
       " <p>y = [[0.81616768]\n",
       " [0.92564349]\n",
       " [0.00573506]\n",
       " [0.72055957]\n",
       " [0.66705914]\n",
       " [0.19976541]\n",
       " [0.69666493]\n",
       " [0.57541371]]</p>\n",
       " <p>lrate = 1.0</p>\n",
       " <p>weight = 1.0</p>       \n",
       "        </div>\n",
       "                 </div>\n",
       "                 <div class=\"test-output\">\n",
       "                     <p>Your Output</p>\n",
       "                     <div class=\"code-block\">(0.833491278924551, 0.1206943173975559)</div>\n",
       "                 </div>\n",
       "                 <div class=\"test-expected-output\">\n",
       "                     <p>Expected Output</p>\n",
       "                     <div class=\"code-block\">(0.833491278924551, 0.1206943173975559)</div>\n",
       "                 </div>\n",
       "             </div>\n",
       "         </div>\n",
       "         <div class=\"card-container\">\n",
       "             <div class=\"card card-success\">\n",
       "                 <h2 class=\"card__title\">Test Case 5</h2>\n",
       "                 <div class=\"test-input\">\n",
       "                     <p>Input</p>\n",
       "                     <div class=\"code-block\">\n",
       " <p>x = [[0.3989448 ]\n",
       " [0.81373248]\n",
       " [0.5464565 ]\n",
       " [0.77085409]\n",
       " [0.48493107]\n",
       " [0.02911156]\n",
       " [0.08652569]\n",
       " [0.11145381]\n",
       " [0.25124511]\n",
       " [0.96491529]]</p>\n",
       " <p>y = [[0.63176605]\n",
       " [0.8166602 ]\n",
       " [0.566082  ]\n",
       " [0.63535621]\n",
       " [0.81190239]\n",
       " [0.92668262]\n",
       " [0.91262676]\n",
       " [0.82481072]\n",
       " [0.09420273]\n",
       " [0.36104842]]</p>\n",
       " <p>lrate = 0.5</p>\n",
       " <p>weight = 0.1</p>       \n",
       "        </div>\n",
       "                 </div>\n",
       "                 <div class=\"test-output\">\n",
       "                     <p>Your Output</p>\n",
       "                     <div class=\"code-block\">(0.3382900967401642, 0.44543225031718564)</div>\n",
       "                 </div>\n",
       "                 <div class=\"test-expected-output\">\n",
       "                     <p>Expected Output</p>\n",
       "                     <div class=\"code-block\">(0.3382900967401642, 0.44543225031718564)</div>\n",
       "                 </div>\n",
       "             </div>\n",
       "         </div>\n",
       "    </div>\n",
       "</div>"
      ],
      "text/plain": [
       "<IPython.core.display.HTML object>"
      ]
     },
     "execution_count": 5,
     "metadata": {},
     "output_type": "execute_result"
    }
   ],
   "source": [
    "# test your solution \n",
    "from round02 import test_gradient_step_one_feature\n",
    "\n",
    "test_gradient_step_one_feature(gradient_step_onefeature)"
   ]
  },
  {
   "cell_type": "code",
   "execution_count": 6,
   "metadata": {
    "deletable": false,
    "editable": false,
    "nbgrader": {
     "cell_type": "code",
     "checksum": "b0bcc19e561a125e0a5ca90ef356ffbd",
     "grade": true,
     "grade_id": "cell-850ad195e8f09930",
     "locked": true,
     "points": 2,
     "schema_version": 3,
     "solution": false,
     "task": false
    }
   },
   "outputs": [],
   "source": [
    "# hidden tests\n"
   ]
  },
  {
   "cell_type": "markdown",
   "metadata": {
    "deletable": false,
    "editable": false,
    "nbgrader": {
     "cell_type": "markdown",
     "checksum": "f276ebd59b1ee6fd24966f7b27c18c58",
     "grade": false,
     "grade_id": "cell-988a0c530bc19ce6",
     "locked": true,
     "schema_version": 3,
     "solution": false,
     "task": false
    }
   },
   "source": [
    "Now, let's use the `gradient_step_onefeature()` function and define a new function, `GD_onefeature()`, which will repeat the gradient step for a fixed amount of times (epochs)."
   ]
  },
  {
   "cell_type": "code",
   "execution_count": 7,
   "metadata": {
    "deletable": false,
    "editable": false,
    "nbgrader": {
     "cell_type": "code",
     "checksum": "123d7f19cc4a361a99689b35adb6a624",
     "grade": false,
     "grade_id": "cell-4a3575bb4c4ff610",
     "locked": true,
     "schema_version": 3,
     "solution": false,
     "task": false
    }
   },
   "outputs": [],
   "source": [
    "def GD_onefeature(X, y, epochs, lrate):  \n",
    "    \n",
    "    '''\n",
    "    \n",
    "    Function to perform GD for linear predictor and MSE as loss function.\n",
    "    The helper function `gradient_step_onefeature()` performs gradient step for a dataset of size `m`, \n",
    "    where each datapoint has only one feature. \n",
    "    \n",
    "    The inputs to the function are:\n",
    "    \n",
    "    :X       : numpy array of shape (m,1), feature matrix\n",
    "    :y       : numpy array of shape (m,1), label vector \n",
    "    :epochs  : integer number, number of epochs \n",
    "    :lrate   : float number, learning rate or step size; a coefficient alpha used during weight update\n",
    "\n",
    "    The outputs of the function are:\n",
    "    \n",
    "    :weights : list of float numbers, weights returned by `gradient_step_onefeature()` function on each epoch\n",
    "    :losses  : list of float numbers, MSE loss returned by `gradient_step_onefeature()` function on each epoch  \n",
    "    \n",
    "    '''\n",
    "    \n",
    "    # initialize weight value randomly\n",
    "    np.random.seed(42)\n",
    "    weight = np.random.rand()    \n",
    "    # create lists to store the loss and weight values \n",
    "    losses = []\n",
    "    weights = []\n",
    "     \n",
    "    for i in range(epochs):\n",
    "        # run the gradient step for the whole data set\n",
    "        weight, MSE = gradient_step_onefeature(X,y,weight,lrate)\n",
    "        # store current weight and training loss \n",
    "        weights.append(weight)\n",
    "        losses.append(MSE)\n",
    "                       \n",
    "    return weights, losses"
   ]
  },
  {
   "cell_type": "markdown",
   "metadata": {
    "deletable": false,
    "editable": false,
    "nbgrader": {
     "cell_type": "markdown",
     "checksum": "8d4c7169d9763df875589e02c7a8db24",
     "grade": false,
     "grade_id": "cell-f786b3942c413385",
     "locked": true,
     "schema_version": 3,
     "solution": false,
     "task": false
    }
   },
   "source": [
    "The code snippet below uses the sklearn.dataset `make_regression` function to generate data points with features and labels. The feature and label values are obtained from random generators. "
   ]
  },
  {
   "cell_type": "code",
   "execution_count": 8,
   "metadata": {
    "deletable": false,
    "editable": false,
    "nbgrader": {
     "cell_type": "code",
     "checksum": "19005876de64c57e4f991841e841cc76",
     "grade": false,
     "grade_id": "cell-663b4c32a2e5d018",
     "locked": true,
     "schema_version": 3,
     "solution": false,
     "task": false
    }
   },
   "outputs": [
    {
     "name": "stdout",
     "output_type": "stream",
     "text": [
      "Shape of feature matrix X (n_samples, n_features):  (100, 1)\n",
      "Shape of label vector y (n_samples, 1):  (100, 1)\n"
     ]
    }
   ],
   "source": [
    "# generate dataset for regression problem\n",
    "\n",
    "X, y = make_regression(n_samples=100, n_features=1, noise=20, random_state=42) \n",
    "y = y.reshape(-1,1)\n",
    "X = preprocessing.scale(X)\n",
    "\n",
    "print(\"Shape of feature matrix X (n_samples, n_features): \", X.shape)\n",
    "print(\"Shape of label vector y (n_samples, 1): \", y.shape)"
   ]
  },
  {
   "cell_type": "markdown",
   "metadata": {
    "deletable": false,
    "editable": false,
    "nbgrader": {
     "cell_type": "markdown",
     "checksum": "bd53a65d57ef9fe878f0ef01c4ad2653",
     "grade": false,
     "grade_id": "cell-c9f775200ef813cd",
     "locked": true,
     "schema_version": 3,
     "solution": false,
     "task": false
    }
   },
   "source": [
    "We used the sklearn `preprocessing` module ([docs](https://scikit-learn.org/stable/modules/generated/sklearn.preprocessing.scale.html#sklearn-preprocessing-scale)) to scale our features `x`. Learn [here](https://www.youtube.com/watch?v=r5E2X1JdHAU&list=PLLssT5z_DsK-h9vYZkQkYNWcItqhlRJLN&index=20), why it is useful to normalize the data when applying the gradient descent algorithm. \n",
    "\n",
    "Below we use our simple GD algorithm and plot results in two graphs: Loss vs weight values and Loss vs epochs. You can see that weights are converging to the optimum value, resulting in a steep decrease of training loss within first 10 epochs."
   ]
  },
  {
   "cell_type": "markdown",
   "metadata": {
    "deletable": false,
    "editable": false,
    "nbgrader": {
     "cell_type": "markdown",
     "checksum": "8079ec4c933f25705f22c8b04922a7d7",
     "grade": false,
     "grade_id": "cell-2c531e22be633745",
     "locked": true,
     "schema_version": 3,
     "solution": false,
     "task": false
    }
   },
   "source": [
    "<details>\n",
    "    <summary>\n",
    "        <span class=\"summary-title\">Expected plot</span>\n",
    "    </summary>\n",
    "    <div class=\"summary-content\">\n",
    "    <img src=\"../../../coursedata/SGD/expected_plot/GD_onefeature_plot.png\" width=800/>\n",
    "    </div>    \n",
    "</details>"
   ]
  },
  {
   "cell_type": "code",
   "execution_count": 9,
   "metadata": {
    "deletable": false,
    "editable": false,
    "nbgrader": {
     "cell_type": "code",
     "checksum": "90db2ab2e9dc9b42575bfbab5747240b",
     "grade": false,
     "grade_id": "cell-b4ce18fd464b6ab3",
     "locked": true,
     "schema_version": 3,
     "solution": false,
     "task": false
    }
   },
   "outputs": [
    {
     "data": {
      "image/png": "[encoded data removed]",
      "text/plain": [
       "<Figure size 1000x300 with 2 Axes>"
      ]
     },
     "metadata": {},
     "output_type": "display_data"
    }
   ],
   "source": [
    "# set epoches and learning rate\n",
    "epochs = 100\n",
    "lrate = 0.1\n",
    "\n",
    "# call GD_onefeature() function \n",
    "weights, losses = GD_onefeature(X, y, epochs, lrate)\n",
    "\n",
    "# plot loss and weight values\n",
    "fig, ax = plt.subplots(1,2, figsize=(10,3), sharey=True)\n",
    "\n",
    "# Loss vs weights plot\n",
    "ax[0].scatter(weights, losses)\n",
    "ax[0].set_xlabel(\"weight\", fontsize=16)\n",
    "ax[0].set_ylabel(\"Loss\", fontsize=16)\n",
    "\n",
    "# Loss vs epoch plot\n",
    "ax[1].plot(range(epochs), losses)\n",
    "ax[1].set_xlabel(\"epoch\", fontsize=16)\n",
    "\n",
    "plt.show()"
   ]
  },
  {
   "cell_type": "markdown",
   "metadata": {
    "deletable": false,
    "editable": false,
    "nbgrader": {
     "cell_type": "markdown",
     "checksum": "bee7ed6eaae8d47ddba609b0cdec5536",
     "grade": false,
     "grade_id": "cell-d745d2e5ff5696e5",
     "locked": true,
     "schema_version": 3,
     "solution": false,
     "task": false
    }
   },
   "source": [
    "<a id='St2'></a>\n",
    "<div class=\" alert alert-warning\">\n",
    "   <h3><b>STUDENT TASK 2.2.</b> GRADIENT DESCENT - LEARNING RATE. </h3> [2 points]\n",
    "\n",
    "Your task is to try out different learning rates for the GD implementation provided in the function `GD_onefeature()`. For each value of the learning rates in the list `lrates` run the function `GD_onefeature()` that returns the sequence of weights $w^{(1)},w^{(2)},\\ldots$ and corresponding loss values $f\\big(w^{(1)}\\big),f\\big(w^{(2)}\\big)$. Store these sequences in the lists `weights_list` and `loss_list`, respectively. For each learning rate, depict the trajectory of GD given by the points $\\big(w^{(k)},f\\big(w^{(k)}\\big)\\big)$, index by the GD iteration number $k$, in a plot with horizontal axis representing the weight values and vertical axis representing the loss function values (see plot below for reference). <br>\n",
    "</div>"
   ]
  },
  {
   "cell_type": "markdown",
   "metadata": {
    "deletable": false,
    "editable": false,
    "nbgrader": {
     "cell_type": "markdown",
     "checksum": "80d34ce1967e85be87a32e344188f6bd",
     "grade": false,
     "grade_id": "cell-0f7d75b7846520e9",
     "locked": true,
     "schema_version": 3,
     "solution": false,
     "task": false
    }
   },
   "source": [
    "<details>\n",
    "    <summary>\n",
    "        <span class=\"summary-title\">Expected plot</span>\n",
    "    </summary>\n",
    "    <div class=\"summary-content\">\n",
    "    <img src=\"../../../coursedata/SGD/expected_plot/STlrate.png\" width=460/>\n",
    "    </div>    \n",
    "</details>"
   ]
  },
  {
   "cell_type": "code",
   "execution_count": 11,
   "metadata": {
    "deletable": false,
    "nbgrader": {
     "cell_type": "code",
     "checksum": "664a65d93b77a31074d2f5005c088216",
     "grade": false,
     "grade_id": "cell-811a8a4d8714a5ce",
     "locked": false,
     "schema_version": 3,
     "solution": true,
     "task": false
    }
   },
   "outputs": [
    {
     "data": {
      "image/png": "[encoded data removed]",
      "text/plain": [
       "<Figure size 600x400 with 1 Axes>"
      ]
     },
     "metadata": {},
     "output_type": "display_data"
    }
   ],
   "source": [
    "import matplotlib.pyplot as plt\n",
    "import numpy as np\n",
    "\n",
    "# Given GD_onefeature() function\n",
    "\n",
    "def gradient_step_onefeature(X, y, weight, lrate):\n",
    "    y_hat = X * weight\n",
    "    MSE = np.mean((y - y_hat)**2)\n",
    "    grad_w = -2 * np.mean(X * (y - y_hat))\n",
    "    weight = weight - lrate * grad_w\n",
    "    return weight, MSE\n",
    "\n",
    "def GD_onefeature(X, y, initial_weight, lrate, epochs):\n",
    "    weights = np.zeros(epochs + 1)\n",
    "    losses = np.zeros(epochs + 1)\n",
    "    weight = initial_weight\n",
    "    weights[0] = weight\n",
    "    for epoch in range(epochs):\n",
    "        weight, MSE = gradient_step_onefeature(X, y, weight, lrate)\n",
    "        weights[epoch + 1] = weight\n",
    "        losses[epoch] = MSE\n",
    "    return weights, losses\n",
    "\n",
    "# Given parameters\n",
    "epochs = 100\n",
    "lrates = [0.001, 0.01, 0.1, 0.9]\n",
    "\n",
    "# Initialize figure\n",
    "fig = plt.figure(figsize=(6, 4))\n",
    "weights_list = []\n",
    "loss_list = []\n",
    "\n",
    "# Iterate over learning rates\n",
    "for lrate in lrates:\n",
    "    # Generate synthetic data for demonstration\n",
    "    np.random.seed(42)\n",
    "    X = 2 * np.random.rand(100, 1)\n",
    "    y = 4 + 3 * X + np.random.randn(100, 1)\n",
    "\n",
    "    # Standardize X (for stability)\n",
    "    X = (X - np.mean(X)) / np.std(X)\n",
    "\n",
    "    # Run GD for the current learning rate\n",
    "    weights, losses = GD_onefeature(X, y, initial_weight=0, lrate=lrate, epochs=epochs)\n",
    "\n",
    "    # Append results to lists\n",
    "    weights_list.append(weights)\n",
    "    loss_list.append(losses)\n",
    "\n",
    "# Plot results\n",
    "for i, lrate in enumerate(lrates):\n",
    "    plt.plot(weights_list[i], loss_list[i], label=f\"lrate {lrate}\")\n",
    "\n",
    "plt.xlabel(\"Weight\", fontsize=16)\n",
    "plt.ylabel(\"Loss\", fontsize=16)\n",
    "plt.legend()\n",
    "plt.show()\n"
   ]
  },
  {
   "cell_type": "code",
   "execution_count": 12,
   "metadata": {
    "deletable": false,
    "editable": false,
    "nbgrader": {
     "cell_type": "code",
     "checksum": "df53aef81d8a6bb0e14941aaac6174fb",
     "grade": false,
     "grade_id": "cell-aa358a025eb64e94",
     "locked": true,
     "schema_version": 3,
     "solution": false,
     "task": false
    }
   },
   "outputs": [
    {
     "ename": "AssertionError",
     "evalue": "Length of list `weights_list[0]` should be equal to epoch number",
     "output_type": "error",
     "traceback": [
      "\u001b[0;31m---------------------------------------------------------------------------\u001b[0m",
      "\u001b[0;31mAssertionError\u001b[0m                            Traceback (most recent call last)",
      "Cell \u001b[0;32mIn[12], line 3\u001b[0m\n\u001b[1;32m      1\u001b[0m \u001b[38;5;66;03m# Sanity checks\u001b[39;00m\n\u001b[1;32m      2\u001b[0m \u001b[38;5;28;01massert\u001b[39;00m \u001b[38;5;28mlen\u001b[39m(weights_list)\u001b[38;5;241m==\u001b[39m\u001b[38;5;28mlen\u001b[39m(lrates), \u001b[38;5;124m\"\u001b[39m\u001b[38;5;124mLength of list `weights_list` should be equal to length of `lrates`\u001b[39m\u001b[38;5;124m\"\u001b[39m\n\u001b[0;32m----> 3\u001b[0m \u001b[38;5;28;01massert\u001b[39;00m \u001b[38;5;28mlen\u001b[39m(weights_list[\u001b[38;5;241m0\u001b[39m])\u001b[38;5;241m==\u001b[39mepochs, \u001b[38;5;124m\"\u001b[39m\u001b[38;5;124mLength of list `weights_list[0]` should be equal to epoch number\u001b[39m\u001b[38;5;124m\"\u001b[39m\n\u001b[1;32m      4\u001b[0m \u001b[38;5;28;01massert\u001b[39;00m \u001b[38;5;28mlen\u001b[39m(loss_list)\u001b[38;5;241m==\u001b[39m\u001b[38;5;28mlen\u001b[39m(lrates), \u001b[38;5;124m\"\u001b[39m\u001b[38;5;124mLength of list `loss_list` should be equal to length of `lrates`\u001b[39m\u001b[38;5;124m\"\u001b[39m\n\u001b[1;32m      5\u001b[0m \u001b[38;5;28;01massert\u001b[39;00m \u001b[38;5;28mlen\u001b[39m(loss_list[\u001b[38;5;241m0\u001b[39m])\u001b[38;5;241m==\u001b[39mepochs, \u001b[38;5;124m\"\u001b[39m\u001b[38;5;124mLength of list `loss_list[0]` should be equal to epoch number\u001b[39m\u001b[38;5;124m\"\u001b[39m\n",
      "\u001b[0;31mAssertionError\u001b[0m: Length of list `weights_list[0]` should be equal to epoch number"
     ]
    }
   ],
   "source": [
    "# Sanity checks\n",
    "assert len(weights_list)==len(lrates), \"Length of list `weights_list` should be equal to length of `lrates`\"\n",
    "assert len(weights_list[0])==epochs, \"Length of list `weights_list[0]` should be equal to epoch number\"\n",
    "assert len(loss_list)==len(lrates), \"Length of list `loss_list` should be equal to length of `lrates`\"\n",
    "assert len(loss_list[0])==epochs, \"Length of list `loss_list[0]` should be equal to epoch number\""
   ]
  },
  {
   "cell_type": "code",
   "execution_count": 13,
   "metadata": {
    "deletable": false,
    "editable": false,
    "nbgrader": {
     "cell_type": "code",
     "checksum": "e359448a35587078d6beeab740568d97",
     "grade": true,
     "grade_id": "cell-6bffb19cd2e7f648",
     "locked": true,
     "points": 1,
     "schema_version": 3,
     "solution": false,
     "task": false
    }
   },
   "outputs": [],
   "source": [
    "# hidden tests\n"
   ]
  },
  {
   "cell_type": "code",
   "execution_count": 14,
   "metadata": {
    "deletable": false,
    "editable": false,
    "nbgrader": {
     "cell_type": "code",
     "checksum": "f011875b1492f7e34df7b7b52e073031",
     "grade": true,
     "grade_id": "cell-13c46b047c6751a7",
     "locked": true,
     "points": 1,
     "schema_version": 3,
     "solution": false,
     "task": false
    }
   },
   "outputs": [],
   "source": [
    "# hidden test\n"
   ]
  },
  {
   "cell_type": "markdown",
   "metadata": {
    "deletable": false,
    "editable": false,
    "nbgrader": {
     "cell_type": "markdown",
     "checksum": "e71d634aca6fa4bb87b555c049292cfc",
     "grade": false,
     "grade_id": "cell-8e6ed71ea6242596",
     "locked": true,
     "schema_version": 3,
     "solution": false,
     "task": false
    }
   },
   "source": [
    "Based on the graph, which learning rate values do you think are suboptimal? What will happen if learning rate `lrate= 1` is used?\n",
    "\n",
    "Below we plot data points and linear predictors with weights computed at 1st, 50th and 100th epochs for each learning rate."
   ]
  },
  {
   "cell_type": "code",
   "execution_count": 15,
   "metadata": {
    "deletable": false,
    "editable": false,
    "nbgrader": {
     "cell_type": "code",
     "checksum": "8025d1a6b73cc01f4a88ee5df94262dc",
     "grade": false,
     "grade_id": "cell-3a7b8b2316971726",
     "locked": true,
     "schema_version": 3,
     "solution": false,
     "task": false
    }
   },
   "outputs": [
    {
     "data": {
      "image/png": "[encoded data removed]",
      "text/plain": [
       "<Figure size 1500x400 with 4 Axes>"
      ]
     },
     "metadata": {},
     "output_type": "display_data"
    }
   ],
   "source": [
    "fig, ax = plt.subplots(1,4, sharey=True, figsize=(15,4))\n",
    "\n",
    "for i in range(len(lrates)):\n",
    "        x_grid = np.linspace(X.min(),X.max(),100)     # x-axis values for plotting\n",
    "        y_pred_1 = weights_list[i][0]*x_grid          # get weight computed at epoch 1 and compute predictions\n",
    "        y_pred_50 = weights_list[i][49]*x_grid        # epoch 50\n",
    "        y_pred_100 = weights_list[i][99]*x_grid       # epoch 100\n",
    "        \n",
    "        ax[i].scatter(X,y) # plot data points\n",
    "        ax[i].plot(x_grid, y_pred_1, label=\"epoch 1\", c='k')      # plot predictor with weight at epoch 1\n",
    "        ax[i].plot(x_grid, y_pred_50, label=\"epoch 50\", c='g')    # plot predictor with weight at epoch 50\n",
    "        ax[i].plot(x_grid, y_pred_100, label=\"epoch 100\", c='r')  # plot predictor with weight at epoch 100\n",
    "        \n",
    "        # remove top and right subplot's frames \n",
    "        ax[i].spines['top'].set_visible(False)\n",
    "        ax[i].spines['right'].set_visible(False)\n",
    "        # set subplot's title\n",
    "        ax[i].set_title(\"lrate = \"+str(lrates[i]), fontsize=18)\n",
    "\n",
    "ax[3].legend()\n",
    "plt.ylim(-150,150)      \n",
    "plt.show()       "
   ]
  },
  {
   "cell_type": "markdown",
   "metadata": {
    "deletable": false,
    "editable": false,
    "nbgrader": {
     "cell_type": "markdown",
     "checksum": "047a1fa074dfa85e730fe4f82e970cab",
     "grade": false,
     "grade_id": "cell-21024b817ac1e1a3",
     "locked": true,
     "schema_version": 3,
     "solution": false,
     "task": false
    }
   },
   "source": [
    "<a id='St3'></a>\n",
    "<div class=\" alert alert-success\">\n",
    "    <h3><b>STUDENT TASK 2.3. (OPTIONAL, not graded) . </b> GRADIENT DESCENT. </h3> \n",
    "    \n",
    "This is an <strong>optional (not graded!)</strong> task where you will try vectorized implementation of GD for data points with many features. You will need the knowledge of matrix multiplication for completing the task.\n",
    "    \n",
    "    \n",
    "Write a gradient descent implementation for a dataset of size $m$, where $i$th datapoint is characterized by $n$ features stored in feature vector $\\mathbf{x}^{(i)}$.\n",
    "\n",
    "The feature vectors of each datapoint are stored in a matrix $X$ of shape $(m,n)$. The true labels of datapoints are stored in the label vector $\\mathbf{y}$ of shape $(m,1)$. \n",
    "\n",
    "You need to implement similar steps as previously, but in this case the loss function is:\n",
    "\n",
    "\\begin{align} \n",
    "f\\big( \\mathbf{w}\\big)= (1/m) \\sum_{i=1}^{m}\\big(y^{(i)} - \\mathbf{w}^{T} \\mathbf{x}^{(i)} \\big)^2\n",
    "\\end{align}\n",
    "    \n",
    "    \n",
    "and the gradient:\n",
    "    \n",
    "\\begin{align} \n",
    "\\nabla f\\big( \\mathbf{w}^{(k)} \\big)= - (2/m) \\sum_{i=1}^{m}\\mathbf{x}^{(i)} \\big(y^{(i)} - \\big( \\mathbf{w}^{(k)}\\big)^{T} \\mathbf{x}^{(i)} \\big) \\big)\n",
    "\\end{align}\n",
    "    \n",
    "where $\\mathbf{x}^{(i)}$ and  $\\mathbf{w}$ are arrays of shape $(n,1)$ and $n$ is a number of features.\n",
    "</div>\n",
    "\n"
   ]
  },
  {
   "cell_type": "markdown",
   "metadata": {
    "deletable": false,
    "editable": false,
    "nbgrader": {
     "cell_type": "markdown",
     "checksum": "a29bf2c805ae9e91a9fc53c6ca9bfcdd",
     "grade": false,
     "grade_id": "cell-94ac1f19a0bf58bd",
     "locked": true,
     "schema_version": 3,
     "solution": false,
     "task": false
    }
   },
   "source": [
    "<details>\n",
    "    <summary>\n",
    "        <span class=\"summary-title\">Hints</span>\n",
    "    </summary>\n",
    "    <div class=\"summary-content\">\n",
    "\n",
    "To implement the vectorized GD, you can use following formulas:\n",
    "\n",
    "$\n",
    "\\begin{align}\n",
    "  \\mathbf{\\hat{y}} &= X \\times \\mathbf{w} \\\\\n",
    "  \\\\\n",
    "  MSE &= \\frac{1}{m}  \\Sigma_{i=1}^m{(\\mathbf{y} - \\mathbf{\\hat{y}})^2} \\\\\n",
    "  \\\\\n",
    "  \\nabla f\\big( \\mathbf{w} \\big) &= - \\frac{2}{m} X^T \\times (\\mathbf{y} - \\mathbf{\\hat{y}}) \\\\\n",
    "  \\\\\n",
    "  \\mathbf{w} &= \\mathbf{w} - \\alpha \\nabla f\\big( \\mathbf{w} \\big)\n",
    "\\end{align}\n",
    "$\n",
    "\n",
    "where: <br>\n",
    " $\\times$ represents the matrix multiplication (`@` operator in numpy) and $T$ is a transpose operator.\n",
    "     </div>    \n",
    "</details>    "
   ]
  },
  {
   "cell_type": "code",
   "execution_count": null,
   "metadata": {
    "deletable": false,
    "nbgrader": {
     "cell_type": "code",
     "checksum": "abbadc2f84838d775628a385eb6b9157",
     "grade": false,
     "grade_id": "cell-fe84e9067c0aa837",
     "locked": false,
     "schema_version": 3,
     "solution": true,
     "task": false
    }
   },
   "outputs": [],
   "source": [
    "def gradient_step(X, y, weight, lrate):\n",
    "    \n",
    "    '''\n",
    "    \n",
    "    Function for performing gradient descent step for linear predictor and MSE as a loss function.\n",
    "    \n",
    "    The inputs to the function are:\n",
    "    \n",
    "    :X:      numpy array of shape (m,n), feature matrix\n",
    "    :y:      numpy array of shape (m,1), label vector \n",
    "    :weight: numpy array of shape (n,1), weight vector\n",
    "    :lrate:  float number, learning rate or step size; a coefficient alpha used during weight update\n",
    "\n",
    "    The outputs of the function are:\n",
    "    \n",
    "    :weight: numpy array of shape (n,1), updated weight vector\n",
    "    :MSE:    float number, MSE loss on the dataset (X,y)   \n",
    "    \n",
    "    '''\n",
    "    \n",
    "# YOUR CODE HERE\n",
    "raise NotImplementedError()\n",
    "    \n",
    "    # performing Gradient Step:\n",
    "\n",
    "    # 1. Compute predictions, given the feature matrix X of shape (m,n) and weight vector w of shape (n,1).\n",
    "    #    Predictions should be stored in an array `y_hat` of shape (m,1).\n",
    "    # y_hat = ...\n",
    "    \n",
    "    # 2. compute MSE loss\n",
    "    # MSE = ...\n",
    "    \n",
    "    # 3. compute average gradient of loss function\n",
    "    # gradient = ...\n",
    "    \n",
    "    # 4. update the weights\n",
    "    # weight = ...\n",
    "    \n",
    "    return weight, MSE "
   ]
  },
  {
   "cell_type": "code",
   "execution_count": null,
   "metadata": {
    "deletable": false,
    "editable": false,
    "nbgrader": {
     "cell_type": "code",
     "checksum": "96c07b6e23cd04afe79aa96be2351902",
     "grade": false,
     "grade_id": "cell-f7aa818e7be52c49",
     "locked": true,
     "schema_version": 3,
     "solution": false,
     "task": false
    }
   },
   "outputs": [],
   "source": [
    "# test your solution \n",
    "from round02 import test_gradient_step\n",
    "\n",
    "test_gradient_step(gradient_step)"
   ]
  },
  {
   "cell_type": "markdown",
   "metadata": {
    "deletable": false,
    "editable": false,
    "nbgrader": {
     "cell_type": "markdown",
     "checksum": "da51a8f415fc9cd0d2580293dda2a4ba",
     "grade": false,
     "grade_id": "cell-47e93370eaaec0a6",
     "locked": true,
     "schema_version": 3,
     "solution": false,
     "task": false
    }
   },
   "source": [
    "Now, let's use the completed `gradient_step()` function and define the `GD()` function that will repeat the gradient step for fixed amounts of times (epochs)."
   ]
  },
  {
   "cell_type": "code",
   "execution_count": null,
   "metadata": {
    "deletable": false,
    "editable": false,
    "nbgrader": {
     "cell_type": "code",
     "checksum": "c309471782aab177166746006f1b0fd9",
     "grade": false,
     "grade_id": "cell-6e70b0a0a2d5117d",
     "locked": true,
     "schema_version": 3,
     "solution": false,
     "task": false
    }
   },
   "outputs": [],
   "source": [
    "def GD(X, y, epochs, lrate):  \n",
    "    \n",
    "    '''\n",
    "    \n",
    "    Function to perform GD for linear predictor and MSE as loss function.\n",
    "    The helper function `gradient_step` performs gradient step for dataset of size `m`, \n",
    "    where each datapoint has `n` features. \n",
    "    \n",
    "    The inputs to the function are:\n",
    "    \n",
    "    :X:      numpy array of shape (m,n), feature matrix\n",
    "    :y:      numpy array of shape (m,1), label vector \n",
    "    :epochs: integer number, number of epochs \n",
    "    :lrate:  float number, learning rate or step size; a coefficient alpha used during weight update\n",
    "\n",
    "    \n",
    "    The outputs of the function are:\n",
    "    \n",
    "    :weights: list of numpy arrays, weights returned by `gradient_step()` function on each epoch\n",
    "    :losses:  list of float numbers, MSE loss returned by `gradient_step()` function on each epoch  \n",
    "    \n",
    "    '''\n",
    "    \n",
    "    # initialize the weight vector randomly\n",
    "    np.random.seed(42)\n",
    "    weight = np.random.rand(X.shape[1],1)    \n",
    "    # create a list to store the loss values \n",
    "    weights = []\n",
    "    losses = []\n",
    "     \n",
    "    for i in range(epochs):\n",
    "        # run the gradient step for the whole dataset\n",
    "        weight, MSE = gradient_step(X, y, weight, lrate)\n",
    "        # store the MSE loss of each batch of each epoch\n",
    "        weights.append(weight)\n",
    "        losses.append(MSE)\n",
    "                       \n",
    "    return weights, losses"
   ]
  },
  {
   "cell_type": "code",
   "execution_count": null,
   "metadata": {
    "deletable": false,
    "editable": false,
    "nbgrader": {
     "cell_type": "code",
     "checksum": "347c5cbcd63ddad5bb58e49591c103e5",
     "grade": false,
     "grade_id": "cell-aaff04830999aeb3",
     "locked": true,
     "schema_version": 3,
     "solution": false,
     "task": false
    }
   },
   "outputs": [],
   "source": [
    "# generate a dataset for a regression problem\n",
    "# in this case we will set number of features to four\n",
    "\n",
    "X2, y2 = make_regression(n_samples=100, n_features=4, noise=20, random_state=42) \n",
    "y2 = y2.reshape(-1,1)\n",
    "\n",
    "X2 = preprocessing.scale(X2)\n",
    "\n",
    "print(\"Shape of feature matrix X2 (n_samples, n_features): \", X2.shape)\n",
    "print(\"Shape of label vector y2 (n_samples, 1): \", y2.shape)"
   ]
  },
  {
   "cell_type": "markdown",
   "metadata": {
    "deletable": false,
    "editable": false,
    "nbgrader": {
     "cell_type": "markdown",
     "checksum": "cb536089805501c300015ae946a837af",
     "grade": false,
     "grade_id": "cell-5886c6547293019b",
     "locked": true,
     "schema_version": 3,
     "solution": false,
     "task": false
    }
   },
   "source": [
    "<details>\n",
    "    <summary>\n",
    "        <span class=\"summary-title\">Expected plot</span>\n",
    "    </summary>\n",
    "    <div class=\"summary-content\">\n",
    "    <img src=\"../../../coursedata/SGD/expected_plot/GD_plot.png\" width=600/>\n",
    "    </div>    \n",
    "</details>"
   ]
  },
  {
   "cell_type": "code",
   "execution_count": null,
   "metadata": {
    "deletable": false,
    "editable": false,
    "nbgrader": {
     "cell_type": "code",
     "checksum": "539bf211db591288beb022cbef3fa961",
     "grade": false,
     "grade_id": "cell-1d16b774ab7239a5",
     "locked": true,
     "schema_version": 3,
     "solution": false,
     "task": false
    }
   },
   "outputs": [],
   "source": [
    "# set epoch and learning rate\n",
    "epochs = 100\n",
    "lrate = 0.1\n",
    "\n",
    "# store results\n",
    "(weights, losses) = GD(X2, y2, epochs, lrate)\n",
    "\n",
    "# print the cost function\n",
    "fig,ax = plt.subplots(figsize=(8,4))\n",
    "\n",
    "ax.set_ylabel('Loss', fontsize=16)\n",
    "ax.set_xlabel('epochs', fontsize=16)\n",
    "ax.plot(range(epochs), losses, 'b.')\n",
    "\n",
    "plt.show()"
   ]
  },
  {
   "cell_type": "markdown",
   "metadata": {
    "deletable": false,
    "editable": false,
    "nbgrader": {
     "cell_type": "markdown",
     "checksum": "4d08c0439808a635f95fb53bbd1296e5",
     "grade": false,
     "grade_id": "cell-dfd4b62673e3f59b",
     "locked": true,
     "schema_version": 3,
     "solution": false,
     "task": false
    }
   },
   "source": [
    "<a id='St4'></a>\n",
    "<div class=\" alert alert-warning\">\n",
    "    <h3><b>STUDENT TASK 2.4.</b> Compare your implementation with sklearn `LinearRegression` class. </h3>\n",
    "    [0.25 points]\n",
    "    \n",
    "We can compare the optimal weights learned by our simple algorithm and the optimal weight calculated by Sklearn's <a href=https://scikit-learn.org/stable/modules/generated/sklearn.linear_model.LinearRegression.html>LinearRegression</a> class. This class does not use iterative gradient-based algorithms but rather calculate the optimal weight analytically <a href=\"https://en.wikipedia.org/wiki/Linear_least_squares\">learn more here</a>.\n",
    "\n",
    "Retrieve weight returned by `GD_onefeature()` function on the last epoch. Store it in a variable `gd_weight`.\n",
    "Note if weight returned by `GD_onefeature()` is similar to the optimal weight returned by sklearn `LinearRegression()` class. \n",
    "</div>"
   ]
  },
  {
   "cell_type": "code",
   "execution_count": null,
   "metadata": {
    "deletable": false,
    "nbgrader": {
     "cell_type": "code",
     "checksum": "8d15f8eca354a5a7b72af9e730623fb0",
     "grade": false,
     "grade_id": "cell-768f3b5086d9d2bc",
     "locked": false,
     "schema_version": 3,
     "solution": true,
     "task": false
    }
   },
   "outputs": [],
   "source": [
    "# set epoch and learning rate\n",
    "epochs = 100\n",
    "lrate = 0.1\n",
    "\n",
    "# create a linear regression model \n",
    "reg = LinearRegression(fit_intercept=False) \n",
    "# fit the linear regression model\n",
    "reg.fit(X, y)\n",
    "# print the optimal coefficients\n",
    "print(f'Optimal weights calculated by the LinearRegression model: {reg.coef_.reshape(-1,)}')\n",
    "\n",
    "# YOUR CODE HERE\n",
    "raise NotImplementedError()\n",
    "\n",
    "# retrieve weight values returned by `GD_onefeature()` on the LAST epoch\n",
    "#gd_weight = ...\n",
    "\n",
    "print(f'{\" \"*9} Optimal weights calculated by the GD algorithm: {gd_weight.reshape(-1,)}')"
   ]
  },
  {
   "cell_type": "code",
   "execution_count": null,
   "metadata": {
    "deletable": false,
    "editable": false,
    "nbgrader": {
     "cell_type": "code",
     "checksum": "ad9952ade102e5a533a5678620515b01",
     "grade": false,
     "grade_id": "cell-87e4e9c976e542b4",
     "locked": true,
     "schema_version": 3,
     "solution": false,
     "task": false
    }
   },
   "outputs": [],
   "source": [
    "# Sanity check\n",
    "from numpy.testing import assert_almost_equal\n",
    "assert_almost_equal(reg.coef_.reshape(-1,), gd_weight.reshape(-1,), err_msg=\"reg.coef_ and gd_weight should be equal! \")"
   ]
  },
  {
   "cell_type": "code",
   "execution_count": null,
   "metadata": {
    "deletable": false,
    "editable": false,
    "nbgrader": {
     "cell_type": "code",
     "checksum": "92cd84083c42f0989d931559f616eab1",
     "grade": true,
     "grade_id": "cell-d268e98b5be767f7",
     "locked": true,
     "points": 0.25,
     "schema_version": 3,
     "solution": false,
     "task": false
    }
   },
   "outputs": [],
   "source": [
    "# hidden test\n"
   ]
  },
  {
   "cell_type": "markdown",
   "metadata": {
    "deletable": false,
    "editable": false,
    "nbgrader": {
     "cell_type": "markdown",
     "checksum": "61f30fbe346aece2ff663779dd2d4244",
     "grade": false,
     "grade_id": "cell-5b81fb9fdb99f93d",
     "locked": true,
     "schema_version": 3,
     "solution": false,
     "task": false
    }
   },
   "source": [
    "With correct implementation of `gradient_step_onefeature()` you should see that optimal weight value returned by our algorithm and `LinearRegression` are close (equal to 7 decimal places). Thus, our simple gradient descent algorithm does not deviate too much from the `Sklearn` implementation of linear regression. "
   ]
  },
  {
   "cell_type": "markdown",
   "metadata": {
    "deletable": false,
    "editable": false,
    "nbgrader": {
     "cell_type": "markdown",
     "checksum": "571ce7c9bdffa8fb3e40e5db614716b5",
     "grade": false,
     "grade_id": "cell-bbaa97e8321c59a7",
     "locked": true,
     "schema_version": 3,
     "solution": false,
     "task": false
    }
   },
   "source": [
    "<a id='St5'></a>\n",
    "<div class=\" alert alert-success\">\n",
    "     <h3><b>STUDENT TASK 2.5. (OPTIONAL, not graded). </b> STOPPING CRITERIA. </h3>\n",
    "    \n",
    "Your task is to modify <code>GD_onefeature()</code> or <code>GD()</code> code and introduce stopping criteria other than a fixed number of iterations (epochs). You will need to compare loss values returned on the last two epochs and stop GD when the loss will stop decreasing significantly (e.g. the loss decrease is less than 1e-6). In addition, introduce a maximum number of epochs GD can perform, in order to prevent GD from running for a long time. The function should return weight(s) and loss value on the last iteration, and the number of epochs performed.\n",
    "    \n",
    "</div>"
   ]
  },
  {
   "cell_type": "markdown",
   "metadata": {
    "deletable": false,
    "editable": false,
    "nbgrader": {
     "cell_type": "markdown",
     "checksum": "69d102e2514604aae066731f73d0cf9f",
     "grade": false,
     "grade_id": "cell-38261cb510dfb699",
     "locked": true,
     "schema_version": 3,
     "solution": false,
     "task": false
    }
   },
   "source": [
    "<details>\n",
    "    <summary>\n",
    "        <span class=\"summary-title\">Hints</span>\n",
    "    </summary>\n",
    " <div class=\"summary-content\">\n",
    "     <ul>\n",
    " <li> You can use for-loop to iterate epoch times (maximum number of iterations) and if loop to check if the stopping condition(s) is true.</li>\n",
    " <li> You can use `math.isclose()` function to compare 2 values to desired precision.</li>\n",
    "     </ul>\n",
    "  </div>    \n",
    "</details>    "
   ]
  },
  {
   "cell_type": "code",
   "execution_count": null,
   "metadata": {
    "deletable": false,
    "nbgrader": {
     "cell_type": "code",
     "checksum": "c8962b8844b1f9fb3388a94e9b8f30c8",
     "grade": false,
     "grade_id": "cell-7bd15f464106855b",
     "locked": false,
     "schema_version": 3,
     "solution": true,
     "task": false
    }
   },
   "outputs": [],
   "source": [
    "import math\n",
    "\n",
    "def GD_stop(X, y, epochs, lrate):  \n",
    "    \n",
    "    '''\n",
    "    \n",
    "    Function for performing GD for linear predictor and MSE as loss function.\n",
    "    The helper function `gradient_step_onefeature()` performs gradient step for dataset of size `m`, \n",
    "    where each datapoint has one feature. \n",
    "    \n",
    "    The inputs to the function are:\n",
    "    \n",
    "    :X:      numpy array of shape (m,n), feature matrix\n",
    "    :y:      numpy array of shape (m,1), label vector \n",
    "    :epochs: integer number, number of epochs \n",
    "    :lrate:  float number, learning rate or step size; a coefficient alpha used during weight update\n",
    "\n",
    "    \n",
    "    The outputs of the function are:\n",
    "    \n",
    "    :weights: list of numpy arrays, weights returned by `gradient_step()` function on each epoch\n",
    "    :losses:  list of float numbers, MSE loss returned by `gradient_step()` function on each epoch  \n",
    "    \n",
    "    '''\n",
    "    \n",
    "# YOUR CODE HERE\n",
    "raise NotImplementedError()\n",
    "\n",
    "    return weight, loss, iterations"
   ]
  },
  {
   "cell_type": "code",
   "execution_count": null,
   "metadata": {
    "deletable": false,
    "editable": false,
    "nbgrader": {
     "cell_type": "code",
     "checksum": "02642b99e30362b431a3fdbcc881b1dc",
     "grade": false,
     "grade_id": "cell-4f78dace1c91a426",
     "locked": true,
     "schema_version": 3,
     "solution": false,
     "task": false
    }
   },
   "outputs": [],
   "source": [
    "# set learning rate\n",
    "lrate = 0.1\n",
    "epochs = 100\n",
    "\n",
    "# store the results\n",
    "(weight, loss, iterations) = GD_stop(X, y, epochs, lrate)\n",
    "\n",
    "print(f'Number of epochs: {iterations}\\nLoss: {loss}\\nWeights:{weight}')"
   ]
  },
  {
   "cell_type": "markdown",
   "metadata": {
    "deletable": false,
    "editable": false,
    "nbgrader": {
     "cell_type": "markdown",
     "checksum": "95babe2691885c7dc1cfe322b400d3c7",
     "grade": false,
     "grade_id": "cell-d1ebe1415256d4b6",
     "locked": true,
     "schema_version": 3,
     "solution": false,
     "task": false
    }
   },
   "source": [
    "Note if algorithm stopped earlier than epochs set. Try to change tolerance parameters in `math.isclose()` and see if there is a difference."
   ]
  },
  {
   "cell_type": "markdown",
   "metadata": {
    "deletable": false,
    "editable": false,
    "nbgrader": {
     "cell_type": "markdown",
     "checksum": "ec72f8151fc6058dd8f324927dd910d8",
     "grade": false,
     "grade_id": "cell-9a0211637fcab536",
     "locked": true,
     "schema_version": 3,
     "solution": false,
     "task": false
    }
   },
   "source": [
    "<div class=\"wrap-up\">\n",
    "    <div class=\"wrap-up-title\">Wrap up - Gradient Descent</div><br>\n",
    "    <div class=\"wrap-up-content\">\n",
    "        <ul>\n",
    "          <li>Gradient Descent (GD) is one of the most popular optimization methods used in the training of artificial neural networks.</li>\n",
    "          <li>GD is an iterative algorithm used to find optimal parameters (weights and biases) of the model (ANN).</li>\n",
    "          <li>GD makes small steps in the opposite direction of the gradient, which is also the direction of the steepest descent.</li>\n",
    "          <li>Learning rate of GD will define how big are steps made in order to reach the minimum of the loss function.</li>\n",
    "          <li>If the learning rate is too small, it will take a long time for GD to learn optimal weights. If the learning rate is too high, GD parameters update will overshoot the minimum of the loss function and loss values will fluctuate around the minimum, or in the worst case, GD may diverge.</li>\n",
    "        </ul>\n",
    "    </div>\n",
    "</div>"
   ]
  },
  {
   "cell_type": "markdown",
   "metadata": {
    "deletable": false,
    "editable": false,
    "nbgrader": {
     "cell_type": "markdown",
     "checksum": "7916f4e51875685505280664d6d0d8b9",
     "grade": false,
     "grade_id": "cell-9e201cd34a35a933",
     "locked": true,
     "schema_version": 3,
     "solution": false,
     "task": false
    }
   },
   "source": [
    "# Stochastic Gradient Descent \n",
    "\n",
    "Despite its conceptual simplicity, GD might not be practical in ML applications involving massive amounts of data. Consider image classification where state-of-the-art deep learning methods are trained on billions of images. The challenge in using GD for such big data applications is the computational complexity (time and memory resources) of computing the gradient $\\nabla f\\big( \\mathbf{w}^{(k)} \\big)$ of the loss function at the current estimate $\\mathbf{w}^{(k)}$. \n",
    "\n",
    "Let us have a closer look at the computation of the gradient for the special case of linear predictor maps $h^{(\\mathbf{w})}(\\mathbf{x}) = \\mathbf{w}^{T} \\mathbf{x}$. In this case, we can find a closed-form expression for the gradient: \n",
    "\n",
    "\\begin{align} \n",
    "\\nabla f\\big( \\mathbf{w}^{(k)} \\big)= - (2/m) \\sum_{i=1}^{m}\\mathbf{x}^{(i)} \\big(y^{(i)} - \\big( \\mathbf{w}^{(k)}\\big)^{T} \\mathbf{x}^{(i)} \\big) \\big). \\end{align}\n",
    "\n",
    "The difficulty is that the summation involves all $m$ data points that form the training set. Thus, we might need to sum over billions of data points. Moreover, the data points might be stored decentralized all over the internet (in the \"cloud\"). A single iteration of GD might then simply take too long.\n",
    "\n",
    "In order to avoid the computational burden of computing the gradient, **stochastic GD (SGD)** approximates the gradient by using only a small subset (**batch**) of training data points. SGD is obtained from GD by replacing the exact gradient step with a noisy gradient update: \n",
    "\n",
    "$$\\mbox{(Noisy Gradient Step)} \\quad \\underbrace{\\mathbf{w}^{(k+1)}}_{\\mbox{new guess}} = \\underbrace{\\mathbf{w}^{(k)}}_{\\mbox{current guess}} - \\underbrace{\\alpha^{(k)}}_{\\mbox{step size}}\\mathbf{g}^{(k)} \\mbox{ with } \\mathbf{g}^{(k)} \\approx \\nabla f\\big(\\mathbf{w}^{(k)}\\big).$$ \n",
    "\n",
    "Note that we now use a varying step-size $\\alpha^{(k)}$ that changes along with the iterations. This is necessary in order to avoid accumulation of the gradient noise during the SGD updates. SGD methods typically decrease the learning rate $\\alpha^{(k)}$ as the iterations proceed. \n",
    "\n",
    "The most basic variant of SGD uses a single randomly chosen data point for computing the gradient estimate $\\mathbf{g}^{(k)}$. For the special case of linear predictor maps, we obtain \n",
    "$$ \\mathbf{g}^{(k)}   = -2 \\mathbf{x}^{(I)} \\big(y^{(I)} - \\big( \\mathbf{w}^{(k)}\\big)^{T} \\mathbf{x}^{(I)} \\big) \\big).$$\n",
    "\n",
    "Note that the index $I$ of the data point is chosen randomly and independently for each new iteration $k$. Comparing this gradient estimate with the above formula for the exact gradient, we see that the SGD iteration does not require any summation over the training set. For large training sets, this might yield a significant reduction in computational requirements for SGD compared to GD. \n",
    "\n",
    "Plain SGD and GD can be interpreted as special cases of **mini-batch GD**. Mini-batch GD does not use a single randomly chosen data point to compute the gradient estimate but rather uses several randomly chosen data points that form a batch $\\mathcal{S} = \\big\\{ \\big(\\mathbf{x}^{(i_{1})},y^{(i_{1})} \\big),\\ldots,\\big(\\mathbf{x}^{(i_{S})},y^{(i_{S})} \\big) \\big\\}$ of size $s$. For linear predictor maps, the gradient estimate is computed using the batch via \n",
    "\n",
    "$$ \\mathbf{g}^{(k)}   = -(2/s) \\sum_{\\big(\\mathbf{x},y\\big) \\in \\mathcal{S}} \\mathbf{x} \\big(y - \\big( \\mathbf{w}^{(k)}\\big)^{T} \\mathbf{x} \\big) \\big).$$\n",
    "\n",
    "Each iteration of mini-batch GD uses a different batch of $s$ different data points. A sequence of iterations that uses each data point in one of the batches is referred to as one **epoch** (i.e. batches are disjoint). \n",
    "For example, if the training data set consists of $50$ data points and we use a batch size of $s=10$, then one epoch requires $50/10 = 5$ iterations of mini-batch GD.  \n",
    "\n",
    "\n",
    "To recap:\n",
    "\n",
    "- **Sample**: one element of a dataset.\\\n",
    "  Example: one image is a sample in a convolutional network\\\n",
    "  Example: one audio file is a sample for a speech recognition model\n",
    "  \n",
    "  \n",
    "- **Batch**: a set $\\mathcal{S}$ of size $s$. The samples in a batch are processed independently, in parallel. During training, a batch results only in one update (gradient step) of the model.\\\n",
    "A batch generally approximates the distribution of the input data better than a single input. The larger the batch, the better the approximation; however, it is also true that the batch will take longer to process and will still result in only one update. For inference (evaluate/predict), it is recommended to pick a batch size that is as large as you can afford without going out of memory (since larger batches will usually result in faster evaluating/prediction).\n",
    "\n",
    "\n",
    "- **Epoch**: an arbitrary cutoff, generally defined as \"one pass over the entire dataset\", used to separate training into distinct phases, which is useful for logging and periodic evaluation.\n",
    "\n",
    "\n",
    "\n",
    "Important special cases of GD are obtained for certain choices of the **batch size**: \n",
    "\n",
    "- GD (also called batch GD or vanilla GD, batch size = size of dataset)\n",
    "- Mini-batch GD (1 < batch size < whole dataset)\n",
    "- SGD (batch size = 1)\n",
    "\n",
    "Note that the computational complexity of one iteration of mini-batch GD depends only on the batch size. Thus, \n",
    "for a fixed batch size (e.g. $s=128$) the complexity (runtime) of a single iteration becomes independent of the total number of training data points. "
   ]
  },
  {
   "cell_type": "markdown",
   "metadata": {
    "deletable": false,
    "editable": false,
    "nbgrader": {
     "cell_type": "markdown",
     "checksum": "9c1b17d34e45485f4a284f1655ae67c7",
     "grade": false,
     "grade_id": "cell-df68d677ce3ac05d",
     "locked": true,
     "schema_version": 3,
     "solution": false,
     "task": false
    }
   },
   "source": [
    "<div class=\"alert alert-success\">\n",
    "    <h3><b>Check yourself: </b>Batch and Epochs.</h3>\n",
    "\n",
    "Given dataset of size 1000, batch size 100 and 5 epochs, how many iterations of gradient step we need to do?\n",
    "</div>"
   ]
  },
  {
   "cell_type": "markdown",
   "metadata": {
    "deletable": false,
    "editable": false,
    "nbgrader": {
     "cell_type": "markdown",
     "checksum": "c8fa2dfc2384e018c158d407d221ef6e",
     "grade": false,
     "grade_id": "cell-6993aa1fffa90529",
     "locked": true,
     "schema_version": 3,
     "solution": false,
     "task": false
    }
   },
   "source": [
    "<details>\n",
    "    <summary><span class=\"summary-title\">Solution</span></summary>\n",
    "    <div class=\"summary-content\">\n",
    "        \n",
    "\n",
    "- Each iteration of mini-batch GD uses a batch of size 100 to compute the gradient estimate and update model's weights. \n",
    "- To go through whole dataset we need to do 1000 / 100 = 10 iterations of GD step per one epoch.\n",
    "- Training a model for 5 epochs, means that we iterate through  whole dataset 5 times, which give us 5 * 10 iterations = 50 iterations in total.\n",
    "</div> \n",
    "</details>"
   ]
  },
  {
   "cell_type": "markdown",
   "metadata": {
    "deletable": false,
    "editable": false,
    "nbgrader": {
     "cell_type": "markdown",
     "checksum": "90486d14b93d89672afa940eded30f80",
     "grade": false,
     "grade_id": "cell-ec008639e2259829",
     "locked": true,
     "schema_version": 3,
     "solution": false,
     "task": false
    }
   },
   "source": [
    "<a id='St6'></a>\n",
    "<div class=\" alert alert-warning\">\n",
    "    <h3><b>STUDENT TASK 2.6.</b> STOCHASTIC GRADIENT DESCENT.</h3> [2 points]\n",
    "    \n",
    "In this task, we modify our GD algorithm (function `GD_onefeature()`) by providing and training the dataset in batches. You will need to complete <code>minibatchGD()</code> function, according to the instructions given below. \n",
    "    \n",
    "</div>"
   ]
  },
  {
   "cell_type": "markdown",
   "metadata": {
    "deletable": false,
    "editable": false,
    "nbgrader": {
     "cell_type": "markdown",
     "checksum": "c1bb3f0d0e4099c12a040c29ad0a124d",
     "grade": false,
     "grade_id": "cell-c2a00d5a26465f7b",
     "locked": true,
     "schema_version": 3,
     "solution": false,
     "task": false
    }
   },
   "source": [
    "Before implementing the SGD algorithm, we need to write a helper function `batch()` that divides the dataset into small batches. We will provide the feature vector or matrix `X` and label vector `y` as an input to the function. We also need to define the parameter `batch_size` which is the number of data points used for a single batch. The function `batch()` is a [Python generator function](https://docs.python.org/3/howto/functional.html#generators), meaning that the function can be used in for-loops and will return batches sequentially, one-by-one. Before splitting the dataset into batches, we will randomly shuffle the data. This ensures that every time we call `batch()` we obtain a batch having similar statistical properties. Loosely speaking, shuffling the dataset before creating the batches makes the individual data points independent and identically distributed (\"i.i.d.\"). "
   ]
  },
  {
   "cell_type": "code",
   "execution_count": null,
   "metadata": {
    "deletable": false,
    "editable": false,
    "nbgrader": {
     "cell_type": "code",
     "checksum": "ef8d52d136a1385012e10133435e3407",
     "grade": false,
     "grade_id": "cell-76e1beb18772edb3",
     "locked": true,
     "schema_version": 3,
     "solution": false,
     "task": false
    }
   },
   "outputs": [],
   "source": [
    "def batch(X, y, batch_size):\n",
    "    \n",
    "    '''\n",
    "    \n",
    "    Function for creating mini-batches of the dataset.\n",
    "    \n",
    "    The inputs to the function are:\n",
    "    \n",
    "    :X:          numpy array of shape (m,n), feature matrix\n",
    "    :y:          numpy array of shape (m,1), label vector \n",
    "    :batch_size: sample size of a batch. Note, that the last batch may be smaller than the `batch_size` value.\n",
    "\n",
    "    The outputs of the function are:\n",
    "    \n",
    "    The `yield` statement suspends the function’s execution and sends \n",
    "    a value back to the caller, but retains enough state to enable function to resume where it is left off.\n",
    "    \n",
    "    In this case a value is a current batch (X_perm[i:i + batch_size], y_perm[i:i + batch_size])\n",
    "    \n",
    "    '''\n",
    "    \n",
    "    # shuffle data points \n",
    "    # the permutation will randomly re-arrange the order of the numbers\n",
    "    # which will be used as indices to create X and y with data points in different order\n",
    "    np.random.seed(42) # for reproducibility, should NOT be used in real training\n",
    "    p = np.random.permutation(len(y))\n",
    "    X_perm = X[p] \n",
    "    y_perm = y[p]\n",
    "    \n",
    "    # generate batches\n",
    "    for i in range(0, X.shape[0], batch_size):\n",
    "        yield (X_perm[i:i + batch_size], y_perm[i:i + batch_size])"
   ]
  },
  {
   "cell_type": "markdown",
   "metadata": {
    "deletable": false,
    "editable": false,
    "nbgrader": {
     "cell_type": "markdown",
     "checksum": "48ef3806d747f05b7f63118a3da2522c",
     "grade": false,
     "grade_id": "cell-a2a173cbe3bcbe36",
     "locked": true,
     "schema_version": 3,
     "solution": false,
     "task": false
    }
   },
   "source": [
    "<div class=\"info\">\n",
    "    <div  class=\"info-title\"><i class=\"fa fa-info-circle\" aria-hidden=\"true\"></i>&nbsp; Info</div><br>\n",
    "    <div class=\"wrap-up-content\">\n",
    "        You can test Python generator by using <code>next()</code> function:\n",
    "    </div>\n",
    "    \n",
    "```python\n",
    ">>> gen =  Generator(args)\n",
    ">>> next(gen)\n",
    "```\n",
    "    \n",
    "    or for-loop:\n",
    "    \n",
    "```python   \n",
    ">>> for element in Generator(args):\n",
    "    print(element)    \n",
    "```\n",
    "\n",
    "</div>"
   ]
  },
  {
   "cell_type": "code",
   "execution_count": null,
   "metadata": {
    "deletable": false,
    "nbgrader": {
     "cell_type": "code",
     "checksum": "bd87b246f7da0f70a1bba8f49ae3a72d",
     "grade": false,
     "grade_id": "cell-1dc3b3cb1fc8cb8e",
     "locked": false,
     "schema_version": 3,
     "solution": true,
     "task": false
    }
   },
   "outputs": [],
   "source": [
    "def minibatchGD(X, y, batch_size, epochs, lrate):  \n",
    "    \n",
    "    # initialize the weight randomly\n",
    "    np.random.seed(42)\n",
    "    weight = np.random.rand()  \n",
    "    # list to store the loss values \n",
    "    losses = []\n",
    "    # list to store the weight values \n",
    "    weights = []\n",
    "     \n",
    "    for i in range(epochs):\n",
    "# YOUR CODE HERE\n",
    "raise NotImplementedError()\n",
    "        # Use another for-loop to iterate batch() generator and access batches one-by-one\n",
    "        # Feed  current batch to `gradient_step_onefeature()` and get weight and loss values\n",
    "        # Save current weight and loss values in corresponding lists `weights` and `losses`\n",
    "      \n",
    "        # one epoch is finished when the algorithm goes through ALL batches\n",
    "    return weights, losses"
   ]
  },
  {
   "cell_type": "markdown",
   "metadata": {
    "deletable": false,
    "editable": false,
    "nbgrader": {
     "cell_type": "markdown",
     "checksum": "5b11af52ded7f4f7f9eb5939babc0a5e",
     "grade": false,
     "grade_id": "cell-92dea7187bf6ce97",
     "locked": true,
     "schema_version": 3,
     "solution": false,
     "task": false
    }
   },
   "source": [
    "<details>\n",
    "    <summary>\n",
    "        <span class=\"summary-title\">Hints</span>\n",
    "    </summary>\n",
    " <div class=\"summary-content\">\n",
    "     <a href=\"https://www.geeksforgeeks.org/generators-in-python/\">Here</a> you can find an example of using Python generator with for-loop. Use the same approach to iterate `batch()` generator.\n",
    "  </div>    \n",
    "</details>    "
   ]
  },
  {
   "cell_type": "code",
   "execution_count": null,
   "metadata": {
    "deletable": false,
    "editable": false,
    "nbgrader": {
     "cell_type": "code",
     "checksum": "1cf06d1b272602dc94cb972bddc41dd0",
     "grade": false,
     "grade_id": "cell-fe1f1ab467887505",
     "locked": true,
     "schema_version": 3,
     "solution": false,
     "task": false
    }
   },
   "outputs": [],
   "source": [
    "# Sanity checks\n",
    "# len(weights) and len(loss) should be:\n",
    "# (number of samples/batch_size)*epochs - 100/50*2=4\n",
    "weights, losses = minibatchGD(X, y, 50, 2, 0.1)\n",
    "\n",
    "assert len(weights)==4, \"weights length is not correct!\"\n",
    "assert len(losses)==4, \"loss length is not correct!\""
   ]
  },
  {
   "cell_type": "code",
   "execution_count": null,
   "metadata": {
    "deletable": false,
    "editable": false,
    "nbgrader": {
     "cell_type": "code",
     "checksum": "e65f806675560127de78e68af2e2843a",
     "grade": true,
     "grade_id": "cell-a7b46020ff3a7ab3",
     "locked": true,
     "points": 1,
     "schema_version": 3,
     "solution": false,
     "task": false
    }
   },
   "outputs": [],
   "source": [
    "# hidden test\n"
   ]
  },
  {
   "cell_type": "code",
   "execution_count": null,
   "metadata": {
    "deletable": false,
    "editable": false,
    "nbgrader": {
     "cell_type": "code",
     "checksum": "a21ba9232c5953ba9195c3a6a7181307",
     "grade": true,
     "grade_id": "cell-7781c38310cc5b53",
     "locked": true,
     "points": 1,
     "schema_version": 3,
     "solution": false,
     "task": false
    }
   },
   "outputs": [],
   "source": [
    "# hidden test\n"
   ]
  },
  {
   "cell_type": "markdown",
   "metadata": {
    "deletable": false,
    "editable": false,
    "nbgrader": {
     "cell_type": "markdown",
     "checksum": "c873573d522994bfc46d1eb8490b4815",
     "grade": false,
     "grade_id": "cell-a14ca933f21b43e9",
     "locked": true,
     "schema_version": 3,
     "solution": false,
     "task": false
    }
   },
   "source": [
    "<a id='St7'></a>\n",
    "<div class=\" alert alert-warning\">\n",
    "    <h3><b>STUDENT TASK 2.7. </b> SGD - BATCH SIZE.</h3> [2 points]\n",
    "    \n",
    "Try `minibatchGD()` function with different values of `batch_size` parameter and plot results.\n",
    "    \n",
    "Note - use feature vector **x** and label vector **y** as input data of  `minibatchGD()` function. \n",
    "</div>"
   ]
  },
  {
   "cell_type": "markdown",
   "metadata": {
    "deletable": false,
    "editable": false,
    "nbgrader": {
     "cell_type": "markdown",
     "checksum": "7ce2dc28d91e0e3a96ccf3429447597c",
     "grade": false,
     "grade_id": "cell-caa8d0782861291e",
     "locked": true,
     "schema_version": 3,
     "solution": false,
     "task": false
    }
   },
   "source": [
    "Let's test our SGD implementation and run the algorithm for:\n",
    "\n",
    "- batch sizes = 1 (one data point) **(SGD)**\n",
    "- batch sizes = 10 **(mini-batch GD)**\n",
    "- batch sizes = 100 (entire dataset) **(Batch GD)**"
   ]
  },
  {
   "cell_type": "markdown",
   "metadata": {
    "deletable": false,
    "editable": false,
    "nbgrader": {
     "cell_type": "markdown",
     "checksum": "588a6a253521e1a50a5170260fc6c0d4",
     "grade": false,
     "grade_id": "cell-d3601de090e616a3",
     "locked": true,
     "schema_version": 3,
     "solution": false,
     "task": false
    }
   },
   "source": [
    "<details>\n",
    "    <summary>\n",
    "        <span class=\"summary-title\">Hints</span>\n",
    "     </summary>\n",
    "     <div class=\"summary-content\">\n",
    "You can use for-loop to iterate list `batch_sizes` and pass these values to `minibatchGD()` function. \n",
    "         \n",
    "Expected plot:\n",
    "         \n",
    "         \n",
    "<img src=\"../../../coursedata/SGD/expected_plot/batch_size_plot.png\" width=500>\n",
    "    </div>\n",
    "</details>  "
   ]
  },
  {
   "cell_type": "code",
   "execution_count": null,
   "metadata": {
    "deletable": false,
    "nbgrader": {
     "cell_type": "code",
     "checksum": "78f7811042fbb969248586b31c432182",
     "grade": false,
     "grade_id": "cell-5dbba44eba46a098",
     "locked": false,
     "schema_version": 3,
     "solution": true,
     "task": false
    }
   },
   "outputs": [],
   "source": [
    "# set epoches and learning rate\n",
    "epochs = 100\n",
    "lrate = 0.02\n",
    "\n",
    "# values to pass to `minibatchGD()` function in foor-loop \n",
    "batch_sizes = [1, 10, 100]\n",
    "# list for storing weights and loss for each batch size (length of both lists=3)\n",
    "# we will use these lists for plotting\n",
    "weights_batches = []\n",
    "loss_batches = []\n",
    "\n",
    "# YOUR CODE HERE\n",
    "raise NotImplementedError()\n",
    "\n",
    "# iterate `batch_sizes` list\n",
    "# for ....\n",
    "#     compute weights & losses for a given batch size value\n",
    "#     append weights & losses to lists weights_batches & loss_batches\n",
    "\n",
    "\n",
    "for batch_size, weights, loss in zip(batch_sizes, weights_batches,loss_batches):\n",
    "    plt.plot(weights, loss, label=\"batch size\"+str(batch_size))\n",
    "    plt.legend()\n",
    "\n",
    "plt.xlabel(\"weight\", fontsize=16)\n",
    "plt.ylabel(\"Loss\", fontsize=16)  \n",
    "plt.show()"
   ]
  },
  {
   "cell_type": "markdown",
   "metadata": {
    "deletable": false,
    "editable": false,
    "nbgrader": {
     "cell_type": "markdown",
     "checksum": "96c15632257dfab659cdfe6b117470c8",
     "grade": false,
     "grade_id": "cell-ea33d721e419dbee",
     "locked": true,
     "schema_version": 3,
     "solution": false,
     "task": false
    }
   },
   "source": [
    "Note that the deviations are larger for smaller batch sizes. This makes sense, as the gradient estimates are more accurate when we use more data points in a batch. The larger the batch, the better the gradient approximation and the faster the convergence of GD to the optimum solution (parameters). However, it is also true that the batch will take longer to process and will still result in only one update.\n",
    "\n",
    "Let's use the loss values for each batch size stored in the list `loss_batches` for plotting and will print out learned weights stored in `weights_batches` list."
   ]
  },
  {
   "cell_type": "code",
   "execution_count": null,
   "metadata": {
    "deletable": false,
    "editable": false,
    "nbgrader": {
     "cell_type": "code",
     "checksum": "9a5b202d422839a1407175d38886ff29",
     "grade": false,
     "grade_id": "cell-b16146a51390dad9",
     "locked": true,
     "schema_version": 3,
     "solution": false,
     "task": false
    }
   },
   "outputs": [],
   "source": [
    "# Sanity checks\n",
    "\n",
    "assert len(weights_batches)==len(batch_sizes), \"weights_batches length is not correct!\"\n",
    "assert len(loss_batches)==len(batch_sizes), \"loss_batches length is not correct!\"\n",
    "# below length computed as (number of samples/batch_size)*epochs\n",
    "assert len(loss_batches[0])==10000, \"loss_batches[0] length should be (100/1)*100=10000!\"\n",
    "assert len(loss_batches[1])==1000, \"loss_batches[1] length should be (100/10)*100=1000!\"\n",
    "assert len(loss_batches[2])==100, \"loss_batches[2] length should be (100/100)*100=100!\""
   ]
  },
  {
   "cell_type": "code",
   "execution_count": null,
   "metadata": {
    "deletable": false,
    "editable": false,
    "nbgrader": {
     "cell_type": "code",
     "checksum": "7d4f6926652e144d1dfa20f0fda11448",
     "grade": true,
     "grade_id": "cell-fa4f330c2cb1e60e",
     "locked": true,
     "points": 1,
     "schema_version": 3,
     "solution": false,
     "task": false
    }
   },
   "outputs": [],
   "source": [
    "# hidden tests cell\n"
   ]
  },
  {
   "cell_type": "code",
   "execution_count": null,
   "metadata": {
    "deletable": false,
    "editable": false,
    "nbgrader": {
     "cell_type": "code",
     "checksum": "55a5a6e50a12b8d8cb3e349b9a4785f0",
     "grade": true,
     "grade_id": "cell-41c59e0f0f2e20fe",
     "locked": true,
     "points": 1,
     "schema_version": 3,
     "solution": false,
     "task": false
    }
   },
   "outputs": [],
   "source": [
    "# hidden test\n"
   ]
  },
  {
   "cell_type": "code",
   "execution_count": null,
   "metadata": {
    "deletable": false,
    "editable": false,
    "nbgrader": {
     "cell_type": "code",
     "checksum": "5034f40391c6d5fe3d325df88672b28c",
     "grade": false,
     "grade_id": "cell-f507efc6bc25907f",
     "locked": true,
     "schema_version": 3,
     "solution": false,
     "task": false
    },
    "tags": []
   },
   "outputs": [],
   "source": [
    "# history of the MSE loss inccured during learning\n",
    "batch_size1_loss   = loss_batches[0]\n",
    "batch_size10_loss  = loss_batches[1]\n",
    "batch_size100_loss = loss_batches[2]\n",
    "\n",
    "# let's check that the length of list `loss` is equal to\n",
    "# x.shape[0]/batch_size*epochs\n",
    "\n",
    "print(f\"Total number of iterations = (sample size/batch size)*epochs\")\n",
    "print(f\"\\nEpochs: {epochs}\")\n",
    "print(f\"Sample size: {X.shape[0]}\")\n",
    "print(f\"Batch sizes: 1, 10, 100\")\n",
    "print(f\"Iterations per epoch: {X.shape[0]/1.0:.0f}, {X.shape[0]/10.0:.0f}, {X.shape[0]/100.0:.0f}\")\n",
    "print(f\"Total number of iterations: {len(batch_size1_loss)}, {len(batch_size10_loss)}, {len(batch_size100_loss)}\")\n",
    "\n",
    "# display weights learnt during the SGD\n",
    "print(f\"\\nWeights:\\n\\nSGD with batch size = 1 results in weight w = {weights_batches[0][-1]:.2f}\\\n",
    "                 \\nSGD with batch size = 10 results in weight w = {weights_batches[1][-1]:.2f}\\\n",
    "                 \\nSGD with batch size = 100 results in weight w = {weights_batches[2][-1]:.2f}\")"
   ]
  },
  {
   "cell_type": "markdown",
   "metadata": {
    "deletable": false,
    "editable": false,
    "nbgrader": {
     "cell_type": "markdown",
     "checksum": "86f0468801ddd9e243ee942ed1f3a2ea",
     "grade": false,
     "grade_id": "cell-197719c66c1ae6fe",
     "locked": true,
     "schema_version": 3,
     "solution": false,
     "task": false
    }
   },
   "source": [
    "The results of SGD with different batch sizes should be pretty close. Let's compare our SGD implementation with sklearn [`SGDRegressor`](https://scikit-learn.org/stable/modules/generated/sklearn.linear_model.SGDRegressor.html) class implementation. In `SGDRegressor` implementation, the gradient of the loss is estimated each sample at a time (batch size=1 in other words) and the model is updated along the way with a decreasing learning rate."
   ]
  },
  {
   "cell_type": "code",
   "execution_count": null,
   "metadata": {
    "deletable": false,
    "editable": false,
    "nbgrader": {
     "cell_type": "code",
     "checksum": "27d3d36ab98ad2068693eef70e4bba3a",
     "grade": false,
     "grade_id": "cell-073a69e706d17886",
     "locked": true,
     "schema_version": 3,
     "solution": false,
     "task": false
    }
   },
   "outputs": [],
   "source": [
    "from sklearn.linear_model import SGDRegressor\n",
    "\n",
    "reg = SGDRegressor(fit_intercept = False, max_iter=100, tol=1e-3)\n",
    "reg.fit(X,y.reshape(-1,))\n",
    "\n",
    "reg.coef_[0]"
   ]
  },
  {
   "cell_type": "markdown",
   "metadata": {
    "deletable": false,
    "editable": false,
    "nbgrader": {
     "cell_type": "markdown",
     "checksum": "1bcff507a92616b758ec17b1eaa2e350",
     "grade": false,
     "grade_id": "cell-97f489247f04856f",
     "locked": true,
     "schema_version": 3,
     "solution": false,
     "task": false
    }
   },
   "source": [
    "Thus, our simple SGD algorithm does not deviate too much from the `sklearn` implementation. \\\n",
    "Let's plot the loss values for the first 100 iterations incurred during the training."
   ]
  },
  {
   "cell_type": "code",
   "execution_count": null,
   "metadata": {
    "deletable": false,
    "editable": false,
    "nbgrader": {
     "cell_type": "code",
     "checksum": "cce26fe7fd6890f027ce7202b6d7effe",
     "grade": false,
     "grade_id": "cell-e755ac6d58a80022",
     "locked": true,
     "schema_version": 3,
     "solution": false,
     "task": false
    },
    "tags": []
   },
   "outputs": [],
   "source": [
    "# create the figure and axes objects\n",
    "# there will be 3 subplots in one row, the y-axis is shared between subplots\n",
    "fig, axes = plt.subplots(1,3, sharey=True, figsize=(15,5))\n",
    "\n",
    "# create lists of loss values and batch sizes for further iteration in for-loop\n",
    "batch_loss_list = [batch_size1_loss, batch_size10_loss, batch_size100_loss]\n",
    "batch_size      = [1,10,100] \n",
    "\n",
    "for ax, batch_loss, size in zip(axes, batch_loss_list, batch_size):\n",
    "    # plot only first 100 values\n",
    "    ax.plot(np.arange(len(batch_loss[:100])), batch_loss[:100])\n",
    "    # remove top and right subplot's frames \n",
    "    ax.spines['top'].set_visible(False)\n",
    "    ax.spines['right'].set_visible(False)\n",
    "    # set subplot's title\n",
    "    ax.set_title(\"batch size = \"+str(size), fontsize=18)\n",
    "\n",
    "# set x- and y-axis labels\n",
    "axes[0].set_xlabel('batch #', fontsize=18)\n",
    "axes[0].set_ylabel('Loss', fontsize=18)\n",
    "\n",
    "# display figure\n",
    "plt.ylim(0,10000)\n",
    "plt.show()"
   ]
  },
  {
   "cell_type": "markdown",
   "metadata": {
    "deletable": false,
    "editable": false,
    "nbgrader": {
     "cell_type": "markdown",
     "checksum": "eafa8fdbae52a06aa8ccb448cb776efb",
     "grade": false,
     "grade_id": "cell-9b626daecc63f8bd",
     "locked": true,
     "schema_version": 3,
     "solution": false,
     "task": false
    }
   },
   "source": [
    "The above figure indicates that when using SGD with a small batch size, the loss is not decreasing monotonically but somewhat randomly fluctuating around a long-term decreasing trend. This happens because the weight updates use \"noisy\" estimates of the gradient. The noisy estimate is calculated by an averaging process using the data points in the mini-batch. The smaller the mini-batch size, the fewer data points we use for computing the average. Thus, the gradient noise becomes stronger with smaller batch size. \n",
    "\n",
    "**Note!** In our exercises we used a constant learning rate. In order to avoid the accumulation of the gradient noise while running SGD updates, the learning rate needs to be gradually decreased, e.g. by using diminishing learning rate, thus resulting in a smoother learning curve."
   ]
  },
  {
   "cell_type": "markdown",
   "metadata": {
    "deletable": false,
    "editable": false,
    "nbgrader": {
     "cell_type": "markdown",
     "checksum": "0b99fff2f4016145428785f307fb8356",
     "grade": false,
     "grade_id": "cell-2a6b165617a3a4b6",
     "locked": true,
     "schema_version": 3,
     "solution": false,
     "task": false
    }
   },
   "source": [
    "Below are the animations illustrating the training process with GD where the batch size is all data points (upper panel) and where the batch size is 10 data points (lower panel, the current batch marked with red color). In line with the loss plots we created above, mini-batch GD is noisier than batch GD. Although it seems that using plain batch GD is a faster way to reach the minimum of the loss function, in practice when working with large datasets and thousands of parameters (weights) in neural networks, this approach will be slower and more computationally expensive than mini-batch GD."
   ]
  },
  {
   "cell_type": "markdown",
   "metadata": {
    "deletable": false,
    "editable": false,
    "nbgrader": {
     "cell_type": "markdown",
     "checksum": "757af3f302c4854f5f44bb4d5c33b5e6",
     "grade": false,
     "grade_id": "cell-2032e57953d2d15e",
     "locked": true,
     "schema_version": 3,
     "solution": false,
     "task": false
    }
   },
   "source": [
    "**Illustration of SGD iterations for batch size = 100 (batch covers entire dataset)** \n",
    "\n",
    "<img src=\"../../../coursedata/SGD/minibatchGD1.gif\" width=\"750\" align=\"center\">\n",
    "\n",
    "**Illustration of SGD iterations for batch size = 10 datapoints**\n",
    "\n",
    "<img src=\"../../../coursedata/SGD/minibatchGD2.gif\" width=\"750\" align=\"center\">\n",
    "\n",
    "During each iteration of SGD, 10 data points are randomly selected to constitute a batch. This batch is used to compute the gradient estimate. The data points in the batch are shown in red. Note that during each iteration, a different set of 10 data points is chosen for the batch.  "
   ]
  },
  {
   "cell_type": "markdown",
   "metadata": {
    "deletable": false,
    "editable": false,
    "nbgrader": {
     "cell_type": "markdown",
     "checksum": "8c1b329db94545c0f0bc0249f93f18c2",
     "grade": false,
     "grade_id": "cell-1469b9fd7044cbe6",
     "locked": true,
     "schema_version": 3,
     "solution": false,
     "task": false
    }
   },
   "source": [
    "<div class=\"wrap-up\">\n",
    "    <div class=\"wrap-up-title\">Wrap up - Stochastic Gradient Descent</div><br>\n",
    "    <div class=\"wrap-up-content\">\n",
    "        <ul>\n",
    "          <li>Vanilla or batch GD computes the gradient of the loss function w.r.t. to the parameters (weights) for the entire training dataset. Therefore, to perform just one update, the gradient of the whole dataset needs to be computed, which makes batch GD very slow.</li>\n",
    "          <li>SGD, in contrast, computes the gradient of the loss function and performs updates for each data point.</li>\n",
    "          <li>SGD performs faster parameter updates, but suffers from high variance, especially with a constant learning rate.</li>\n",
    "          <li>Mini-batch GD computes the gradient of the loss function for every batch of the dataset, thus combines the benefits of both, batch GD and SGD. It is faster than batch GD but prone to less variation in parameters up-dates than SGD.</li>\n",
    "          </ul>\n",
    "          <br>\n",
    "        Note, that in deep learning literature mini-batch GD sometimes is also called SGD.\n",
    "    </div>\n",
    "</div>"
   ]
  },
  {
   "cell_type": "markdown",
   "metadata": {
    "deletable": false,
    "editable": false,
    "nbgrader": {
     "cell_type": "markdown",
     "checksum": "eec90a819619a7383829771e036336cd",
     "grade": false,
     "grade_id": "cell-5ed712c900639704",
     "locked": true,
     "schema_version": 3,
     "solution": false,
     "task": false
    }
   },
   "source": [
    "# Variants of Gradient-Based Optimization Algorithms\n",
    "\n",
    "Besides plain GD or mini-batch GD, many deep learning methods use somewhat more advanced variants of gradient-based algorithms or optimizers ([list](https://keras.io/api/optimizers/) of optimizers available in deep learning Python library Keras). Some of the most known are SGD with momentum, RMSprop, and Adam. \n",
    "\n",
    "Much like GD and SGD, these algorithms use gradients of the loss function $f(\\mathbf{w})$ to find weights $\\mathbf{w}$ such that the predictor $h^{(\\mathbf{w})}$ achieves (nearly) minimum loss. These variants differ in how they use (or \"interpret\") the gradient information to find the fastest route towards the minimum. In some cases, these variants can find good weight vectors significantly faster (using fewer iterations) compared to mini-batch GD. "
   ]
  },
  {
   "cell_type": "markdown",
   "metadata": {
    "deletable": false,
    "editable": false,
    "nbgrader": {
     "cell_type": "markdown",
     "checksum": "580c9694addc1cbfc2551ccb7cebaecf",
     "grade": false,
     "grade_id": "cell-5d0495b1535d7fee",
     "locked": true,
     "schema_version": 3,
     "solution": false,
     "task": false
    }
   },
   "source": [
    "## Gradient Descent with momentum\n",
    "\n",
    "One simple improvement of gradient descent is adding a \"momentum\" term to the weight update equation. GD manages poorly when the loss surface is much steeper in one dimension than in the other, e.g. in ravines of the loss function. You can see on the animation below loss \"landscape\": weights values are shown on x and y axes and loss values are shown on the z-axis. GD (black trace) bounces back and force in the narrow symmetric ravine, unable to converge to the minimum of the loss function.\n",
    "\n",
    "The addition of the \"momentum\" helps to damp oscillations and accelerate in the relevant direction. The common analogy is the ball moving in a bowl and gaining speed and momentum in the downhill direction, rather than moving to the left or right on the sides of the bowl.\\\n",
    "GD with momentum is implemented by storing the information about past gradients in a vector ${v}_{t}=\\beta*{v}_{t-1} + \\alpha*\\nabla f$.\\\n",
    "The weight is updated as follows:\n",
    "${w}_{t}={w}_{t-1}-{v}_{t}$\n",
    "\n",
    "Momentum will increase for dimensions where gradients will point in the same direction and will decrease for dimensions where gradients change direction (oscillates). You can see on the animation below, how GD with momentum (red trace) decreases \"zigzagging\" amplitude and moves faster in the direction of the minimum of the loss function. Note that it also overshoots the minimum, but \"corrects\" itself and moves back converging to the minimum. Setting $\\beta$ to a lower value would decrease momentum and would prevent overshooting. \n",
    "\n",
    "<img src=\"../../../coursedata/SGD/GDMomentum2.gif\" width=\"700\">"
   ]
  },
  {
   "cell_type": "markdown",
   "metadata": {
    "deletable": false,
    "editable": false,
    "nbgrader": {
     "cell_type": "markdown",
     "checksum": "c7768723172d867f7e1a57a3b837f608",
     "grade": false,
     "grade_id": "cell-62eb6d4e5d148347",
     "locked": true,
     "schema_version": 3,
     "solution": false,
     "task": false
    }
   },
   "source": [
    "Below you can see how GD with momentum (red trace) gained momentum after the first weights update, escaped the ravine, and \"hopped\" over \"hill\" (the area where loss values are higher). In this case, it may be not an optimal path to the minimum, but in the more complex landscapes momentum can help to escape the local minimum given big enough momentum."
   ]
  },
  {
   "cell_type": "markdown",
   "metadata": {
    "deletable": false,
    "editable": false,
    "nbgrader": {
     "cell_type": "markdown",
     "checksum": "db1df4aa4755c0dde374119c40ff82f8",
     "grade": false,
     "grade_id": "cell-e7d5abd78e65e01b",
     "locked": true,
     "schema_version": 3,
     "solution": false,
     "task": false
    }
   },
   "source": [
    "<img src=\"../../../coursedata/SGD/GDMomentumRosenbrock2.gif\" width=\"750\">"
   ]
  },
  {
   "cell_type": "markdown",
   "metadata": {
    "deletable": false,
    "editable": false,
    "nbgrader": {
     "cell_type": "markdown",
     "checksum": "ed6ddc39cadd0f3f3dae50677c677801",
     "grade": false,
     "grade_id": "cell-2cc4fbad06a334ff",
     "locked": true,
     "schema_version": 3,
     "solution": false,
     "task": false
    }
   },
   "source": [
    "Other variants of GD improve different aspects of the algorithm. Nesterov accelerated gradient is basically a modification of the GD with momentum. Adagrad and its extension Adadelta uses different learning rates for parameters, which is useful when dealing with sparse data. RMSprop and Adam are currently a popular choice of GD-based variants with an adaptive learning rate ([paper about GD variants](https://arxiv.org/pdf/1609.04747.pdf)). \n",
    "\n",
    "The animation below compares the \"routes\" taken by several optimizers to find a minimum of the [six-hump camel](https://www.sfu.ca/~ssurjano/camel6.html) function. As you can see different GD variants may take different paths, which can be controlled by hyperparameters tuning (such as learning rate and coefficients like $\\beta$ in GD with momentum).\n",
    "\n",
    "<img src=\"../../../coursedata/SGD/camel3D.gif\" width=\"750\">"
   ]
  },
  {
   "cell_type": "markdown",
   "metadata": {
    "deletable": false,
    "editable": false,
    "nbgrader": {
     "cell_type": "markdown",
     "checksum": "60729db46582c1cfc7f127b2eff44160",
     "grade": false,
     "grade_id": "cell-ab7d99814fb54024",
     "locked": true,
     "schema_version": 3,
     "solution": false,
     "task": false
    }
   },
   "source": [
    "<a id='St8'></a>\n",
    "<div class=\" alert alert-success\">\n",
    "     <h3><b>STUDENT TASK 2.8. (OPTIONAL, not graded). </b> Learning Rate Schedule. </h3>\n",
    "    \n",
    "Your task is to modify <code> minibatchGD()</code> function and Learning rate schedule to mitigate the accumulation of the gradient noise. For example, you can update learning rate on each iteration <code>lrate = lrate * decay_rate**(current_iteration / decay_steps)</code> as described in [Keras ExponentialDecay docs](https://keras.io/api/optimizers/learning_rate_schedules/exponential_decay/).\n",
    "    \n",
    "To test your modified function `minibatchGD_lrate()` use the same code as in \"STUDENT TASK 2.7. SGD - BATCH SIZE.\" and plot loss curves for different batch sizes.\n",
    "    \n",
    "You can also introduce stopping criteria as in \"STUDENT TASK 2.5. STOPPING CRITERIA.\"\n",
    "You will need to compare loss values returned on the last two epochs and stop GD when the loss will stop decreasing significantly (e.g. the loss decrease is less than 1e-6). In addition, you can introduce a maximum number of epochs GD can perform, in order to prevent GD from running for a long time. The function should return last weight(s), loss, and the number of epochs performed.\n",
    "    \n",
    "</div>"
   ]
  },
  {
   "cell_type": "code",
   "execution_count": null,
   "metadata": {
    "deletable": false,
    "nbgrader": {
     "cell_type": "code",
     "checksum": "9f659c1f9b1e4590b187275bf82354fc",
     "grade": false,
     "grade_id": "cell-a75ea32fc9fc7bb7",
     "locked": false,
     "schema_version": 3,
     "solution": true,
     "task": false
    }
   },
   "outputs": [],
   "source": [
    "def minibatchGD_lrate(X, y, batch_size, epochs, lrate):  \n",
    "    \n",
    "    # initialize the weight randomly\n",
    "    np.random.seed(42)\n",
    "    weight = np.random.rand()  \n",
    "    decay = 0.96\n",
    "    decay_steps = 100\n",
    "    # list to store the loss values \n",
    "    losses = []\n",
    "    # list to store the weight values \n",
    "    weights = []\n",
    "     \n",
    "    for i in range(epochs):\n",
    "# YOUR CODE HERE\n",
    "raise NotImplementedError()\n",
    "        # Use another for-loop to iterate batch() generator and access batches one-by-one\n",
    "            # Update learning rate with use of exponential decay\n",
    "            # Feed  current batch to `gradient_step_onefeature()` and get weight and loss values\n",
    "            # Save current weight and loss values in corresponding lists\n",
    "      \n",
    "        # one epoch is finished when the algorithm goes through ALL batches\n",
    "    return weights, losses"
   ]
  },
  {
   "cell_type": "markdown",
   "metadata": {
    "deletable": false,
    "editable": false,
    "nbgrader": {
     "cell_type": "markdown",
     "checksum": "ee444ca83a01282f8253648fbde6753e",
     "grade": false,
     "grade_id": "cell-907425396a084160",
     "locked": true,
     "schema_version": 3,
     "solution": false,
     "task": false
    }
   },
   "source": [
    "Try out different decay rates in the interval [0,1] and see how it affects loss curves for different batch size options.\n",
    "\n",
    "When training models in Keras you can pass learning rate scheduler as an optimizer parameter (read more in [Keras docs](https://keras.io/api/optimizers/learning_rate_schedules/exponential_decay/)):\n",
    "\n",
    "\n",
    "```python\n",
    "\n",
    "model.compile(optimizer=tf.keras.optimizers.SGD(learning_rate=lr_schedule),\n",
    "              loss='sparse_categorical_crossentropy',\n",
    "              metrics=['accuracy'])\n",
    "```"
   ]
  },
  {
   "cell_type": "markdown",
   "metadata": {
    "deletable": false,
    "editable": false,
    "nbgrader": {
     "cell_type": "markdown",
     "checksum": "36bcbc759f16bf7dd285aec3a773a127",
     "grade": false,
     "grade_id": "cell-4db4e564f64fd90f",
     "locked": true,
     "schema_version": 3,
     "solution": false,
     "task": false
    }
   },
   "source": [
    "# Conclusion \n",
    "\n",
    "We have discussed the basic idea of using gradients of loss functions to iteratively improve the parameter values (weights) in a predictor map. Gradient-based methods such as SGD and its variants turn out to be the perfect tool for training deep neural networks in several aspects. First, somewhat surprisingly, SGD quickly finds weights for an ANN such that it performs well on new data points which are different from the training data. Moreover, mini-batch GD requires only to have enough working memory (\"RAM\") to store the current batch (subset) of training data points instead of the entire dataset (which might be billions of high-resolution images). \n"
   ]
  },
  {
   "cell_type": "markdown",
   "metadata": {
    "deletable": false,
    "editable": false,
    "nbgrader": {
     "cell_type": "markdown",
     "checksum": "a0669978bbfdd8d2a39062caf2295049",
     "grade": false,
     "grade_id": "cell-d67f67c973361771",
     "locked": true,
     "schema_version": 3,
     "solution": false,
     "task": false
    }
   },
   "source": [
    "## Quiz\n",
    "[0.25 points each]"
   ]
  },
  {
   "cell_type": "markdown",
   "metadata": {
    "deletable": false,
    "editable": false,
    "nbgrader": {
     "cell_type": "markdown",
     "checksum": "57244c86a5f9df2670013eddc500fecd",
     "grade": false,
     "grade_id": "cell-826b0d68236d3ec1",
     "locked": true,
     "schema_version": 3,
     "solution": false,
     "task": false
    }
   },
   "source": [
    "<div class=\"alert alert-warning\">\n",
    "     <h3><b>Question 2.1.</b></h3>\n",
    "\n",
    "What is the role of a loss function within machine learning methods?\n",
    "         \n",
    "Select one:\n",
    "\n",
    "1. To reduce the memory requirements of a machine learning method.\n",
    "\n",
    "2. To transform the data into a computer-friendly format.\n",
    "\n",
    "3. To speed up the learning process of an ML method.\n",
    "\n",
    "4. To measure the quality of a particular predictor map.\n",
    "         \n",
    "</div>"
   ]
  },
  {
   "cell_type": "code",
   "execution_count": null,
   "metadata": {
    "deletable": false,
    "nbgrader": {
     "cell_type": "code",
     "checksum": "cabe9dcc5d4d239fec8fd1f17555127e",
     "grade": false,
     "grade_id": "cell-1d23029c8fc0c549",
     "locked": false,
     "schema_version": 3,
     "solution": true,
     "task": false
    }
   },
   "outputs": [],
   "source": [
    "# remove the line raise NotImplementedError() before testing your solution and submitting code\n",
    "\n",
    "# YOUR CODE HERE\n",
    "raise NotImplementedError()\n",
    "\n",
    "# answer_21  = ..."
   ]
  },
  {
   "cell_type": "code",
   "execution_count": null,
   "metadata": {
    "deletable": false,
    "editable": false,
    "nbgrader": {
     "cell_type": "code",
     "checksum": "c07babf672b6f87ef019d110057abf77",
     "grade": true,
     "grade_id": "cell-1c14f10dcabd0e6d",
     "locked": true,
     "points": 0.25,
     "schema_version": 3,
     "solution": false,
     "task": false
    }
   },
   "outputs": [],
   "source": [
    "# This cell is for tests\n",
    "assert answer_21 in [1,2,3,4], '\"answer\" Value should be an integer between 1 and 4.'\n",
    "print('Sanity check tests passed!')\n"
   ]
  },
  {
   "cell_type": "markdown",
   "metadata": {
    "deletable": false,
    "editable": false,
    "nbgrader": {
     "cell_type": "markdown",
     "checksum": "448960a938a70b58e493155a4a4fa6d8",
     "grade": false,
     "grade_id": "cell-173eaa264e18d0d9",
     "locked": true,
     "schema_version": 3,
     "solution": false,
     "task": false
    }
   },
   "source": [
    "<div class=\"alert alert-warning\">\n",
    "     <h3><b>Question 2.2.</b></h3>\n",
    "         \n",
    "Consider the average loss, or training loss, incurred by a predictor map on a set of labeled data points (the training set). The predictor map involves some adjustable weights. Which of the following statements is correct?\n",
    "Select one:\n",
    "\n",
    "1. The training loss (average loss incurred on training data points) depends only on the labels.\n",
    "\n",
    "2. The training loss does not depend on the weights of the predictor map.\n",
    "\n",
    "3. The training loss does not depend on the features of the data points in the training set.\n",
    "\n",
    "4. The training loss depends on the features, labels of training data points as well as on weights of the predictor map.\n",
    "    \n",
    "</div>"
   ]
  },
  {
   "cell_type": "code",
   "execution_count": null,
   "metadata": {
    "deletable": false,
    "nbgrader": {
     "cell_type": "code",
     "checksum": "17d4d36d582e39d6bca49a932d6967c9",
     "grade": false,
     "grade_id": "cell-3f3a40ae966607fd",
     "locked": false,
     "schema_version": 3,
     "solution": true,
     "task": false
    }
   },
   "outputs": [],
   "source": [
    "# remove the line raise NotImplementedError() before testing your solution and submitting code\n",
    "\n",
    "# YOUR CODE HERE\n",
    "raise NotImplementedError()\n",
    "\n",
    "# answer_22  = ..."
   ]
  },
  {
   "cell_type": "code",
   "execution_count": null,
   "metadata": {
    "deletable": false,
    "editable": false,
    "nbgrader": {
     "cell_type": "code",
     "checksum": "50676bc53b010f1eb1a97ae466bac54f",
     "grade": true,
     "grade_id": "cell-4ba09434dbdc1355",
     "locked": true,
     "points": 0.25,
     "schema_version": 3,
     "solution": false,
     "task": false
    }
   },
   "outputs": [],
   "source": [
    "# This cell is for tests\n",
    "assert answer_22 in [1,2,3,4], '\"answer\" Value should be an integer between 1 and 4.'\n",
    "print('Sanity check tests passed!')\n"
   ]
  },
  {
   "cell_type": "markdown",
   "metadata": {
    "deletable": false,
    "editable": false,
    "nbgrader": {
     "cell_type": "markdown",
     "checksum": "a5a8cf9b6c4a1aa6861dd59ea04928b8",
     "grade": false,
     "grade_id": "cell-78633828d2da2eaa",
     "locked": true,
     "schema_version": 3,
     "solution": false,
     "task": false
    }
   },
   "source": [
    "<div class=\"alert alert-warning\">\n",
    "     <h3><b>Question 2.3.</b></h3>\n",
    "\n",
    "Which one of the following completions of the sentence below is correct? Gradient descent is a ...\n",
    "\n",
    "1. method to visualize data points.\n",
    "\n",
    "2. iterative algorithm for finding a good choice for the weights (parameters) of a predictor map.\n",
    "\n",
    "3. method to avoid overfitting.\n",
    "\n",
    "4. method to divide the data into batches.\n",
    "</div>"
   ]
  },
  {
   "cell_type": "code",
   "execution_count": null,
   "metadata": {
    "deletable": false,
    "nbgrader": {
     "cell_type": "code",
     "checksum": "31ee0484af6761f26bdaf645acc2d108",
     "grade": false,
     "grade_id": "cell-1419b5a420cfa16a",
     "locked": false,
     "schema_version": 3,
     "solution": true,
     "task": false
    }
   },
   "outputs": [],
   "source": [
    "# remove the line raise NotImplementedError() before testing your solution and submitting code\n",
    "\n",
    "# YOUR CODE HERE\n",
    "raise NotImplementedError()\n",
    "\n",
    "# answer_23  = ..."
   ]
  },
  {
   "cell_type": "code",
   "execution_count": null,
   "metadata": {
    "deletable": false,
    "editable": false,
    "nbgrader": {
     "cell_type": "code",
     "checksum": "205cccf8a0b95e591cab55a51faf64d7",
     "grade": true,
     "grade_id": "cell-26f1ff9837b88b9f",
     "locked": true,
     "points": 0.25,
     "schema_version": 3,
     "solution": false,
     "task": false
    }
   },
   "outputs": [],
   "source": [
    "# This cell is for tests\n",
    "assert answer_23 in [1,2,3,4], '\"answer\" Value should be an integer between 1 and 4.'\n",
    "print('Sanity check tests passed!')\n"
   ]
  },
  {
   "cell_type": "markdown",
   "metadata": {
    "deletable": false,
    "editable": false,
    "nbgrader": {
     "cell_type": "markdown",
     "checksum": "9ee404b07f699f472956e56b27ea04dc",
     "grade": false,
     "grade_id": "cell-386c530d9dbd20df",
     "locked": true,
     "schema_version": 3,
     "solution": false,
     "task": false
    }
   },
   "source": [
    "<div class=\"alert alert-warning\">\n",
    "     <h3><b>Question 2.4.</b></h3>\n",
    "\n",
    "Consider a single GD step (update) $\\mathbf{w}^{(k+1)}=\\mathbf{w}^{(k)}−\\alpha \\nabla f(\\mathbf{w}^{(k)})$ using the training loss $f(\\mathbf{w})$ incurred by an ANN with parameters $\\mathbf{w}$ on $m$ labeled training data points $(\\mathbf{x}^{(1)},{y}^{(1)}),…,(\\mathbf{x}^{(m)},{y}^{(m)})$. The function $f(\\mathbf{w})$ is known to be differentiable and convex. The GD update includes an adjustable (tunable) parameter $\\alpha>0$ which is referred to as step size or learning rate. Which of the following statements is correct?\n",
    "\n",
    "Select one:\n",
    "\n",
    "1. The GD iterates $\\mathbf{w}^{(0)},\\mathbf{w}^{(1)},\\mathbf{w}^{(2)},…$ converge always, no matter what our choice is for $\\alpha$.\n",
    "\n",
    "2. The GD iterates can only converge if the feature vectors $\\mathbf{x}^{(1)},…,\\mathbf{x}^{(m)}$ have a norm smaller than one. \n",
    "\n",
    "3. If we choose very **small** learning rate $\\alpha$, GD iterates will converge anyway (assuming infinite time and computational resources).\n",
    "\n",
    "4. If we choose very **large** learning rate $\\alpha$, GD iterates will converge anyway (assuming infinite time and computational resources).   \n",
    "</div>"
   ]
  },
  {
   "cell_type": "code",
   "execution_count": null,
   "metadata": {
    "deletable": false,
    "nbgrader": {
     "cell_type": "code",
     "checksum": "28aa60d2a5e98f1ba9fb8219715b205c",
     "grade": false,
     "grade_id": "cell-86eff0cd2fb8da77",
     "locked": false,
     "schema_version": 3,
     "solution": true,
     "task": false
    }
   },
   "outputs": [],
   "source": [
    "# remove the line raise NotImplementedError() before testing your solution and submitting code\n",
    "\n",
    "# YOUR CODE HERE\n",
    "raise NotImplementedError()\n",
    "\n",
    "# answer_24  = ..."
   ]
  },
  {
   "cell_type": "code",
   "execution_count": null,
   "metadata": {
    "deletable": false,
    "editable": false,
    "nbgrader": {
     "cell_type": "code",
     "checksum": "328e7c3a9f4aad646226b86d23c69ca2",
     "grade": true,
     "grade_id": "cell-3ce60ca04b6476c3",
     "locked": true,
     "points": 0.25,
     "schema_version": 3,
     "solution": false,
     "task": false
    }
   },
   "outputs": [],
   "source": [
    "# This cell is for tests\n",
    "assert answer_24 in [1,2,3,4], '\"answer\" Value should be an integer between 1 and 4.'\n",
    "print('Sanity check tests passed!')\n"
   ]
  },
  {
   "cell_type": "markdown",
   "metadata": {
    "deletable": false,
    "editable": false,
    "nbgrader": {
     "cell_type": "markdown",
     "checksum": "f86f7395e500be23587c62788fc9b209",
     "grade": false,
     "grade_id": "cell-07b1778475a2511d",
     "locked": true,
     "schema_version": 3,
     "solution": false,
     "task": false
    }
   },
   "source": [
    "<div class=\"alert alert-warning\">\n",
    "     <h3><b>Question 2.5.</b></h3>\n",
    "\n",
    "Pick the correct completion for the following sentence. \n",
    "\n",
    "In contrast to plain gradient descent (GD), stochastic gradient descent (SGD) ...\n",
    "\n",
    "\n",
    "1. is guaranteed to strictly decrease the training error after each iteration.\n",
    "\n",
    "2. always learns ANN parameters resulting in smaller training errors than the parameters learnt by GD.\n",
    "\n",
    "3. can only be used for ANNs with more than 100 layers.  \n",
    "\n",
    "4. typically requires less computation (time).   \n",
    "\n",
    "</div>"
   ]
  },
  {
   "cell_type": "code",
   "execution_count": null,
   "metadata": {
    "deletable": false,
    "nbgrader": {
     "cell_type": "code",
     "checksum": "bdfa0df9c809153c644599178238cfd8",
     "grade": false,
     "grade_id": "cell-874a654a73538007",
     "locked": false,
     "schema_version": 3,
     "solution": true,
     "task": false
    }
   },
   "outputs": [],
   "source": [
    "# remove the line raise NotImplementedError() before testing your solution and submitting code\n",
    "\n",
    "# YOUR CODE HERE\n",
    "raise NotImplementedError()\n",
    "\n",
    "# answer_25  = ..."
   ]
  },
  {
   "cell_type": "code",
   "execution_count": null,
   "metadata": {
    "deletable": false,
    "editable": false,
    "nbgrader": {
     "cell_type": "code",
     "checksum": "1099f3c45607a5cec4f5b7519ecdc74e",
     "grade": true,
     "grade_id": "cell-3192673c0457a226",
     "locked": true,
     "points": 0.25,
     "schema_version": 3,
     "solution": false,
     "task": false
    }
   },
   "outputs": [],
   "source": [
    "# This cell is for tests\n",
    "assert answer_25 in [1,2,3,4], '\"answer\" Value should be an integer between 1 and 4.'\n",
    "print('Sanity check tests passed!')\n"
   ]
  },
  {
   "cell_type": "markdown",
   "metadata": {
    "deletable": false,
    "editable": false,
    "nbgrader": {
     "cell_type": "markdown",
     "checksum": "464ff0428bf454d73e6fafbf729fdbab",
     "grade": false,
     "grade_id": "cell-2f38143a4eee875b",
     "locked": true,
     "schema_version": 3,
     "solution": false,
     "task": false
    }
   },
   "source": [
    "<div class=\"alert alert-warning\">\n",
    "     <h3><b>Question 2.6.</b></h3>\n",
    "\n",
    "Which one of the following statements is correct?\n",
    "\n",
    "1. The batch size in SGD has no influence on the prediction accuracy obtained with the learnt ANN parameters. \n",
    "\n",
    "2. A single iteration of gradient descent updates the parameter vector into the opposite direction of the gradient of the loss function.\n",
    "\n",
    "3. A single iteration of gradient descent updates the parameter vector into the direction of the gradient of the loss function.\n",
    "\n",
    "4. In the context of SGD, one epoch refers to one single update of the ANN parameters based on a noisy gradient estimate computed over a batch.   \n",
    "</div>"
   ]
  },
  {
   "cell_type": "code",
   "execution_count": null,
   "metadata": {
    "deletable": false,
    "nbgrader": {
     "cell_type": "code",
     "checksum": "4f06ec23ed37b63691b36a7f3d435918",
     "grade": false,
     "grade_id": "cell-f197d4a928f590ae",
     "locked": false,
     "schema_version": 3,
     "solution": true,
     "task": false
    }
   },
   "outputs": [],
   "source": [
    "# remove the line raise NotImplementedError() before testing your solution and submitting code\n",
    "\n",
    "# YOUR CODE HERE\n",
    "raise NotImplementedError()\n",
    "\n",
    "# answer_26  = ..."
   ]
  },
  {
   "cell_type": "code",
   "execution_count": null,
   "metadata": {
    "deletable": false,
    "editable": false,
    "nbgrader": {
     "cell_type": "code",
     "checksum": "95d2add5467f7b5d622335e552206be3",
     "grade": true,
     "grade_id": "cell-25e60f29e9109354",
     "locked": true,
     "points": 0.25,
     "schema_version": 3,
     "solution": false,
     "task": false
    }
   },
   "outputs": [],
   "source": [
    "# This cell is for tests\n",
    "assert answer_26 in [1,2,3,4], '\"answer\" Value should be an integer between 1 and 4.'\n",
    "print('Sanity check tests passed!')\n"
   ]
  },
  {
   "cell_type": "markdown",
   "metadata": {
    "deletable": false,
    "editable": false,
    "nbgrader": {
     "cell_type": "markdown",
     "checksum": "6b3c5f51ad664ffcd460b7ec7277740e",
     "grade": false,
     "grade_id": "cell-10d7b11165411e7c",
     "locked": true,
     "schema_version": 3,
     "solution": false,
     "task": false
    }
   },
   "source": [
    "<div class=\"alert alert-warning\">\n",
    "     <h3><b>Question 2.7.</b></h3>\n",
    "    \n",
    "Consider a dataset consisting of 4800 data points $({x}^{(1)},{y}^{(1)}),…,({x}^{(4800)},{y}^{(4800)})$.\n",
    "If we run mini-batch GD with a batch size of 64 and for 100 epochs, what is the total number of iterations used in GD? \n",
    "         \n",
    "Select one option:\n",
    "\n",
    "1. 30\n",
    "\n",
    "2. 160000\n",
    "\n",
    "3. 15\n",
    "\n",
    "4. 7500\n",
    "    \n",
    "</div>"
   ]
  },
  {
   "cell_type": "code",
   "execution_count": null,
   "metadata": {
    "deletable": false,
    "nbgrader": {
     "cell_type": "code",
     "checksum": "e523b7143dde230214b842009a03155a",
     "grade": false,
     "grade_id": "cell-b24bba98b125d531",
     "locked": false,
     "schema_version": 3,
     "solution": true,
     "task": false
    }
   },
   "outputs": [],
   "source": [
    "# remove the line raise NotImplementedError() before testing your solution and submitting code\n",
    "\n",
    "# YOUR CODE HERE\n",
    "raise NotImplementedError()\n",
    "\n",
    "# answer_27  = ..."
   ]
  },
  {
   "cell_type": "code",
   "execution_count": null,
   "metadata": {
    "deletable": false,
    "editable": false,
    "nbgrader": {
     "cell_type": "code",
     "checksum": "979bc1ddbdf94d66db09a7f03fd492fb",
     "grade": true,
     "grade_id": "cell-d8317ef591c65e02",
     "locked": true,
     "points": 0.25,
     "schema_version": 3,
     "solution": false,
     "task": false
    }
   },
   "outputs": [],
   "source": [
    "# This cell is for tests\n",
    "assert answer_27 in [1,2,3,4], '\"answer\" Value should be an integer between 1 and 4.'\n",
    "print('Sanity check tests passed!')\n"
   ]
  }
 ],
 "metadata": {
  "kernelspec": {
   "display_name": "Python 3",
   "language": "python",
   "name": "python3"
  },
  "language_info": {
   "codemirror_mode": {
    "name": "ipython",
    "version": 3
   },
   "file_extension": ".py",
   "mimetype": "text/x-python",
   "name": "python",
   "nbconvert_exporter": "python",
   "pygments_lexer": "ipython3",
   "version": "3.10.8"
  },
  "nbdime-conflicts": {
   "local_diff": [
    {
     "diff": [
      {
       "diff": [
        {
         "diff": [
          {
           "key": 2,
           "op": "addrange",
           "valuelist": "8"
          },
          {
           "key": 2,
           "length": 1,
           "op": "removerange"
          }
         ],
         "key": 0,
         "op": "patch"
        }
       ],
       "key": "version",
       "op": "patch"
      }
     ],
     "key": "language_info",
     "op": "patch"
    }
   ],
   "remote_diff": [
    {
     "diff": [
      {
       "diff": [
        {
         "key": 0,
         "length": 1,
         "op": "removerange"
        }
       ],
       "key": "version",
       "op": "patch"
      }
     ],
     "key": "language_info",
     "op": "patch"
    }
   ]
  },
  "toc": {
   "base_numbering": 1,
   "nav_menu": {},
   "number_sections": false,
   "sideBar": true,
   "skip_h1_title": false,
   "title_cell": "Table of Contents",
   "title_sidebar": "Contents",
   "toc_cell": false,
   "toc_position": {
    "height": "calc(100% - 180px)",
    "left": "10px",
    "top": "150px",
    "width": "284.136017px"
   },
   "toc_section_display": true,
   "toc_window_display": true
  },
  "varInspector": {
   "cols": {
    "lenName": 16,
    "lenType": 16,
    "lenVar": 40
   },
   "kernels_config": {
    "python": {
     "delete_cmd_postfix": "",
     "delete_cmd_prefix": "del ",
     "library": "var_list.py",
     "varRefreshCmd": "print(var_dic_list())"
    },
    "r": {
     "delete_cmd_postfix": ") ",
     "delete_cmd_prefix": "rm(",
     "library": "var_list.r",
     "varRefreshCmd": "cat(var_dic_list()) "
    }
   },
   "types_to_exclude": [
    "module",
    "function",
    "builtin_function_or_method",
    "instance",
    "_Feature"
   ],
   "window_display": false
  }
 },
 "nbformat": 4,
 "nbformat_minor": 4
}
