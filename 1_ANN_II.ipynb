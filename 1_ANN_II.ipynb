{
 "cells": [
  {
   "cell_type": "markdown",
   "metadata": {
    "deletable": false,
    "editable": false,
    "nbgrader": {
     "cell_type": "markdown",
     "checksum": "3a066a193e9abef33d25d939fed8fd57",
     "grade": false,
     "grade_id": "cell-acf73c5193fea2fb",
     "locked": true,
     "schema_version": 3,
     "solution": false,
     "task": false
    }
   },
   "source": [
    "<h1><center>Artificial Neural Networks II</center></h1>\n",
    "\n",
    "<br>\n",
    "<br>\n",
    "<center><font size=\"3\">This notebook is a part of teaching material for CS-EJ3311 - Deep Learning with Python</font></center>\n",
    "<center><font size=\"3\">23.10.2023-10.12.2023</font></center>\n",
    "<center><font size=\"3\">Aalto University & FiTech.io</font></center>"
   ]
  },
  {
   "cell_type": "markdown",
   "metadata": {
    "deletable": false,
    "editable": false,
    "nbgrader": {
     "cell_type": "markdown",
     "checksum": "1be39249a45e9be7233172ff5a639fbf",
     "grade": false,
     "grade_id": "cell-a5f6291543d27159",
     "locked": true,
     "schema_version": 3,
     "solution": false,
     "task": false
    }
   },
   "source": [
    "<img src=\"https://blog.keras.io/img/keras-tensorflow-logo.jpg\" width=400>\n",
    "\n",
    "<h2><center>The Python Deep Learning Library Keras</center> </h2>\n",
    "\n",
    "Let us now introduce some basic functions provided by the Python package (library) Keras. Technically, Keras is a high-level API for the low-level deep learning Python library [`TensorFlow`](https://www.tensorflow.org/overview/). It has been created for a quick and easy model design and training. \n",
    "The typical workflow of constructing and training an ANN using Keras is as follows:\n",
    " \n",
    " 1. define the training and validation (test) data†\n",
    " 2. define the ANN structure (sequence of layers, number of neurons in each layer, activation functions)\n",
    " 3. choose a loss function, optimizer (gradient-based iterative algorithm), and some metric to monitor the learning process\n",
    " 4. tune the weights of the ANN by using the `.fit()` method\n",
    " \n",
    "†Here we call the data subset used for a model validation during hyperparameter tuning **validation set**.  The data subset used for a final model validation is called **test set**. \n",
    " \n",
    "We start with importing the Python libraries:"
   ]
  },
  {
   "cell_type": "code",
   "execution_count": 55,
   "metadata": {
    "deletable": false,
    "editable": false,
    "nbgrader": {
     "cell_type": "code",
     "checksum": "39238c568a18d094fb839191f5d2a5a8",
     "grade": false,
     "grade_id": "cell-c6ecffc9d661d357",
     "locked": true,
     "schema_version": 3,
     "solution": false,
     "task": false
    }
   },
   "outputs": [
    {
     "data": {
      "text/html": [
       "<style>\n",
       "@font-face {\n",
       "  font-family: 'Sanchez';\n",
       "  src: url('https://fonts.googleapis.com/css?family=Sanchez:400italic,400');\n",
       "}\n",
       "\n",
       "@import url('https://fonts.googleapis.com/css2?family=Sanchez&display=swap');\n",
       "\n",
       "* {\n",
       "  margin: 0;\n",
       "  padding: 0;\n",
       "  box-sizing: border-box;\n",
       "}\n",
       "\n",
       "*,\n",
       "*:before,\n",
       "*:after {\n",
       "\tbox-sizing: inherit;\n",
       "}\n",
       "\n",
       "body {\n",
       "font-family: -apple-system, BlinkMacSystemFont, \"Segoe UI\", Roboto, Helvetica,\n",
       "    Arial, sans-serif, \"Apple Color Emoji\", \"Segoe UI Emoji\", \"Segoe UI Symbol\";\n",
       "}\n",
       "\n",
       ".title-container {\n",
       "  text-align: left;\n",
       "}\n",
       "\n",
       ".title {\n",
       "  font-weight: 600;\n",
       "}\n",
       "\n",
       ".subtitle {\n",
       "  margin: 10px 0px;\n",
       "  color: #888888;\n",
       "  font-size: 25px;\n",
       "  transition: all 0.5s;\n",
       "}\n",
       "\n",
       ".main-container {\n",
       "  padding: 15px;\n",
       "}\n",
       "\n",
       ".card-container {\n",
       "  display: flex;\n",
       "  flex-wrap: wrap;\n",
       "  justify-content: space-between;\n",
       "}\n",
       "\n",
       ".card {\n",
       "  margin: 20px;\n",
       "  padding: 20px;\n",
       "  width: 100%;\n",
       "  min-height: 200px;\n",
       "  display: grid;\n",
       "  grid-template-columns: 1fr 1fr 1fr;\n",
       "  gap: 10px;\n",
       "  border-radius: 10px;\n",
       "  box-shadow: 0px 6px 10px rgba(0, 0, 0, 0.25);\n",
       "  transition: all 0.5s;\n",
       "}\n",
       "\n",
       ".card.small {\n",
       "  width: 50%;\n",
       "  min-height: 100px;\n",
       "  grid-template-columns: 1fr 1fr;\n",
       "}\n",
       "\n",
       ".card:hover {\n",
       "  box-shadow: 0px 6px 10px rgba(0, 0, 0, 0.4);\n",
       "  transform: scale(1.01);\n",
       "}\n",
       "\n",
       ".card__title {\n",
       "  grid-columnn-start: 1;\n",
       "  grid-columnn-end: -1;\n",
       "  font-weight: 400;\n",
       "  color: #ffffff;\n",
       "}\n",
       "\n",
       ".test-input {\n",
       "  grid-column-start: 1;\n",
       "  grid-column-end: 2;\n",
       "  color: #40413e;\n",
       "}\n",
       "\n",
       ".test-output {\n",
       "  grid-column-start: 2;\n",
       "  grid-column-end: 3;\n",
       "  color: #40413e;\n",
       "}\n",
       "\n",
       ".test-expected-output {\n",
       "  grid-column-start: 3;\n",
       "  grid-column-end: 4;\n",
       "  color: #40413e;\n",
       "}\n",
       "\n",
       ".card-failure {\n",
       "  background: radial-gradient(#fbc1cc, #fa99b2);\n",
       "}\n",
       "\n",
       ".card-failure .card__title::before {\n",
       "    display: inline-block;\n",
       "    margin-right: 5px;\n",
       "    font-style: normal;\n",
       "    font-variant: normal;\n",
       "    text-rendering: auto;\n",
       "    -webkit-font-smoothing: antialiased;\n",
       "    font-family: \"Font Awesome 5 Free\";\n",
       "    font-weight: 900;\n",
       "    content: \"\\f057\";\n",
       "}\n",
       "\n",
       ".card-success {\n",
       "  background: radial-gradient(#60efbc, #58d5c9);\n",
       "}\n",
       "\n",
       ".card-success .card__title::before {\n",
       "    display: inline-block;\n",
       "    margin-right: 5px;\n",
       "    font-style: normal;\n",
       "    font-variant: normal;\n",
       "    text-rendering: auto;\n",
       "    -webkit-font-smoothing: antialiased;\n",
       "    font-family: \"Font Awesome 5 Free\";\n",
       "    font-weight: 900;\n",
       "    content: \"\\f058\";\n",
       "}\n",
       "\n",
       ".card-info {\n",
       "  background: radial-gradient(#1fe4f5, #3fbafe);\n",
       "}\n",
       "\n",
       "@media (max-width: 1600px) {\n",
       "  .card-container {\n",
       "    justify-content: center;\n",
       "  }\n",
       "}\n",
       "\n",
       ".code-block {\n",
       "  padding: 5px;\n",
       "  background-color: #f3f7f7;\n",
       "  color: black;\n",
       "  border-radius: 10px;\n",
       "  box-shadow: 0px 6px 10px rgba(0, 0, 0, 0.25);\n",
       "}\n",
       "\n",
       "details {\n",
       "\tfont-size: 1rem;\n",
       "\tbox-shadow: 0 10px 15px -5px rgba(0, 0, 0, 0.1),\n",
       "\t\t0 10px 10px -5px rgba(0, 0, 0, 0.04);\n",
       "\twidth: 100%;\n",
       "\tbackground: #ffffff;\n",
       "\tborder-radius: 10px;\n",
       "\tposition: relative;\n",
       "}\n",
       "\n",
       "details:hover {\n",
       "    cursor: pointer;\n",
       "}\n",
       "\n",
       ".summary-title {\n",
       "    user-select: none;\n",
       "    margin-left: 5px;\n",
       "}\n",
       "\n",
       ".summary-content {\n",
       "    border: 2px solid #0C7B89;\n",
       "    cursor: default;\n",
       "    padding: 1em;\n",
       "    font-weight: 300;\n",
       "    font-size: 15px;\n",
       "    line-height: 1.5;\n",
       "}\n",
       "\n",
       "summary {\n",
       "   color: white;\n",
       "   font-size: large;\n",
       "   font-weight: bold;\n",
       "   padding: 1em;\n",
       "   background-color: #0C7B89;\n",
       "   border-radius: 8px;\n",
       "   list-style: none;\n",
       "}\n",
       "\n",
       "details[open] summary {\n",
       "    border-radius: 8px 8px 0 0;\n",
       "}\n",
       "\n",
       "details[open] summary::before {\n",
       "  transform: rotate(90deg);\n",
       "  font-family: \"Font Awesome 5 Free\";\n",
       "  padding-right: 5px;\n",
       "}\n",
       "\n",
       "details summary::before {\n",
       "  position: absolute;\n",
       "  will-change: transform;\n",
       "  transition: transform 300ms ease;\n",
       "  font-family: \"Font Awesome 5 Free\";\n",
       "  color: #fff;\n",
       "  font-size: 1.1rem;\n",
       "  content: \"\\f105\";\n",
       "  left: 0;\n",
       "  display: inline-block;\n",
       "  width: 1.6rem;\n",
       "  text-align: center;\n",
       "  padding-right: 5px;\n",
       "}\n",
       "\n",
       "summary:focus {\n",
       "  outline: none;\n",
       "}\n",
       "\n",
       "summary::-webkit-details-marker {\n",
       "    display: none;\n",
       "}\n",
       "\n",
       ".ludwig {\n",
       "  position: relative;\n",
       "  padding-left: 1em;\n",
       "  border-left: 0.2em solid lighten( hsl(200, 40, 10), 40%);\n",
       "  font-family: 'Roboto', serif;\n",
       "  font-size: 1.3em;\n",
       "  line-height: 1.5em;\n",
       "  font-weight: 100;\n",
       "}\n",
       "\n",
       ".ludwig::before, .ludwig::after {\n",
       "  content: '\\201C';\n",
       "  font-family: 'Sanchez';\n",
       "  color: lighten( hsl(200, 40, 10), 40%);\n",
       "}\n",
       "\n",
       ".ludwig::after {\n",
       "  content: '\\201D';\n",
       "}\n",
       "\n",
       ".blockquote-container {\n",
       "  margin: 2em auto;\n",
       "}\n",
       "\n",
       "blockquote {\n",
       "  margin-bottom: 3em;\n",
       "}\n",
       "\n",
       ".wrap-up {\n",
       "    border: 2px solid #B41086;\n",
       "    cursor: default;\n",
       "    padding: 20px;\n",
       "    line-height: 1.5;\n",
       "    border-radius: 20px\n",
       "}\n",
       "\n",
       ".wrap-up-title {\n",
       "    font-size:20px;\n",
       "    color: #B41086;\n",
       "    font-weight: bold\n",
       "}\n",
       "\n",
       ".wrap-up-content {\n",
       "    font-size:14px;\n",
       "    color: black;\n",
       "}\n",
       "\n",
       ".info {\n",
       "    background-color: white;\n",
       "    border: 2px solid #0C7B89;\n",
       "    cursor: default;\n",
       "    padding: 10px;\n",
       "    line-height: 1.5;\n",
       "    border-radius: 20px\n",
       "}\n",
       "\n",
       ".info-title {\n",
       "    font-size: 20px;\n",
       "    color: #0C7B89;\n",
       "    font-weight: bold\n",
       "}\n",
       "\n",
       "</style>"
      ],
      "text/plain": [
       "<IPython.core.display.HTML object>"
      ]
     },
     "execution_count": 55,
     "metadata": {},
     "output_type": "execute_result"
    }
   ],
   "source": [
    "import matplotlib.pyplot as plt     # tools for plotting data \n",
    "import numpy as np                  # numerical computations (vectors, matrices, tensors)\n",
    "import pandas as pd                 # handling tabular data (tables)\n",
    "import tensorflow as tf             # deep learning library \n",
    "from tensorflow import keras        # deep learning library \n",
    "from tensorflow.keras import layers # Keras ANN layers \n",
    "\n",
    "# disable info messages from tf\n",
    "import os\n",
    "os.environ['TF_CPP_MIN_LOG_LEVEL'] = '1' \n",
    "\n",
    "# for reproducibility \n",
    "np.random.seed(1)\n",
    "tf.random.set_seed(1)\n",
    "\n",
    "from utils import load_styles\n",
    "\n",
    "# This MUST be the last line of this cell\n",
    "load_styles()"
   ]
  },
  {
   "cell_type": "code",
   "execution_count": 56,
   "metadata": {},
   "outputs": [],
   "source": [
    "# set trainig = False when validating or submitting notebook\n",
    "# and set training = True, when training network\n",
    "training=True"
   ]
  },
  {
   "cell_type": "code",
   "execution_count": 92,
   "metadata": {
    "deletable": false,
    "editable": false,
    "nbgrader": {
     "cell_type": "code",
     "checksum": "7a6aba438a00ed8288bf2bf72c1c0bb4",
     "grade": true,
     "grade_id": "cell-67ab2acd5f070c77",
     "locked": true,
     "points": 0,
     "schema_version": 3,
     "solution": false,
     "task": false
    }
   },
   "outputs": [],
   "source": [
    "# this is a hidden cell to set training=False\n"
   ]
  },
  {
   "cell_type": "markdown",
   "metadata": {
    "deletable": false,
    "editable": false,
    "nbgrader": {
     "cell_type": "markdown",
     "checksum": "d118d663f5e59dd14e4210af6206aa94",
     "grade": false,
     "grade_id": "cell-51893ce36afef536",
     "locked": true,
     "schema_version": 3,
     "solution": false,
     "task": false
    }
   },
   "source": [
    "### Step 1 - Loading Data\n",
    "\n",
    "We will use the [Fashion-MNIST ](https://keras.io/api/datasets/fashion_mnist/) dataset which is provided within [keras datasets](https://keras.io/api/datasets/). This dataset consists of data points representing articles of an online shop. Each article is characterized by a $28 \\times 28$ pixels grayscale image. Moreover, each article is associated with a label $y$ that indicates to which of $10$ classes (or product categories) this article belongs. \n",
    "\n",
    "When you load `fashion_mnist` dataset with `fashion_mnist.load_data()`, the loading function automatically returns data split (as NumPy arrays) on training and test sets. The entire training dataset consists of $60000$ data points and **you would need to split the training set further into the training and validation set** by yourself. The test set is of size $10000$ data points. \n",
    "\n",
    "The $10000$ data points in the test set **must not be used** for learning the ANN weights and also not for monitoring the progress (validation) of the gradient method. Indeed, the monitoring of the validation error is some form of model adjustment as we use the validation error to decide when to stop the gradient method.  "
   ]
  },
  {
   "cell_type": "code",
   "execution_count": null,
   "metadata": {
    "deletable": false,
    "editable": false,
    "nbgrader": {
     "cell_type": "code",
     "checksum": "7bf5d5e27928f11d62820c7959b26ad1",
     "grade": false,
     "grade_id": "cell-60b019828ca45aa3",
     "locked": true,
     "schema_version": 3,
     "solution": false,
     "task": false
    }
   },
   "outputs": [],
   "source": [
    "import ssl\n",
    "# need this line (certificate verification) for loading dataset\n",
    "ssl._create_default_https_context = ssl._create_unverified_context\n",
    "\n",
    "# load dataset\n",
    "from tensorflow.keras.datasets import fashion_mnist\n",
    "(trainval_images, trainval_labels), (test_images, test_labels) = fashion_mnist.load_data()\n",
    "\n",
    "# shape of train and test image\n",
    "print(f'\\nNumber of training and validation examples {trainval_images.shape}')\n",
    "print(f'\\nNumber of test examples {test_images.shape}')"
   ]
  },
  {
   "cell_type": "markdown",
   "metadata": {
    "deletable": false,
    "editable": false,
    "nbgrader": {
     "cell_type": "markdown",
     "checksum": "1626d6fa3a60a6532cf0c1941ada16c8",
     "grade": false,
     "grade_id": "cell-b921a7ad9b40cf5f",
     "locked": true,
     "schema_version": 3,
     "solution": false,
     "task": false
    }
   },
   "source": [
    "As you can see, the data is stored as 3D NumPy arrays, where the first dimension is the number of samples and the last two - the size of the image (28x28 pixels). Let's find out the range of feature values (pixels) and data type:"
   ]
  },
  {
   "cell_type": "code",
   "execution_count": null,
   "metadata": {
    "deletable": false,
    "editable": false,
    "nbgrader": {
     "cell_type": "code",
     "checksum": "54dfb25e8fecfbd00ecaac5a255d0d88",
     "grade": false,
     "grade_id": "cell-37fc74be57659ff4",
     "locked": true,
     "schema_version": 3,
     "solution": false,
     "task": false
    }
   },
   "outputs": [],
   "source": [
    "print(f'Min feature value {trainval_images.min()}')\n",
    "print(f'Max feature value {trainval_images.max()}')\n",
    "print(f'Data type {type(trainval_images.min())}')"
   ]
  },
  {
   "cell_type": "markdown",
   "metadata": {
    "deletable": false,
    "editable": false,
    "nbgrader": {
     "cell_type": "markdown",
     "checksum": "29b6fa509f5a6e67288764cbdde587ce",
     "grade": false,
     "grade_id": "cell-33710746a1c19af3",
     "locked": true,
     "schema_version": 3,
     "solution": false,
     "task": false
    }
   },
   "source": [
    "The data point labels are integer values between 0 and 9:"
   ]
  },
  {
   "cell_type": "code",
   "execution_count": null,
   "metadata": {
    "deletable": false,
    "editable": false,
    "nbgrader": {
     "cell_type": "code",
     "checksum": "ab29d7e7f8cb3331a6aeac29006cc597",
     "grade": false,
     "grade_id": "cell-3ba7c91a26ff45f6",
     "locked": true,
     "schema_version": 3,
     "solution": false,
     "task": false
    }
   },
   "outputs": [],
   "source": [
    "# the label values are stored as integer numbers, in the range [0, 9]\n",
    "# these numeric labels correspond to the classes of clothing items the image represent:\n",
    "\n",
    "labels = np.unique(test_labels)\n",
    "print(labels)"
   ]
  },
  {
   "cell_type": "markdown",
   "metadata": {
    "deletable": false,
    "editable": false,
    "nbgrader": {
     "cell_type": "markdown",
     "checksum": "361b02b2e0724ef27d34b34a87d08706",
     "grade": false,
     "grade_id": "cell-14af7e11df6aec9f",
     "locked": true,
     "schema_version": 3,
     "solution": false,
     "task": false
    }
   },
   "source": [
    "The code snippet below maps the numeric label values to class names. The class names are defined according to [documentation](https://www.tensorflow.org/tutorials/keras/classification)."
   ]
  },
  {
   "cell_type": "code",
   "execution_count": null,
   "metadata": {
    "deletable": false,
    "editable": false,
    "nbgrader": {
     "cell_type": "code",
     "checksum": "dd46fba086bc36931323859c935617e6",
     "grade": false,
     "grade_id": "cell-34de273a0e9a09d5",
     "locked": true,
     "schema_version": 3,
     "solution": false,
     "task": false
    }
   },
   "outputs": [],
   "source": [
    "class_names = ['T-shirt/top', 'Trouser', 'Pullover', 'Dress', 'Coat',\n",
    "               'Sandal',      'Shirt',   'Sneaker',  'Bag',   'Ankle boot']\n",
    "\n",
    "# display numeric label and corresponding class name \n",
    "print('label value \\t category \\n')\n",
    "for class_name, label in zip(class_names, labels):\n",
    "    print (f'{label} \\t\\t {class_name}')"
   ]
  },
  {
   "cell_type": "markdown",
   "metadata": {
    "deletable": false,
    "editable": false,
    "nbgrader": {
     "cell_type": "markdown",
     "checksum": "8c954a903c55ef81fb99e69abac06280",
     "grade": false,
     "grade_id": "cell-83473a5113b1c615",
     "locked": true,
     "schema_version": 3,
     "solution": false,
     "task": false
    }
   },
   "source": [
    "Let's visualize a few data points (images):"
   ]
  },
  {
   "cell_type": "code",
   "execution_count": null,
   "metadata": {
    "deletable": false,
    "editable": false,
    "nbgrader": {
     "cell_type": "code",
     "checksum": "271a5ec173eaf87cec2de2ee0bc11bd2",
     "grade": false,
     "grade_id": "cell-730cd89cd36a0cbf",
     "locked": true,
     "schema_version": 3,
     "solution": false,
     "task": false
    }
   },
   "outputs": [],
   "source": [
    "# visuale 10 first images from test set\n",
    "plt.figure(figsize=(10,10))\n",
    "i = 0\n",
    "for (image, label) in zip(test_images[:10],test_labels[:10]):\n",
    "    plt.subplot(5,5,i+1)\n",
    "    plt.xticks([]) # remove ticks on x-axis\n",
    "    plt.yticks([]) # remove ticks on y-axis\n",
    "    plt.imshow(image, cmap='binary') # set the colormap to 'binary' \n",
    "    plt.xlabel(class_names[label])\n",
    "    i += 1\n",
    "plt.tight_layout()    \n",
    "plt.show()"
   ]
  },
  {
   "cell_type": "markdown",
   "metadata": {
    "deletable": false,
    "editable": false,
    "nbgrader": {
     "cell_type": "markdown",
     "checksum": "20c0842035b80d924deb89a658a5545e",
     "grade": false,
     "grade_id": "cell-7d8ba9d5504382be",
     "locked": true,
     "schema_version": 3,
     "solution": false,
     "task": false
    }
   },
   "source": [
    "Each shop item is characterized by a feature vector $\\mathbf{x}=\\big(x_{1},\\ldots,x_{n}\\big)$ of length $n = 784$ which corresponds to $28 \\times 28$ pixels. The feature $x_{i}$ is the grayscale values of $i$th pixels. A black pixel has grayscale value 0, while a white pixel has grayscale value $255$. \n",
    "\n",
    "The code snippet below reads in one data point (shop item) and illustrates its features, i.e., grayscale values of each pixel. "
   ]
  },
  {
   "cell_type": "code",
   "execution_count": null,
   "metadata": {
    "deletable": false,
    "editable": false,
    "nbgrader": {
     "cell_type": "code",
     "checksum": "38982ec247e0233645324d9eabe48590",
     "grade": false,
     "grade_id": "cell-3152eeb5e58d2247",
     "locked": true,
     "schema_version": 3,
     "solution": false,
     "task": false
    }
   },
   "outputs": [],
   "source": [
    "# select the image to visualize\n",
    "img = test_images[0]\n",
    "# create figure and axis objects\n",
    "fig, ax = plt.subplots(1,1,figsize = (8,8)) \n",
    "# display image\n",
    "ax.imshow(img, cmap='gray')\n",
    "width, height = img.shape\n",
    "# this value will be needed in order to change the color of annotations\n",
    "thresh = img.max()/2.5\n",
    "\n",
    "# display grayscale value of each pixel\n",
    "for x in range(width):\n",
    "    for y in range(height):\n",
    "        val = (img[x][y])\n",
    "        ax.annotate(str(val), xy=(y,x),\n",
    "                    horizontalalignment='center',\n",
    "                    verticalalignment='center',\n",
    "                    # if a pixel is black set the color of annotation as white\n",
    "                    color='white' if img[x][y]<thresh else 'black')\n",
    "plt.show()"
   ]
  },
  {
   "cell_type": "markdown",
   "metadata": {
    "deletable": false,
    "editable": false,
    "nbgrader": {
     "cell_type": "markdown",
     "checksum": "31e7d6612d8a9e594f01352292583c5e",
     "grade": false,
     "grade_id": "cell-dcd33ef8c7809e7f",
     "locked": true,
     "schema_version": 3,
     "solution": false,
     "task": false
    }
   },
   "source": [
    "Before we proceed to build and train the model, we will preprocess the data. First, let's choose only a subset for training data in order to reduce training time:"
   ]
  },
  {
   "cell_type": "code",
   "execution_count": null,
   "metadata": {
    "deletable": false,
    "editable": false,
    "nbgrader": {
     "cell_type": "code",
     "checksum": "e6a14c5311f9c5424fbd312dcb21c033",
     "grade": false,
     "grade_id": "cell-7958e182f252f7fa",
     "locked": true,
     "schema_version": 3,
     "solution": false,
     "task": false
    }
   },
   "outputs": [],
   "source": [
    "# select subset of trainval_images and trainval_labels (to reduce training time)\n",
    "X_trainval = trainval_images[:16000]\n",
    "y_trainval = trainval_labels[:16000]\n",
    "\n",
    "# select whole test set\n",
    "X_test = test_images\n",
    "y_test = test_labels"
   ]
  },
  {
   "cell_type": "markdown",
   "metadata": {
    "deletable": false,
    "editable": false,
    "nbgrader": {
     "cell_type": "markdown",
     "checksum": "08f14ebae964a7a72ee81a4250c2cd2f",
     "grade": false,
     "grade_id": "cell-ce616e8b2149dde6",
     "locked": true,
     "schema_version": 3,
     "solution": false,
     "task": false
    }
   },
   "source": [
    "Next, we need to reshape feature matrices `X_trainval` and `X_test` into the shape our model expects.\\\n",
    "The first layer of our ANN is the input layer with a dimensionality of 784 (28x28 pixel values/features per data point). Thus, we need to reshape the feature matrices `X_trainval` and `X_test` from  (-1, 28, 28) to (-1, 784):\n"
   ]
  },
  {
   "cell_type": "code",
   "execution_count": null,
   "metadata": {
    "deletable": false,
    "editable": false,
    "nbgrader": {
     "cell_type": "code",
     "checksum": "399c904e6358a0d7111f9e12c50f4622",
     "grade": false,
     "grade_id": "cell-4ab28310597908ca",
     "locked": true,
     "schema_version": 3,
     "solution": false,
     "task": false
    }
   },
   "outputs": [],
   "source": [
    "# reshape data from (m, 28, 28) to (m, 784)\n",
    "X_trainval = X_trainval.reshape(-1, 28 * 28)\n",
    "X_test = test_images.reshape(-1, 28 * 28)"
   ]
  },
  {
   "cell_type": "markdown",
   "metadata": {
    "deletable": false,
    "editable": false,
    "nbgrader": {
     "cell_type": "markdown",
     "checksum": "b0f8448cb8a66c1d6307aa8fb461bb82",
     "grade": false,
     "grade_id": "cell-3406290cabb4620c",
     "locked": true,
     "schema_version": 3,
     "solution": false,
     "task": false
    }
   },
   "source": [
    "We refer to this stacking of a two-dimensional array of pixel grayscale values into a one-dimensional vector $\\mathbf{x}$ as **flattening**. \n",
    "\n",
    "When training the ANN it is a good practice to normalize the input values so that they are between 0 and 1, in our case, the pixel values.\n",
    "\n",
    "Let's transform feature values of type uint8 in a range [0, 255] to feature values of type float in the range [0, 1]:"
   ]
  },
  {
   "cell_type": "code",
   "execution_count": null,
   "metadata": {
    "deletable": false,
    "editable": false,
    "nbgrader": {
     "cell_type": "code",
     "checksum": "40e80de03c8f34580cd6a3e141104af8",
     "grade": false,
     "grade_id": "cell-a0445926e2a032be",
     "locked": true,
     "schema_version": 3,
     "solution": false,
     "task": false
    }
   },
   "outputs": [],
   "source": [
    "# normalize data to have feature values between 0 and 1\n",
    "X_trainval = X_trainval/ 255.0\n",
    "X_test = X_test/ 255.0"
   ]
  },
  {
   "cell_type": "markdown",
   "metadata": {
    "deletable": false,
    "editable": false,
    "nbgrader": {
     "cell_type": "markdown",
     "checksum": "8510d45ccb8fee154e70140655c59125",
     "grade": false,
     "grade_id": "cell-5354a6c46609a814",
     "locked": true,
     "schema_version": 3,
     "solution": false,
     "task": false
    }
   },
   "source": [
    "### Step 2. Define Hypothesis Space - ANN Structure\n",
    "\n",
    "To classify the shop items into 10 categories we learn a predictor map represented by an ANN. The ANN reads in the features $x_{i}$ of a shop item, which are the grayscale values of the item image. The output of the ANN are probabilities, or degrees of belonging, for each of the ten different categories. \n",
    "\n",
    "In particular, we will use an ANN with an arbitrary architecture:\n",
    "\n",
    "- input layer \n",
    "- one dense layer with 128 units and ReLU activation function\n",
    "- output layer with 10 units and softmax activation function\n",
    "\n",
    "The input layer consists of the individual features and is the entry point to the ANN. The input layer is connected to a dense layer with 128 neurons with the ReLU activation function. This hidden layer is then followed by the final output layer with ten neurons and a softmax activation function. \n",
    "\n",
    "The output layer with 10 neurons (corresponding to 10 classes) returns probabilities of belonging to a certain class. Note, that output values of all 10 neurons always sum to one. This is the result of using the softmax activation function in the last layer. For example, if the output of a first neuron (out of 10) is close to 1, we are confident in assigning the data point to class $1$. \n",
    "\n",
    "There are three main ways to build ANN in tensorflow backend Keras. The easiest one is to use [keras.Sequential() class](https://keras.io/api/models/sequential/). This class is used when you just need to stack layers sequentially. In contrast, [Functional API](https://keras.io/guides/functional_api/) is more flexible and allows building models with non-sequentional structure, multiple inputs and outputs. Finally, for more advanced users Keras provides [Dynamic models with Subclussing API](https://keras.io/guides/making_new_layers_and_models_via_subclassing/).\n",
    "\n",
    "Here we will use a simple Sequential model. Below you will see 3 variations of how to build a Sequential model:"
   ]
  },
  {
   "cell_type": "code",
   "execution_count": null,
   "metadata": {
    "deletable": false,
    "editable": false,
    "nbgrader": {
     "cell_type": "code",
     "checksum": "0638bf10ee9caadb433be22fff774f44",
     "grade": false,
     "grade_id": "cell-b1b01371520684fb",
     "locked": true,
     "schema_version": 3,
     "solution": false,
     "task": false
    }
   },
   "outputs": [],
   "source": [
    "# method 1\n",
    "# create an object - 'model' that represents an ANN\n",
    "model = keras.Sequential()      \n",
    "# add layers by using `model.add()` method\n",
    "model.add(layers.InputLayer(input_shape=(784,)))\n",
    "model.add(layers.Dense(units=128, activation='relu'))\n",
    "model.add(layers.Dense(units=10, activation='softmax'))\n",
    "\n",
    "# method 2\n",
    "# make a list of layers and pass to `keras.Sequential()`\n",
    "model = keras.Sequential([\n",
    "    layers.InputLayer(input_shape=(784,)),\n",
    "    layers.Dense(units=128, activation='relu'),\n",
    "    layers.Dense(units=10, activation='softmax')\n",
    "])\n",
    "\n",
    "# method 3\n",
    "# skip input layer and indicate input shape in the first hidden layer instead\n",
    "model = keras.Sequential([\n",
    "    layers.Dense(units=128, activation='relu', input_shape=(784,)),\n",
    "    layers.Dense(units=10, activation='softmax')\n",
    "])"
   ]
  },
  {
   "cell_type": "markdown",
   "metadata": {
    "deletable": false,
    "editable": false,
    "nbgrader": {
     "cell_type": "markdown",
     "checksum": "11a7a8e845e3fdfa804649a09dea1a89",
     "grade": false,
     "grade_id": "cell-35c496f237330559",
     "locked": true,
     "schema_version": 3,
     "solution": false,
     "task": false
    }
   },
   "source": [
    "The last variant seems to be cleaner, so let's use it to define the model:"
   ]
  },
  {
   "cell_type": "code",
   "execution_count": null,
   "metadata": {
    "deletable": false,
    "editable": false,
    "nbgrader": {
     "cell_type": "code",
     "checksum": "34fa333c662122bac43db0af13d547a6",
     "grade": false,
     "grade_id": "cell-e12b5af1bd8c1b79",
     "locked": true,
     "schema_version": 3,
     "solution": false,
     "task": false
    }
   },
   "outputs": [],
   "source": [
    "# define model architecture\n",
    "\n",
    "model = keras.Sequential([\n",
    "    # hidden layer\n",
    "    layers.Dense(128, activation='relu',input_shape=(784,)),\n",
    "    # output layer\n",
    "    layers.Dense(10, activation='softmax')\n",
    "])"
   ]
  },
  {
   "cell_type": "markdown",
   "metadata": {
    "deletable": false,
    "editable": false,
    "nbgrader": {
     "cell_type": "markdown",
     "checksum": "130507d4b67b86d13fabb1afcee5df5c",
     "grade": false,
     "grade_id": "cell-3804e92a63cd4916",
     "locked": true,
     "schema_version": 3,
     "solution": false,
     "task": false
    }
   },
   "source": [
    "We can call the `summary()` method on the model to see information about it. This method provides the following textual information:\n",
    "- The number of parameters (weights) in each layer\n",
    "- The total number of parameters (weights) in the model\n",
    "- The layers and their order in the model\n",
    "- The output shape of each layer"
   ]
  },
  {
   "cell_type": "code",
   "execution_count": null,
   "metadata": {
    "deletable": false,
    "editable": false,
    "nbgrader": {
     "cell_type": "code",
     "checksum": "0cd175fd1b7356c8d2dcbbbf717a8d2b",
     "grade": false,
     "grade_id": "cell-390f260dcfce6741",
     "locked": true,
     "schema_version": 3,
     "solution": false,
     "task": false
    },
    "tags": []
   },
   "outputs": [],
   "source": [
    "model.summary()"
   ]
  },
  {
   "cell_type": "markdown",
   "metadata": {
    "deletable": false,
    "editable": false,
    "nbgrader": {
     "cell_type": "markdown",
     "checksum": "37d1556cb7881f600718a69f4a3e2419",
     "grade": false,
     "grade_id": "cell-d2398862c53def64",
     "locked": true,
     "schema_version": 3,
     "solution": false,
     "task": false
    }
   },
   "source": [
    "The above summary indicates that the ANN has a total of $d=101,770$ parameters (weights and biases) that can be adjusted (trained) based on labeled training data. You can also compute the number of parameters manually: \n",
    "- number of parameters in hidden layer 784*128+128 = 100480\n",
    "- number of parameters in output layer 128*10+10 = 1290\n",
    "\n",
    "or generally, the number of parameters in a layer equals to (n.o. neurons in previous layer)*(n.o. neurons in current layer) + (n.o. neurons in current layer). The last term corresponds to the biases of each neuron.\n",
    "\n",
    "The basic theory of ML suggests that we would need at least the same number of training examples to reliably train the ANN weights. A (crude!) rule of thumb is to have ten times more training data points than learnable weights. This would amount to a training set of around one million data points for which we would need to know the correct labels. Obviously, we have a much smaller dataset, but let's see how our model performs in practice."
   ]
  },
  {
   "cell_type": "markdown",
   "metadata": {
    "deletable": false,
    "editable": false,
    "nbgrader": {
     "cell_type": "markdown",
     "checksum": "344b6947f023c31ac73f702fc07b7a02",
     "grade": false,
     "grade_id": "cell-99e11c02493ca6b9",
     "locked": true,
     "schema_version": 3,
     "solution": false,
     "task": false
    }
   },
   "source": [
    "The textual model summary above is useful for simple models. However, this textual summary can be difficult to interpret for ANN structures with multiple inputs or outputs. To this end, `tf.keras` provides a function called `plot_model()` to create a graphical summary of the ANN that might be easier to understand."
   ]
  },
  {
   "cell_type": "code",
   "execution_count": null,
   "metadata": {
    "deletable": false,
    "editable": false,
    "nbgrader": {
     "cell_type": "code",
     "checksum": "21f163bceee34a2777dff3782786dc64",
     "grade": false,
     "grade_id": "cell-b8e2332611383fd2",
     "locked": true,
     "schema_version": 3,
     "solution": false,
     "task": false
    }
   },
   "outputs": [],
   "source": [
    "keras.utils.plot_model(\n",
    "    model,\n",
    "    show_shapes=True, \n",
    "    show_layer_names=True\n",
    ")"
   ]
  },
  {
   "cell_type": "markdown",
   "metadata": {
    "deletable": false,
    "editable": false,
    "nbgrader": {
     "cell_type": "markdown",
     "checksum": "7d1b0703c79251f77baddd63f7acfc5a",
     "grade": false,
     "grade_id": "cell-83a7530c4b943ee7",
     "locked": true,
     "schema_version": 3,
     "solution": false,
     "task": false
    }
   },
   "source": [
    "### Step 3 - Choose Loss Function and Optimizer\n",
    "\n",
    "Before we can start the training of the ANN, i.e., the tuning of the ANN weights, we need to define:\n",
    "\n",
    "- the specific algorithm, optimizer, (usually variant of gradient descent) for tuning the weights of the ANN\n",
    "- the loss function used to measure the quality of particular choice for the weights\n",
    "- the metric to assess the performance of the final choice for the weights. \n",
    "\n",
    "The code snippet below illustrates how to choose the categorical cross-entropy as loss function, the accuracy (fraction of correctly classified data points) as the metric, and the \"RMSprop\" variant of GD. All these parameters are specified using the Keras function `compile()`. "
   ]
  },
  {
   "cell_type": "markdown",
   "metadata": {
    "deletable": false,
    "editable": false,
    "nbgrader": {
     "cell_type": "markdown",
     "checksum": "f11771d6ac4baaffe9d9174efb8d0b7b",
     "grade": false,
     "grade_id": "cell-a07a38101726a038",
     "locked": true,
     "schema_version": 3,
     "solution": false,
     "task": false
    }
   },
   "source": [
    "<div class=\"alert alert-block alert-info\" style=\"background-color: white; border: 2px solid; padding: 10px\">\n",
    "    <b><i class=\"fa fa-info-circle\" aria-hidden=\"true\"></i>&nbsp; Info</b><br>\n",
    "     <p style=\"color: black\">\n",
    "In Keras we use <code>categorical_crossentropy</code> loss function for multiclass classification & when labels are provided in one-hot representation. We use <code>sparse_categorical_crossentropy</code> when you want to provide labels as integers. What are the differences? In principle none, as they both compute categorical cross-entropy, but read more <a href=\"https://stackoverflow.com/questions/58565394/what-is-the-difference-between-sparse-categorical-crossentropy-and-categorical-c\">here</a>. <br>\n",
    "<br>\n",
    "For classification problems we will use accuracy metrics <code>metrics='sparse_categorical_accuracy'</code>, but <a href=\"https://keras.io/api/metrics/\">other metrics</a> are also provided by Keras.    \n",
    "</p>\n",
    "    \n",
    "</div>"
   ]
  },
  {
   "cell_type": "code",
   "execution_count": null,
   "metadata": {
    "deletable": false,
    "editable": false,
    "nbgrader": {
     "cell_type": "code",
     "checksum": "6d7c7c6ec2088bd963ebf5538f05ac4b",
     "grade": false,
     "grade_id": "cell-94a054d195cb0d18",
     "locked": true,
     "schema_version": 3,
     "solution": false,
     "task": false
    }
   },
   "outputs": [],
   "source": [
    "# compile the model\n",
    "model.compile(optimizer='RMSprop',\n",
    "              loss='sparse_categorical_crossentropy',\n",
    "              metrics='sparse_categorical_accuracy')"
   ]
  },
  {
   "cell_type": "markdown",
   "metadata": {
    "deletable": false,
    "editable": false,
    "nbgrader": {
     "cell_type": "markdown",
     "checksum": "1ce8d85552cb5b96e6b9049ce5ca52a7",
     "grade": false,
     "grade_id": "cell-7774b033b9ab05a6",
     "locked": true,
     "schema_version": 3,
     "solution": false,
     "task": false
    }
   },
   "source": [
    "<div class=\"alert alert-block alert-info\" style=\"background-color: white; border: 2px solid; padding: 10px\">\n",
    "    <b><i class=\"fa fa-info-circle\" aria-hidden=\"true\"></i>&nbsp; Info</b><br>\n",
    "    <p style=\"color: black\">\n",
    "        With statement: </p>\n",
    "\n",
    "```python\n",
    ">>> model.compile(optimizer='RMSprop', ... )\n",
    "```\n",
    "    \n",
    "<p style=\"color: black\">\n",
    "we choose the optimizer RMSprop with <a href=\"https://keras.io/api/optimizers/rmsprop/\">default parameters</a>. \n",
    "To print out the default learning rate use:</p>  \n",
    "    \n",
    "```python\n",
    ">>> model.optimizer.learning_rate\n",
    ">>> <tf.Variable 'learning_rate:0' shape=() dtype=float32, numpy=0.001>\n",
    "```\n",
    "    \n",
    "</div>"
   ]
  },
  {
   "cell_type": "markdown",
   "metadata": {
    "deletable": false,
    "editable": false,
    "nbgrader": {
     "cell_type": "markdown",
     "checksum": "890aa73765bef094e2d2d93c0fd6ca49",
     "grade": false,
     "grade_id": "cell-69b24529c208bdb0",
     "locked": true,
     "schema_version": 3,
     "solution": false,
     "task": false
    }
   },
   "source": [
    "### Step 4. Training - Adjusting ANN Weights\n",
    "\n",
    "We are now ready to train our network, which is done via a call to the `.fit()` method. Any Keras object that represents an ANN also provides a `.fit()` method which optimizes the ANN weights. \n",
    "\n",
    "Before we run following line of code, let's understand parameters in `.fit()` function: `validation_split`, `batch_size` and `epochs`. \n",
    "\n",
    "- **validation_spit:** `validation_split` is used to separate a portion of our training data into a validation dataset and evaluate the performance of our model on that validation dataset for each epoch. We can specify the percentage we want to allocate to the validation set by setting this `validation_split` argument in the `.fit()` function to a percentage of the size of our training dataset.\n",
    "\n",
    "     So, why do we need a validation set anyway? A validation set is used to estimate the performance of a model for a given \n",
    "     training run (epoch). Meaning we will use the training set to train the model and use the validation set (data that's not \n",
    "     seen by the model during training) to predict while the model is being trained.  This will help us to get insight into \n",
    "     whether our model is overfitting or not. We can find out if the model is overfitting or not by comparing the accuracy and \n",
    "     loss from our training samples to the validation accuracy and validation loss from our validation samples. Further, we can \n",
    "     also use these accuracy measures from these two different sets to tune the hyper-parameters (like learning rate, number of \n",
    "     epochs the model should be trained) of the model.\n",
    "     <br>\n",
    "\n",
    "- **batch_size**: Number of samples per gradient update. If unspecified, `batch_size` will default to 32. Do not specify the `batch_size` if your data is in the form of tensorflow datasets, generators, or keras.utils. sequence instances (since they are already generating batches of a certain size).\n",
    "<br>\n",
    "\n",
    "- **epochs**: This parameter is the number of times we want the optimization algorithm to use the entire dataset for tuning the weights. In general, the training loss decreases with increasing the number of epochs. \n"
   ]
  },
  {
   "cell_type": "code",
   "execution_count": null,
   "metadata": {
    "deletable": false,
    "editable": false,
    "nbgrader": {
     "cell_type": "code",
     "checksum": "d2b1489f7308d7da45601c725274252c",
     "grade": false,
     "grade_id": "cell-949dedcc9a955a6d",
     "locked": true,
     "schema_version": 3,
     "solution": false,
     "task": false
    },
    "tags": []
   },
   "outputs": [],
   "source": [
    "%%time \n",
    "# track execution time\n",
    "\n",
    "if training==True:\n",
    "    history = model.fit(X_trainval, y_trainval, validation_split=0.2, batch_size=32, epochs=20, verbose=1)"
   ]
  },
  {
   "cell_type": "markdown",
   "metadata": {
    "deletable": false,
    "editable": false,
    "nbgrader": {
     "cell_type": "markdown",
     "checksum": "c70f4c82affa80fc12a9935ac4172eb9",
     "grade": false,
     "grade_id": "cell-92e94a4c41927d75",
     "locked": true,
     "schema_version": 3,
     "solution": false,
     "task": false
    }
   },
   "source": [
    "### Read the Training Log !\n",
    " \n",
    "\n",
    "`model.fit()` method has a parameter `verbose`, which is set to `verbose=1` [by default](https://keras.io/api/models/model_training_apis/#fit-method). This parameter controls information printed out during training. In the beginning, you see information about epoch number and progress bar is printed:\n",
    "\n",
    "`Epoch 1/20`\\\n",
    "`[==>...........................]`\n",
    "\n",
    "In addition, the total elapsed time and the time per sample is also printed for each epoch:\n",
    "\n",
    "`Epoch 1/20`\\\n",
    "`400/400 [==============================] - 1s 3ms/step`\n",
    "\n",
    "400 is a number of batches per epoch: 16000*0.8/32\n",
    "\n",
    "And most importantly, you can track loss values and values of metrics (e.g. accuracy):\n",
    "\n",
    "`loss: 0.6978 - accuracy: 0.7581 - val_loss: 0.5176 - val_accuracy: 0.8094`\n",
    "\n",
    "Note, that training loss and training accuracy are running averages - their values are updated after processing each batch. Loss and accuracy on the validation set are evaluated only at the end of an epoch. \n",
    "\n",
    "If you will set `verbose=2`, the progress bar and time elapsed will not be printed out and `verbose=0` is a silent mode. "
   ]
  },
  {
   "cell_type": "markdown",
   "metadata": {
    "deletable": false,
    "editable": false,
    "nbgrader": {
     "cell_type": "markdown",
     "checksum": "4ff71d7e2748ba98fb46b800d5b29d94",
     "grade": false,
     "grade_id": "cell-35c3f4f5be3e9d45",
     "locked": true,
     "schema_version": 3,
     "solution": false,
     "task": false
    }
   },
   "source": [
    "### Plot Training History \n",
    "\n",
    "A `.fit()` method not only determines a good choice for the weights but also returns a history object. The history object contains different metrics for each epoch of the training (optimization) process. \n",
    "\n",
    "The metrics recorded during the training process are stored as a dictionary in the `.history` attribute of the `history` object. To get a better understanding of how well the training process went, it is useful to plot the metrics as a function of epoch number. In particular, these plots allow analyzing:\n",
    "\n",
    "- how fast the optimization algorithm improves the loss function by adjusting the weights\n",
    "- whether there is any significant progress made anymore\n",
    "- whether the resulting predictor is overfitting (validation loss much higher than training loss) \n",
    "\n",
    "Note! While training loss/accuracy is computed as a running average, which is updated after computing loss for the current batch, validation loss/accuracy is computed at the end of the epoch. This means that validation loss/accuracy values sometimes will look better than for the training set, but only because they were computed after multiple parameters' updates."
   ]
  },
  {
   "cell_type": "code",
   "execution_count": null,
   "metadata": {
    "deletable": false,
    "editable": false,
    "nbgrader": {
     "cell_type": "code",
     "checksum": "5ca64d0cfb92a572316236fed42320ba",
     "grade": false,
     "grade_id": "cell-0a27dfab12efc958",
     "locked": true,
     "schema_version": 3,
     "solution": false,
     "task": false
    }
   },
   "outputs": [],
   "source": [
    "import pandas as pd    # library for handling tabular data\n",
    "\n",
    "# plot training log\n",
    "if training:\n",
    "    pd.DataFrame(history.history).plot(figsize=(7,4))\n",
    "    plt.grid(True)\n",
    "    plt.xlabel('epoch', fontsize=14)\n",
    "    plt.show()"
   ]
  },
  {
   "cell_type": "markdown",
   "metadata": {
    "deletable": false,
    "editable": false,
    "nbgrader": {
     "cell_type": "markdown",
     "checksum": "6ccd8b1527da8081b055e07978ce2014",
     "grade": false,
     "grade_id": "cell-b0482760ce42b639",
     "locked": true,
     "schema_version": 3,
     "solution": false,
     "task": false
    }
   },
   "source": [
    "We can see from the plot that the model is overfitting: training loss is much lower than validation loss, while training accuracy is higher than accuracy on the validation dataset (~0.92 vs ~0.86).\n",
    "\n",
    "### Evaluation on Test Set\n",
    "\n",
    "After completing the training of ANN, we should evaluate the performance of the ANN with the final weights. For this, we will use a set of labeled data points that is different from the training and the validation sets. Indeed, we use the training set to train (optimize/tune/adjust) the ANN weights and we also use the validation set to choose hyperparameters, e.g. decide when to stop training (see [EarlyStopping](https://keras.io/api/callbacks/early_stopping/) for more info). Thus, both, the training set and validation set are used to find the final ANN weights. Therefore we need a test set that is different from the training and the validation sets. \n",
    "\n",
    "Let's evaluate the accuracy of our model on the test set with the `.evaluate()` function.\n"
   ]
  },
  {
   "cell_type": "code",
   "execution_count": null,
   "metadata": {
    "deletable": false,
    "editable": false,
    "nbgrader": {
     "cell_type": "code",
     "checksum": "852a823c7cf84ce875958e4b8cc16259",
     "grade": false,
     "grade_id": "cell-059382990d7f5bea",
     "locked": true,
     "schema_version": 3,
     "solution": false,
     "task": false
    }
   },
   "outputs": [],
   "source": [
    "test_loss, test_accuracy = model.evaluate(X_test, y_test, verbose=2)\n",
    "print(f'Accuracy on test dataset: {test_accuracy:.2f}')"
   ]
  },
  {
   "cell_type": "markdown",
   "metadata": {
    "deletable": false,
    "editable": false,
    "nbgrader": {
     "cell_type": "markdown",
     "checksum": "e213670bc730417a9b307c2358222d2e",
     "grade": false,
     "grade_id": "cell-38b003fdcd0ba70e",
     "locked": true,
     "schema_version": 3,
     "solution": false,
     "task": false
    }
   },
   "source": [
    "We can see that the accuracy on the test dataset is similar to the accuracy on the validation dataset (~0.86)."
   ]
  },
  {
   "cell_type": "markdown",
   "metadata": {
    "deletable": false,
    "editable": false,
    "nbgrader": {
     "cell_type": "markdown",
     "checksum": "6a7c342b1356737261555031d24f061b",
     "grade": false,
     "grade_id": "cell-17855ef834b86824",
     "locked": true,
     "schema_version": 3,
     "solution": false,
     "task": false
    }
   },
   "source": [
    "<a id='1.4'></a>\n",
    "<div class=\" alert alert-success\">\n",
    "    <h3><b>Student task 1.4.</b> ANN for regression problem.</h3>\n",
    "\n",
    "[Points: 1.5p]\n",
    "\n",
    "Now, as you are familiar with basic tools to work with a neural network, your task is to build and train ANN similar to described above, but for a regression problem. We will use [California housing dataset](https://scikit-learn.org/stable/modules/generated/sklearn.datasets.fetch_california_housing.html#sklearn-datasets-fetch-california-housing) from sklearn. \n",
    "    \n",
    "- ANN for regression should predict real numbers (not restricted to range 0-1 as in the case with predicting probabilities). \n",
    "- You can freely choose the architecture of ANN (number of layers, neurons) and training parameters (validation_split, batch_size, epochs). \n",
    "    \n",
    "- We advice to use ReLU activation function for neurons in hidden layer(s).\n",
    "    \n",
    "You should think about:\n",
    "    \n",
    "- What loss function is used for the prediction of continuous numeric value? \n",
    "- Do you need to apply the activation function to the output neuron? \n",
    "    \n",
    "</div>\n",
    "    \n",
    "<div class=\" alert alert-danger\">\n",
    "    <h3 align='center'><b>Evaluate your model on a test set and achieve test loss (MSE) $\\leq$ 0.42.</b></h3>\n",
    "</div>\n",
    "\n",
    "<br>\n",
    "</div>"
   ]
  },
  {
   "cell_type": "markdown",
   "metadata": {
    "deletable": false,
    "editable": false,
    "nbgrader": {
     "cell_type": "markdown",
     "checksum": "ae9913c7d0fd086fde072227ad328b29",
     "grade": false,
     "grade_id": "cell-deef17447672f318",
     "locked": true,
     "schema_version": 3,
     "solution": false,
     "task": false
    }
   },
   "source": [
    "<div class=\"alert alert-block alert-info\" style=\"background-color: white; border: 2px solid; padding: 10px\">\n",
    "    <b><i class=\"fa fa-info-circle\" aria-hidden=\"true\"></i>&nbsp; Info</b><br>\n",
    "    <p style=\"color: black\">\n",
    "        You do not need to specify metrics in <code>model.compile()</code>, if loss and metrics are the same. For example:\n",
    "    </p>\n",
    "\n",
    "    \n",
    "```python\n",
    ">>> model.compile(optimizer='RMSprop', loss='mean_squared_error')\n",
    "```\n",
    "\n",
    "<p style=\"color: black\">Here both, the loss and the metrics, are mean squared error (MSE).</p>\n",
    "    \n",
    "</div>"
   ]
  },
  {
   "cell_type": "markdown",
   "metadata": {
    "deletable": false,
    "editable": false,
    "nbgrader": {
     "cell_type": "markdown",
     "checksum": "59f20a169955deaadab17534aa59eb21",
     "grade": false,
     "grade_id": "cell-f7696f498a63f864",
     "locked": true,
     "schema_version": 3,
     "solution": false,
     "task": false
    }
   },
   "source": [
    "<a id='2.4'></a>\n",
    "<div class=\" alert alert-danger\">\n",
    "    <h3 align='center'><b> Save your model !</b></h3>\n",
    "    \n",
    "<p>Save your model for later grading:</p>\n",
    "    \n",
    "- Save whole model (configuration + weights) with the  `model_reg.save(\"model_reg.h5\")` function \n",
    "- Trained model can be loaded with the `tf.keras.models.load_model(\"model_reg.h5\")` function \n",
    "- More about saving model <a href=\"https://keras.io/getting_started/faq/#what-are-my-options-for-saving-models\">in Keras FAQ</a>\n",
    "    \n",
    "</div>"
   ]
  },
  {
   "cell_type": "code",
   "execution_count": 57,
   "metadata": {
    "deletable": false,
    "editable": false,
    "nbgrader": {
     "cell_type": "code",
     "checksum": "62edcbb2f58abd7a9aa5d52c89303b11",
     "grade": false,
     "grade_id": "cell-0ba9dc27d095bcbb",
     "locked": true,
     "schema_version": 3,
     "solution": false,
     "task": false
    }
   },
   "outputs": [],
   "source": [
    "from sklearn.datasets import fetch_california_housing\n",
    "from sklearn.model_selection import train_test_split\n",
    "from sklearn.preprocessing import StandardScaler\n",
    "\n",
    "# function to load dataset\n",
    "def load_dataset():\n",
    "    \n",
    "    X, y = fetch_california_housing(return_X_y=True)\n",
    "    X_trainval, X_test, y_trainval, y_test = train_test_split(X, y, test_size=0.2, random_state=42)\n",
    "    \n",
    "    # scale feature values\n",
    "    scaler = StandardScaler()\n",
    "    X_trainval = scaler.fit_transform(X_trainval)\n",
    "    X_test = scaler.transform(X_test)\n",
    "    \n",
    "    return X_trainval, y_trainval, X_test, y_test"
   ]
  },
  {
   "cell_type": "code",
   "execution_count": 58,
   "metadata": {
    "deletable": false,
    "editable": false,
    "nbgrader": {
     "cell_type": "code",
     "checksum": "9cbc4b2d3fdb3b1021c36fc930d1d445",
     "grade": false,
     "grade_id": "cell-1021c2b10c94b2a3",
     "locked": true,
     "schema_version": 3,
     "solution": false,
     "task": false
    }
   },
   "outputs": [
    {
     "name": "stdout",
     "output_type": "stream",
     "text": [
      "Shape of  X_reg_trainval (16512, 8)\n",
      "Shape of  X_reg_test (4128, 8)\n"
     ]
    }
   ],
   "source": [
    "#========== Step 1. Loading Data ==========#\n",
    "\n",
    "X_reg_trainval, y_reg_trainval, X_reg_test, y_reg_test = load_dataset()\n",
    "\n",
    "# shape of train and test image\n",
    "print(f'Shape of  X_reg_trainval {X_reg_trainval.shape}')\n",
    "print(f'Shape of  X_reg_test {X_reg_test.shape}')"
   ]
  },
  {
   "cell_type": "code",
   "execution_count": 59,
   "metadata": {
    "deletable": false,
    "nbgrader": {
     "cell_type": "code",
     "checksum": "b102bfe29ca50e4ce26ba5bcc7c134b4",
     "grade": false,
     "grade_id": "cell-31c89939e3ace2c4",
     "locked": false,
     "schema_version": 3,
     "solution": true,
     "task": false
    }
   },
   "outputs": [],
   "source": [
    "#========== Step 2. Define Hypothesis Space - ANN Structure ==========#\n",
    "\n",
    "# YOUR CODE HERE\n",
    "model_reg = keras.Sequential([\n",
    "    # hidden layer\n",
    "    layers.Dense(128, activation='relu',input_shape=(X_reg_trainval.shape[1],)),\n",
    "    # output layer\n",
    "    layers.Dense(1)\n",
    "])\n",
    "\n",
    "# Start from smaller model (e.g. one hidden layer) and add more layers/ neurons if needed\n",
    "# model_reg = ..."
   ]
  },
  {
   "cell_type": "code",
   "execution_count": 60,
   "metadata": {
    "deletable": false,
    "editable": false,
    "nbgrader": {
     "cell_type": "code",
     "checksum": "c83c5402ba377093f32604d1eda06908",
     "grade": true,
     "grade_id": "cell-68637c26f0d6f9d7",
     "locked": true,
     "points": 0.25,
     "schema_version": 3,
     "solution": false,
     "task": false
    }
   },
   "outputs": [],
   "source": [
    "# this cell is for tests\n"
   ]
  },
  {
   "cell_type": "code",
   "execution_count": 61,
   "metadata": {
    "deletable": false,
    "editable": false,
    "nbgrader": {
     "cell_type": "code",
     "checksum": "1db8549a05bd04097956fad44553a34a",
     "grade": true,
     "grade_id": "cell-88d45668865a75e7",
     "locked": true,
     "points": 0.25,
     "schema_version": 3,
     "solution": false,
     "task": false
    }
   },
   "outputs": [],
   "source": [
    "# this cell is for tests\n"
   ]
  },
  {
   "cell_type": "code",
   "execution_count": 62,
   "metadata": {
    "deletable": false,
    "editable": false,
    "nbgrader": {
     "cell_type": "code",
     "checksum": "96611b44a8f59ce72c017f5725e6dec9",
     "grade": true,
     "grade_id": "cell-f8e82f6ae95a127f",
     "locked": true,
     "points": 0.25,
     "schema_version": 3,
     "solution": false,
     "task": false
    }
   },
   "outputs": [],
   "source": [
    "# this cell is for tests\n"
   ]
  },
  {
   "cell_type": "code",
   "execution_count": 63,
   "metadata": {
    "deletable": false,
    "nbgrader": {
     "cell_type": "code",
     "checksum": "e0bed95da8fec381cbc6fe43eae7d26b",
     "grade": false,
     "grade_id": "cell-33d9054e108199e0",
     "locked": false,
     "schema_version": 3,
     "solution": true,
     "task": false
    }
   },
   "outputs": [],
   "source": [
    "#========== Step 3 - Choose Loss Function (MSE) and Optimizer (choose from Keras optimizers) ==========#\n",
    "\n",
    "# YOUR CODE HERE\n",
    "model_reg.compile(optimizer='RMSprop',\n",
    "              loss='mean_squared_error')\n"
   ]
  },
  {
   "cell_type": "code",
   "execution_count": 64,
   "metadata": {
    "deletable": false,
    "editable": false,
    "nbgrader": {
     "cell_type": "code",
     "checksum": "21755943c70fcb9f1ae5b5fb00c4f16f",
     "grade": true,
     "grade_id": "cell-57f71ffb6c22eab9",
     "locked": true,
     "points": 0.25,
     "schema_version": 3,
     "solution": false,
     "task": false
    }
   },
   "outputs": [],
   "source": [
    "# this cell is for tests\n"
   ]
  },
  {
   "cell_type": "markdown",
   "metadata": {
    "deletable": false,
    "editable": false,
    "nbgrader": {
     "cell_type": "markdown",
     "checksum": "44ca2694ba6b7674661bb3fdab3140e7",
     "grade": false,
     "grade_id": "cell-2d7667de4f904413",
     "locked": true,
     "schema_version": 3,
     "solution": false,
     "task": false
    }
   },
   "source": [
    "Write the rest of the code (training and model saving steps) inside if-loop. With \n",
    "\n",
    "```python\n",
    "if training:\n",
    "    history = ...\n",
    "    model_reg.save(...)\n",
    "else: \n",
    "    model_reg = tf.keras.models.load_model(\"model_reg.h5\")\n",
    "```\n",
    "\n",
    "teachers can change the flag to `training==False` and skip the training part during automated grading, loading the saved model instead.\n",
    "\n",
    "Note, that \n",
    "\n",
    "`if training:` is equivalent to `if training==True:`."
   ]
  },
  {
   "cell_type": "code",
   "execution_count": 65,
   "metadata": {
    "deletable": false,
    "nbgrader": {
     "cell_type": "code",
     "checksum": "2f8fe5e83b2e124b13b7125c5ecf819f",
     "grade": false,
     "grade_id": "cell-b3fcde0e46f18411",
     "locked": false,
     "schema_version": 3,
     "solution": true,
     "task": false
    },
    "tags": []
   },
   "outputs": [
    {
     "name": "stdout",
     "output_type": "stream",
     "text": [
      "Epoch 1/30\n",
      "104/104 [==============================] - 0s 2ms/step - loss: 1.8120 - val_loss: 0.7082\n",
      "Epoch 2/30\n",
      "104/104 [==============================] - 0s 1ms/step - loss: 0.5810 - val_loss: 0.5172\n",
      "Epoch 3/30\n",
      "104/104 [==============================] - 0s 1ms/step - loss: 0.4565 - val_loss: 0.4715\n",
      "Epoch 4/30\n",
      "104/104 [==============================] - 0s 1ms/step - loss: 0.4376 - val_loss: 0.4440\n",
      "Epoch 5/30\n",
      "104/104 [==============================] - 0s 1ms/step - loss: 0.4029 - val_loss: 0.4271\n",
      "Epoch 6/30\n",
      "104/104 [==============================] - 0s 1ms/step - loss: 0.3948 - val_loss: 0.4180\n",
      "Epoch 7/30\n",
      "104/104 [==============================] - 0s 1ms/step - loss: 0.3791 - val_loss: 0.4255\n",
      "Epoch 8/30\n",
      "104/104 [==============================] - 0s 1ms/step - loss: 0.3730 - val_loss: 0.4054\n",
      "Epoch 9/30\n",
      "104/104 [==============================] - 0s 1ms/step - loss: 0.3664 - val_loss: 0.3946\n",
      "Epoch 10/30\n",
      "104/104 [==============================] - 0s 1ms/step - loss: 0.3652 - val_loss: 0.3918\n",
      "Epoch 11/30\n",
      "104/104 [==============================] - 0s 2ms/step - loss: 0.3629 - val_loss: 0.3963\n",
      "Epoch 12/30\n",
      "104/104 [==============================] - 0s 1ms/step - loss: 0.3516 - val_loss: 0.3839\n",
      "Epoch 13/30\n",
      "104/104 [==============================] - 0s 1ms/step - loss: 0.3486 - val_loss: 0.3746\n",
      "Epoch 14/30\n",
      "104/104 [==============================] - 0s 1ms/step - loss: 0.3435 - val_loss: 0.3852\n",
      "Epoch 15/30\n",
      "104/104 [==============================] - 0s 1ms/step - loss: 0.3498 - val_loss: 0.3809\n",
      "Epoch 16/30\n",
      "104/104 [==============================] - 0s 1ms/step - loss: 0.3369 - val_loss: 0.3673\n",
      "Epoch 17/30\n",
      "104/104 [==============================] - 0s 1ms/step - loss: 0.3328 - val_loss: 0.3698\n",
      "Epoch 18/30\n",
      "104/104 [==============================] - 0s 1ms/step - loss: 0.3319 - val_loss: 0.3631\n",
      "Epoch 19/30\n",
      "104/104 [==============================] - 0s 1ms/step - loss: 0.3270 - val_loss: 0.3635\n",
      "Epoch 20/30\n",
      "104/104 [==============================] - 0s 1ms/step - loss: 0.3261 - val_loss: 0.3509\n",
      "Epoch 21/30\n",
      "104/104 [==============================] - 0s 1ms/step - loss: 0.3226 - val_loss: 0.3486\n",
      "Epoch 22/30\n",
      "104/104 [==============================] - 0s 1ms/step - loss: 0.3192 - val_loss: 0.3466\n",
      "Epoch 23/30\n",
      "104/104 [==============================] - 0s 1ms/step - loss: 0.3174 - val_loss: 0.3539\n",
      "Epoch 24/30\n",
      "104/104 [==============================] - 0s 1ms/step - loss: 0.3153 - val_loss: 0.3567\n",
      "Epoch 25/30\n",
      "104/104 [==============================] - 0s 1ms/step - loss: 0.3137 - val_loss: 0.3512\n",
      "Epoch 26/30\n",
      "104/104 [==============================] - 0s 1ms/step - loss: 0.3141 - val_loss: 0.3468\n",
      "Epoch 27/30\n",
      "104/104 [==============================] - 0s 1ms/step - loss: 0.3105 - val_loss: 0.3400\n",
      "Epoch 28/30\n",
      "104/104 [==============================] - 0s 1ms/step - loss: 0.3109 - val_loss: 0.3427\n",
      "Epoch 29/30\n",
      "104/104 [==============================] - 0s 1ms/step - loss: 0.3077 - val_loss: 0.3409\n",
      "Epoch 30/30\n",
      "104/104 [==============================] - 0s 1ms/step - loss: 0.3062 - val_loss: 0.3421\n"
     ]
    }
   ],
   "source": [
    "#========== Step 4. Training - Adjusting ANN Weights ==========#\n",
    "training = True\n",
    "if training:\n",
    "\n",
    "    history = model_reg.fit(X_reg_trainval, y_reg_trainval, validation_split=0.2, batch_size=128, epochs=30, verbose=1)\n",
    "    model_reg.save('model_reg.h5')\n",
    "    \n",
    "else: \n",
    "    model_reg = tf.keras.models.load_model(\"model_reg.h5\")"
   ]
  },
  {
   "cell_type": "code",
   "execution_count": 66,
   "metadata": {
    "deletable": false,
    "editable": false,
    "nbgrader": {
     "cell_type": "code",
     "checksum": "edd543c96f33e641e41007accde23b12",
     "grade": false,
     "grade_id": "cell-9075dc89b40f1cec",
     "locked": true,
     "schema_version": 3,
     "solution": false,
     "task": false
    }
   },
   "outputs": [
    {
     "data": {
      "image/png": "[encoded data removed]",
      "text/plain": [
       "<Figure size 800x400 with 1 Axes>"
      ]
     },
     "metadata": {},
     "output_type": "display_data"
    }
   ],
   "source": [
    "# plot training log\n",
    "if training:\n",
    "    pd.DataFrame(history.history).plot(figsize=(8,4))\n",
    "    plt.grid(True)\n",
    "    plt.xlabel('epoch', fontsize=14)\n",
    "    plt.ylabel('Loss', fontsize=14)\n",
    "    plt.show()"
   ]
  },
  {
   "cell_type": "code",
   "execution_count": 67,
   "metadata": {
    "deletable": false,
    "editable": false,
    "nbgrader": {
     "cell_type": "code",
     "checksum": "47c0a8bb2d15f3ae5f7d7fbf92e4c0de",
     "grade": false,
     "grade_id": "cell-2bb738bd3c1f6d3e",
     "locked": true,
     "schema_version": 3,
     "solution": false,
     "task": false
    }
   },
   "outputs": [
    {
     "name": "stdout",
     "output_type": "stream",
     "text": [
      "MSE loss on test dataset:  0.33\n"
     ]
    }
   ],
   "source": [
    "# loss on test set\n",
    "\n",
    "test_loss = model_reg.evaluate(X_reg_test,y_reg_test, batch_size=128, verbose=0)\n",
    "print(f'MSE loss on test dataset: {test_loss: .2f}')"
   ]
  },
  {
   "cell_type": "code",
   "execution_count": 69,
   "metadata": {
    "deletable": false,
    "editable": false,
    "nbgrader": {
     "cell_type": "code",
     "checksum": "20c5638d0be9e228bd1bb327ffc46e53",
     "grade": false,
     "grade_id": "cell-33c2fd7acce963c6",
     "locked": true,
     "schema_version": 3,
     "solution": false,
     "task": false
    }
   },
   "outputs": [],
   "source": [
    "# Sanity check\n",
    "\n",
    "assert test_loss <= 0.42, \"MSE loss is too large!\""
   ]
  },
  {
   "cell_type": "code",
   "execution_count": 70,
   "metadata": {
    "deletable": false,
    "editable": false,
    "nbgrader": {
     "cell_type": "code",
     "checksum": "cdb22ed0d1f5788f6bb1eff1e6b5f6a4",
     "grade": true,
     "grade_id": "cell-89669f51195bc55d",
     "locked": true,
     "points": 0.5,
     "schema_version": 3,
     "solution": false,
     "task": false
    }
   },
   "outputs": [],
   "source": [
    "# this cell is for tests\n"
   ]
  },
  {
   "cell_type": "markdown",
   "metadata": {
    "deletable": false,
    "editable": false,
    "nbgrader": {
     "cell_type": "markdown",
     "checksum": "2c7530186c81b9cedac28662d714e443",
     "grade": false,
     "grade_id": "cell-8b8d3fd86b533375",
     "locked": true,
     "schema_version": 3,
     "solution": false,
     "task": false
    }
   },
   "source": [
    "<div class=\" alert alert-success\">\n",
    "    <h3><b>Try it out. </b>Designed features.</h3>\n",
    "\n",
    "Although the main idea of deep learning is to move away from hand-crafted features to a data-driven approach, sometimes \"creating\" and adding more features helps to train ANNs.\n",
    "    \n",
    "Go to TensorFlow playground https://playground.tensorflow.org/ . Use the following parameters:\n",
    "\n",
    "- dataset - Spiral\n",
    "- features ${X}_{1}$ and ${X}_{2}$\n",
    "- 2 hidden layers with 6 units each, coupled with ReLU\n",
    "- learning rate 0.01\n",
    "    \n",
    "Train for about ~500 epochs. Take a close look at the train and test loss values.\n",
    "    \n",
    "Now, add the rest of the features. Try training again and notice the difference.\n",
    "</div>"
   ]
  },
  {
   "cell_type": "markdown",
   "metadata": {
    "deletable": false,
    "editable": false,
    "nbgrader": {
     "cell_type": "markdown",
     "checksum": "e27b1c3da3f56febbd33aea44de69c21",
     "grade": false,
     "grade_id": "cell-49cae81f1eb5f6ae",
     "locked": true,
     "schema_version": 3,
     "solution": false,
     "task": false
    }
   },
   "source": [
    "## Model parameters and hyperparameters\n",
    "\n",
    "We call weights and biases **parameters** of a model. We can find optimal parameters by feeding data to a certain algorithm, e.g. gradient descent. In other words, parameters can be inferred from the data we have. In contrast, there are **hyperparameters** of a model, which cannot be inferred from data. Some examples of hyperparameters are:\n",
    "\n",
    "- number of layers in ANN\n",
    "- number of units (neurons) in a layer\n",
    "- activation function\n",
    "- learning rate\n",
    "- batch size\n",
    "- number of epochs\n",
    "- optimizer \n",
    "\n",
    "Read this [blog post](https://machinelearningmastery.com/difference-between-a-parameter-and-a-hyperparameter/) if still unsure about difference between parameters and hyperparameters.\n",
    "\n",
    "It is quite difficult to estimate in advance which hyperparameters to use and usually one has to try it out experimentally. Nevertheless, there is some progress in this topic and it is an active area of research. For example, autoML (automated machine learning) solutions are already offered by major tech companies. \n",
    "\n",
    "You can try out Python sklearn autoML solution:\n",
    "- https://automl.github.io/auto-sklearn/master/\n",
    "- https://machinelearningmastery.com/auto-sklearn-for-automated-machine-learning-in-python/\n",
    "\n",
    "In practice, ANN with one or two hidden layers and about a hundred neurons per layer is enough for many cases. In more difficult problems making a deeper network might be beneficial. One simple approach would be to build a model which will overfit data and then add regularization (we will discuss such methods in the later notebooks).\n",
    "\n",
    "Quick reminder: we say that model overfits data, when it performs very well on a training set, but much worse on a validation set. Adding regularization usually improves models' performance on a validation set. \n",
    "\n",
    "The number of neurons in input and output layers depends on input and output dimensions. Previously we build ANN for the image classification task with 784 neurons in the input layer (corresponds to input image of size 28x28 pixels) and 10  - in the output layer (corresponds to 10 classes). As for hidden layers, the number of neurons can be the same in each layer. Some architectures (e.g. autoencoders) have more neurons in the first and last layers and fewer neurons in the middle, thus creating a \"bottleneck\". Unless it is made on purpose, creating a bottleneck is not advised as it may lead to the loss of some information. "
   ]
  },
  {
   "cell_type": "markdown",
   "metadata": {
    "deletable": false,
    "editable": false,
    "nbgrader": {
     "cell_type": "markdown",
     "checksum": "b4b7867846bd3ece1d98f8aad05af1a0",
     "grade": false,
     "grade_id": "cell-a8a41e74b1bec384",
     "locked": true,
     "schema_version": 3,
     "solution": false,
     "task": false
    }
   },
   "source": [
    "<a id='1.5'></a>\n",
    "<div class=\" alert alert-success\">\n",
    "    <h3><b>Student task 1.5.</b> Hyperparameter tuning - Number of hidden layers.</h3>\n",
    "\n",
    "[Points: 2+2p]\n",
    "    \n",
    "Consider two ANN structures that have the same total number of hidden units but a different number of layers. In this task you compare the performance of these two models on **Fashion-MNIST classification dataset**.\n",
    "    \n",
    "The first model should consist of:\n",
    "    \n",
    "- one hidden layer with 256 units and ReLU activation\n",
    "- one output layer with 10 units and softmax activation function\n",
    "    \n",
    "    \n",
    "The second model should consist of:\n",
    "    \n",
    "- 4 hidden layers with 64 units and ReLU activations\n",
    "- one output layer with 10 units and softmax activation function\n",
    "\n",
    "Use loss - `sparse_categorical_crossentropy` and  metrics -  `sparse_categorical_accuracy`. You can freely choose [Keras optimizer](https://keras.io/api/optimizers/) and training parameters (validation_split, batch_size, epochs).\n",
    "\n",
    "\n",
    "</div>\n",
    "\n",
    "<div class=\" alert alert-danger\">\n",
    "    <h3 align='center'><b>The accuracy on test set should be $\\geq$ 0.83 for both models.</b></h3>\n",
    "</div>\n",
    "\n",
    "<a id='2.4'></a>\n",
    "<div class=\" alert alert-danger\">\n",
    "    <h3 align='center'><b> Save both models as 'model_256.h5' and 'model_4x64.h5' </b></h3>\n",
    "    \n",
    "<center>You need to save your models for later grading!</center>\n",
    "</div>"
   ]
  },
  {
   "cell_type": "code",
   "execution_count": 71,
   "metadata": {
    "deletable": false,
    "nbgrader": {
     "cell_type": "code",
     "checksum": "e63563603bfd0d504c99ee51464c62dd",
     "grade": false,
     "grade_id": "cell-cfef4f5ce06b7966",
     "locked": false,
     "schema_version": 3,
     "solution": true,
     "task": false
    }
   },
   "outputs": [
    {
     "name": "stdout",
     "output_type": "stream",
     "text": [
      "Accuracy on test dataset: 0.88\n",
      "CPU times: user 3min 12s, sys: 50.4 s, total: 4min 3s\n",
      "Wall time: 1min 3s\n"
     ]
    }
   ],
   "source": [
    "\n",
    "%%time\n",
    "\n",
    "from tensorflow import keras\n",
    "from tensorflow.keras import layers\n",
    "from sklearn.model_selection import train_test_split\n",
    "import tensorflow as tf\n",
    "\n",
    "# Load the Fashion-MNIST dataset\n",
    "(X_trainval, y_trainval), (X_test, y_test) = keras.datasets.fashion_mnist.load_data()\n",
    "\n",
    "# Normalize the pixel values to the range [0, 1]\n",
    "X_trainval = X_trainval / 255.0\n",
    "X_test = X_test / 255.0\n",
    "\n",
    "# Flatten the images to use as input\n",
    "X_trainval = X_trainval.reshape(X_trainval.shape[0], -1)\n",
    "X_test = X_test.reshape(X_test.shape[0], -1)\n",
    "\n",
    "\n",
    "#==================== MODEL 1 ====================#\n",
    "\n",
    "# Build a model with one hidden layer with 256 units and ReLU activation\n",
    "model_256 = keras.Sequential([\n",
    "    layers.Input(shape=(X_trainval.shape[1],)),\n",
    "    layers.Dense(256, activation='relu'),\n",
    "    layers.Dense(10, activation='softmax')\n",
    "])\n",
    "\n",
    "# Compile the model\n",
    "model_256.compile(optimizer='adam',\n",
    "                  loss='sparse_categorical_crossentropy',\n",
    "                  metrics=['sparse_categorical_accuracy'])\n",
    "\n",
    "if training:\n",
    "    # Train the model\n",
    "    history_256 = model_256.fit(X_trainval, y_trainval, epochs=20, validation_split=0.2, batch_size=128, verbose=0)\n",
    "    # Save the model\n",
    "    model_256.save(\"model_256.h5\")\n",
    "else:\n",
    "    model_256 = tf.keras.models.load_model(\"model_256.h5\")\n",
    "\n",
    "# Evaluate the model\n",
    "test_loss, test_accuracy = model_256.evaluate(X_test, y_test, verbose=0)\n",
    "print(f'Accuracy on test dataset: {test_accuracy:.2f}')\n"
   ]
  },
  {
   "cell_type": "code",
   "execution_count": 72,
   "metadata": {
    "deletable": false,
    "editable": false,
    "nbgrader": {
     "cell_type": "code",
     "checksum": "34a36505c2a23f20eda97042aa34551d",
     "grade": false,
     "grade_id": "cell-fdad3ebfd772fcaa",
     "locked": true,
     "schema_version": 3,
     "solution": false,
     "task": false
    }
   },
   "outputs": [
    {
     "name": "stdout",
     "output_type": "stream",
     "text": [
      "Sanity checks passed!\n"
     ]
    }
   ],
   "source": [
    "# Perform some sanity checks on the solution\n",
    "\n",
    "assert len(model_256.layers) == 2      # we assume no separate inpute layer\n",
    "assert model_256.layers[0].units==256\n",
    "assert model_256.layers[1].units==10\n",
    "print(\"Sanity checks passed!\")"
   ]
  },
  {
   "cell_type": "code",
   "execution_count": 73,
   "metadata": {
    "deletable": false,
    "editable": false,
    "nbgrader": {
     "cell_type": "code",
     "checksum": "8185f956b754dde3963f32d65755f97d",
     "grade": true,
     "grade_id": "cell-cfcdc9c2e2892d89",
     "locked": true,
     "points": 1,
     "schema_version": 3,
     "solution": false,
     "task": false
    }
   },
   "outputs": [],
   "source": [
    "# this cell is for tests\n"
   ]
  },
  {
   "cell_type": "code",
   "execution_count": 74,
   "metadata": {
    "deletable": false,
    "editable": false,
    "nbgrader": {
     "cell_type": "code",
     "checksum": "132a3c4d92192c578daf55175cef0cbb",
     "grade": true,
     "grade_id": "cell-d4524542f58340ff",
     "locked": true,
     "points": 1,
     "schema_version": 3,
     "solution": false,
     "task": false
    }
   },
   "outputs": [],
   "source": [
    "# this cell is for tests\n"
   ]
  },
  {
   "cell_type": "code",
   "execution_count": 75,
   "metadata": {
    "deletable": false,
    "nbgrader": {
     "cell_type": "code",
     "checksum": "a6adbe124885e95a5bef97769dda5612",
     "grade": false,
     "grade_id": "cell-028ab1f50eb98675",
     "locked": false,
     "schema_version": 3,
     "solution": true,
     "task": false
    },
    "tags": []
   },
   "outputs": [
    {
     "name": "stdout",
     "output_type": "stream",
     "text": [
      "Accuracy on test dataset: 0.88\n",
      "CPU times: user 2min 22s, sys: 49.4 s, total: 3min 12s\n",
      "Wall time: 48.9 s\n"
     ]
    }
   ],
   "source": [
    "%%time\n",
    "\n",
    "#==================== MODEL 2 ====================#\n",
    "\n",
    "# Build a model with 4 hidden layers, each with 64 units and ReLU activations\n",
    "model_4x64 = keras.Sequential([\n",
    "    layers.Input(shape=(X_trainval.shape[1],)),\n",
    "    layers.Dense(64, activation='relu'),\n",
    "    layers.Dense(64, activation='relu'),\n",
    "    layers.Dense(64, activation='relu'),\n",
    "    layers.Dense(64, activation='relu'),\n",
    "    layers.Dense(10, activation='softmax')\n",
    "])\n",
    "\n",
    "# Compile the model\n",
    "model_4x64.compile(optimizer='adam',\n",
    "                  loss='sparse_categorical_crossentropy',\n",
    "                  metrics=['sparse_categorical_accuracy'])\n",
    "\n",
    "if training:\n",
    "    # Train the model\n",
    "    history_4x64 = model_4x64.fit(X_trainval, y_trainval, epochs=20, validation_split=0.2, batch_size=128, verbose=0)\n",
    "    # Save the model\n",
    "    model_4x64.save(\"model_4x64.h5\")\n",
    "else:\n",
    "    model_4x64 = tf.keras.models.load_model(\"model_4x64.h5\")\n",
    "\n",
    "# Evaluate the model\n",
    "test_loss, test_accuracy = model_4x64.evaluate(X_test, y_test, verbose=0)\n",
    "print(f'Accuracy on test dataset: {test_accuracy:.2f}')\n"
   ]
  },
  {
   "cell_type": "code",
   "execution_count": 76,
   "metadata": {
    "deletable": false,
    "editable": false,
    "nbgrader": {
     "cell_type": "code",
     "checksum": "21cdf7ec20b33ca2ac6e7f6ce9bd69d6",
     "grade": false,
     "grade_id": "cell-640b5a49e3e62212",
     "locked": true,
     "schema_version": 3,
     "solution": false,
     "task": false
    }
   },
   "outputs": [
    {
     "name": "stdout",
     "output_type": "stream",
     "text": [
      "Sanity checks passed!\n"
     ]
    }
   ],
   "source": [
    "# Perform some sanity checks on the solution\n",
    "\n",
    "assert len(model_4x64.layers) == 5      # we assume no separate inpute layer\n",
    "assert model_4x64.layers[0].units==64\n",
    "assert model_4x64.layers[1].units==64\n",
    "assert model_4x64.layers[2].units==64\n",
    "assert model_4x64.layers[3].units==64\n",
    "assert model_4x64.layers[4].units==10\n",
    "print(\"Sanity checks passed!\")"
   ]
  },
  {
   "cell_type": "code",
   "execution_count": 77,
   "metadata": {
    "deletable": false,
    "editable": false,
    "nbgrader": {
     "cell_type": "code",
     "checksum": "524155c36922d895fb6f4c2529f75203",
     "grade": true,
     "grade_id": "cell-3dbc6d02b8e3a1ae",
     "locked": true,
     "points": 1,
     "schema_version": 3,
     "solution": false,
     "task": false
    }
   },
   "outputs": [],
   "source": [
    "# this cell is for tests\n"
   ]
  },
  {
   "cell_type": "code",
   "execution_count": 78,
   "metadata": {
    "deletable": false,
    "editable": false,
    "nbgrader": {
     "cell_type": "code",
     "checksum": "0efeec80679abf25159e9a064c58dfce",
     "grade": true,
     "grade_id": "cell-f3457d426cfe9b62",
     "locked": true,
     "points": 1,
     "schema_version": 3,
     "solution": false,
     "task": false
    }
   },
   "outputs": [],
   "source": [
    "# this cell is for tests\n"
   ]
  },
  {
   "cell_type": "markdown",
   "metadata": {
    "deletable": false,
    "editable": false,
    "nbgrader": {
     "cell_type": "markdown",
     "checksum": "637f338bc45287616560734545dba147",
     "grade": false,
     "grade_id": "cell-63466f95d55c971a",
     "locked": true,
     "schema_version": 3,
     "solution": false,
     "task": false
    }
   },
   "source": [
    "<a id='1.6'></a>\n",
    "<div class=\" alert alert-success\">\n",
    "    <h3><b>Student task 1.6. </b> Hyperparameter tuning - Learning rate.</h3> \n",
    "    \n",
    "[Points: 2.5p]\n",
    "\n",
    "In this exercise we will use the following ANN for **Fashion-MNIST classification dataset**:\n",
    "    \n",
    "- one hidden layer with 128 units and ReLU activation\n",
    "- one output layer with 10 units and softmax activation function   \n",
    "    \n",
    "Use optimizer - SGD, loss - `sparse_categorical_crossentropy` and  metrics -  `sparse_categorical_accuracy`. \\\n",
    "Training parameters:\\\n",
    "`history = model.fit(X_trainval, y_trainval, validation_split=0.2, batch_size=32, epochs=20)`\n",
    "    \n",
    "\\\n",
    "Your task is to implement a function `lrate(lrates)`. The input parameter of the function `lrates` is a list of learning rate values. This function should, for each entry of that list, \n",
    "- create a new ANN Sequential model\n",
    "- compile the model. In this step, you need to pass the learning rate value to the optimizer, instead of using the default learning rate. \n",
    "- train the model\n",
    "- compute the accuracy obtained on the test set and add this value to the list `test_acc`\n",
    "\n",
    "After completing the above steps for each value in the list `lrates`, the function should return the list `test_acc`.\n",
    "</div>"
   ]
  },
  {
   "cell_type": "markdown",
   "metadata": {
    "deletable": false,
    "editable": false,
    "nbgrader": {
     "cell_type": "markdown",
     "checksum": "35e4f80075e3bc157a4eb550397f23f1",
     "grade": false,
     "grade_id": "cell-8ceb967ba67851d5",
     "locked": true,
     "schema_version": 3,
     "solution": false,
     "task": false
    }
   },
   "source": [
    "<details>\n",
    "    <summary><span class=\"summary-title\">Hints</span></summary>\n",
    "    <div class=\"summary-content\">\n",
    "    <ul>\n",
    "       <li>\n",
    "           use the <code>test_acc.append()</code> method to add current test accuracy to the end of the list\n",
    "        </li><br>\n",
    "        <li>\n",
    "            to set a learning rate, pass <code>optimizer=tf.keras.optimizers.SGD(learning_rate=...)</code> to\n",
    "            <code>model.compile()</code>, instead of <code>optimizer='SGD'</code>\n",
    "        </li><br>   \n",
    "        <li>\n",
    "            set <code>verbose=0</code> for <code>model.fit()</code> and <code>model.evaluate()</code> to avoid printing out training logs\n",
    "       </li>\n",
    "        <li>\n",
    "            Expected graph:\n",
    "            <img src=\"../../../coursedata/ANN/1.6.png\" width=400>\n",
    "        </li>\n",
    "    </ul>\n",
    "    </div>\n",
    "</details>"
   ]
  },
  {
   "cell_type": "code",
   "execution_count": 44,
   "metadata": {
    "deletable": false,
    "nbgrader": {
     "cell_type": "code",
     "checksum": "ea327db35516bd2bb87de38decf273f6",
     "grade": false,
     "grade_id": "cell-71aad207b808ba64",
     "locked": false,
     "schema_version": 3,
     "solution": true,
     "task": false
    }
   },
   "outputs": [
    {
     "name": "stdout",
     "output_type": "stream",
     "text": [
      "[0.7055000066757202, 0.8217999935150146, 0.8560000061988831, 0.8804000020027161, 0.10000000149011612, 0.10000000149011612]\n",
      "CPU times: user 9min 47s, sys: 1min 42s, total: 11min 30s\n",
      "Wall time: 3min 55s\n"
     ]
    }
   ],
   "source": [
    "%%time\n",
    "\n",
    "from tensorflow.keras.optimizers import SGD\n",
    "\n",
    "# for reproducibility\n",
    "keras.utils.set_random_seed(0)\n",
    "\n",
    "lrates = [0.0001, 0.001, 0.01, 0.1, 1, 10]\n",
    "test_acc = []\n",
    "\n",
    "# Function to create and train a model with a specific learning rate\n",
    "def lrate(lrates):\n",
    "    test_acc = []\n",
    "    \n",
    "    for lr in lrates:\n",
    "        # Create a new ANN Sequential model\n",
    "        model = keras.Sequential([\n",
    "            layers.Input(shape=(X_trainval.shape[1],)),\n",
    "            layers.Dense(128, activation='relu'),\n",
    "            layers.Dense(10, activation='softmax')\n",
    "        ])\n",
    "        \n",
    "        # Compile the model with the specified learning rate\n",
    "        optimizer = SGD(learning_rate=lr)\n",
    "        model.compile(optimizer=optimizer,\n",
    "                      loss='sparse_categorical_crossentropy',\n",
    "                      metrics=['sparse_categorical_accuracy'])\n",
    "        \n",
    "        # Train the model\n",
    "        history = model.fit(X_trainval, y_trainval, validation_split=0.2, batch_size=32, epochs=20, verbose=0)\n",
    "        \n",
    "        # Evaluate the model on the test dataset and compute accuracy\n",
    "        test_loss, test_accuracy = model.evaluate(X_test, y_test, verbose=0)\n",
    "        test_acc.append(test_accuracy)\n",
    "    \n",
    "    return test_acc\n",
    "\n",
    "if training == True:\n",
    "    test_acc = lrate(lrates)\n",
    "    print(test_acc)\n"
   ]
  },
  {
   "cell_type": "code",
   "execution_count": 45,
   "metadata": {
    "deletable": false,
    "editable": false,
    "nbgrader": {
     "cell_type": "code",
     "checksum": "d419c01487e0cb4fcae134533b27c330",
     "grade": false,
     "grade_id": "cell-23af22ff1dbdacf2",
     "locked": true,
     "schema_version": 3,
     "solution": false,
     "task": false
    }
   },
   "outputs": [
    {
     "name": "stdout",
     "output_type": "stream",
     "text": [
      "Sanity checks passed!\n"
     ]
    }
   ],
   "source": [
    "# Perform some sanity checks on the solution\n",
    "if training==True:\n",
    "    assert test_acc[0] > 0.5, \"The first entry of `test_acc` is wrong!\"\n",
    "    assert test_acc[-1] < 0.2, \"The last entry of `test_acc` is wrong!\"\n",
    "\n",
    "    print(\"Sanity checks passed!\")"
   ]
  },
  {
   "cell_type": "code",
   "execution_count": 46,
   "metadata": {
    "deletable": false,
    "editable": false,
    "nbgrader": {
     "cell_type": "code",
     "checksum": "226e4d3240cd92ae516ec6355acfce4e",
     "grade": false,
     "grade_id": "cell-9b6c119d91e60d2f",
     "locked": true,
     "schema_version": 3,
     "solution": false,
     "task": false
    }
   },
   "outputs": [
    {
     "data": {
      "image/png": "[encoded data removed]",
      "text/plain": [
       "<Figure size 500x300 with 1 Axes>"
      ]
     },
     "metadata": {},
     "output_type": "display_data"
    }
   ],
   "source": [
    "# plot graph lrate vs test accuracy\n",
    "if training==True:\n",
    "    fig, ax = plt.subplots(1,1, sharey=True, figsize=(5,3))\n",
    "    \n",
    "    ax.plot(lrates, test_acc)\n",
    "    plt.xlabel(\"learning rate\", fontsize=14)\n",
    "    plt.ylabel(\"Test accuracy\", fontsize=14)\n",
    "    plt.xscale('log')   \n",
    "    plt.show()"
   ]
  },
  {
   "cell_type": "code",
   "execution_count": 79,
   "metadata": {
    "deletable": false,
    "editable": false,
    "nbgrader": {
     "cell_type": "code",
     "checksum": "bb1c1d3f3206d02d61584bc48170d881",
     "grade": true,
     "grade_id": "cell-48bfb17c7e057b13",
     "locked": true,
     "points": 0.5,
     "schema_version": 3,
     "solution": false,
     "task": false
    }
   },
   "outputs": [],
   "source": [
    "# This cell is for tests\n"
   ]
  },
  {
   "cell_type": "code",
   "execution_count": 80,
   "metadata": {
    "deletable": false,
    "editable": false,
    "nbgrader": {
     "cell_type": "code",
     "checksum": "2bb1960790a6ddcea84dc83d1020227f",
     "grade": true,
     "grade_id": "cell-abe3dde811151f9e",
     "locked": true,
     "points": 2,
     "schema_version": 3,
     "solution": false,
     "task": false
    }
   },
   "outputs": [],
   "source": [
    "# This cell is for tests\n",
    "\n",
    "# for reproducibility\n",
    "keras.utils.set_random_seed(0)\n"
   ]
  },
  {
   "cell_type": "markdown",
   "metadata": {
    "deletable": false,
    "editable": false,
    "nbgrader": {
     "cell_type": "markdown",
     "checksum": "e60d1f8c8d00006c47b8707528d3ccca",
     "grade": false,
     "grade_id": "cell-a7b85ff850cc59b4",
     "locked": true,
     "schema_version": 3,
     "solution": false,
     "task": false
    }
   },
   "source": [
    "### Analyze learning curves.\n",
    "\n",
    "During training, we always evaluate loss (and accuracy) on two datasets - training and validation. Why do we need a validation dataset? The training loss (and accuracy) is a poor estimate of a model's performance because it is calculated on the same dataset that was used to train the model. The training dataset only represents a small sample of all available data points, this model will likely fit this subset very well, but fail to generalize to data points outside of the training set. This is especially a problem for big networks trained on small datasets. The validation set allows a more \"fair\" estimation of model performance, as it is not used for tuning the model's parameters.\n",
    "\n",
    "Although overfitting is a much more common problem for deep networks, let's create some examples of underfitting and overfitting. Underfitting may happen, for example, if the network is too simple for a given problem (too few layers/ units in layers), thus lacking the capacity to learn useful representation from data."
   ]
  },
  {
   "cell_type": "markdown",
   "metadata": {
    "deletable": false,
    "editable": false,
    "nbgrader": {
     "cell_type": "markdown",
     "checksum": "3b6e427ef38bd7244e7fa68277b74249",
     "grade": false,
     "grade_id": "cell-aaac9a83ffac4d2c",
     "locked": true,
     "schema_version": 3,
     "solution": false,
     "task": false
    }
   },
   "source": [
    "**Underfitting**. Here we will make a model with only one hidden layer with 2 units. This will create a \"bottleneck\" architecture. Such kind of model will be able to fit well neither training nor validation sets."
   ]
  },
  {
   "cell_type": "code",
   "execution_count": 49,
   "metadata": {
    "deletable": false,
    "editable": false,
    "nbgrader": {
     "cell_type": "code",
     "checksum": "f69728ac8f2e3899bbcd7e3621220a3e",
     "grade": false,
     "grade_id": "cell-0241aee7e50b66aa",
     "locked": true,
     "schema_version": 3,
     "solution": false,
     "task": false
    }
   },
   "outputs": [],
   "source": [
    "model_under = keras.Sequential([\n",
    "    layers.Dense(2, activation='relu',input_shape=(784,)),\n",
    "    layers.Dense(10, activation='softmax')\n",
    "])"
   ]
  },
  {
   "cell_type": "markdown",
   "metadata": {
    "deletable": false,
    "editable": false,
    "nbgrader": {
     "cell_type": "markdown",
     "checksum": "0df80642b5aaf7796481f7c2e80531db",
     "grade": false,
     "grade_id": "cell-1e917606601f82cd",
     "locked": true,
     "schema_version": 3,
     "solution": false,
     "task": false
    }
   },
   "source": [
    "**Optimal**. Here we will create a model with one hidden layer with 32 units. It is rather simple model, but sufficient in the case of FMNIST dataset."
   ]
  },
  {
   "cell_type": "code",
   "execution_count": 50,
   "metadata": {
    "deletable": false,
    "editable": false,
    "nbgrader": {
     "cell_type": "code",
     "checksum": "882010cf375160408c7d20872871bb81",
     "grade": false,
     "grade_id": "cell-7f0bc746c17dfe33",
     "locked": true,
     "schema_version": 3,
     "solution": false,
     "task": false
    }
   },
   "outputs": [],
   "source": [
    "model_opt = keras.Sequential([\n",
    "    layers.Dense(32, activation='relu',input_shape=(784,)),\n",
    "    layers.Dense(10, activation='softmax')\n",
    "])"
   ]
  },
  {
   "cell_type": "markdown",
   "metadata": {
    "deletable": false,
    "editable": false,
    "nbgrader": {
     "cell_type": "markdown",
     "checksum": "4790861f1418f9c84a086dc72f7fa8bb",
     "grade": false,
     "grade_id": "cell-e9461648bd0bb147",
     "locked": true,
     "schema_version": 3,
     "solution": false,
     "task": false
    }
   },
   "source": [
    "**Overfitting**. Here we will create a model with several hidden layer and many units. This should be enough to overfit on training set."
   ]
  },
  {
   "cell_type": "code",
   "execution_count": 51,
   "metadata": {
    "deletable": false,
    "editable": false,
    "nbgrader": {
     "cell_type": "code",
     "checksum": "412e40c0796c596e607993788b35fe81",
     "grade": false,
     "grade_id": "cell-69ae55a50ffa788c",
     "locked": true,
     "schema_version": 3,
     "solution": false,
     "task": false
    }
   },
   "outputs": [],
   "source": [
    "model_over = keras.Sequential([\n",
    "    layers.Dense(256, activation='relu',input_shape=(784,)),\n",
    "    layers.Dense(128, activation='relu'),\n",
    "    layers.Dense(64, activation='relu'),\n",
    "    layers.Dense(64, activation='relu'),\n",
    "    layers.Dense(10, activation='softmax')\n",
    "])"
   ]
  },
  {
   "cell_type": "markdown",
   "metadata": {
    "deletable": false,
    "editable": false,
    "nbgrader": {
     "cell_type": "markdown",
     "checksum": "71a9bfa8308ab6c41ffc99b1f963876e",
     "grade": false,
     "grade_id": "cell-42abcd5d721002ed",
     "locked": true,
     "schema_version": 3,
     "solution": false,
     "task": false
    }
   },
   "source": [
    "Now, let's compile and train all three models and store results in a list `history_log`."
   ]
  },
  {
   "cell_type": "code",
   "execution_count": 52,
   "metadata": {
    "deletable": false,
    "editable": false,
    "nbgrader": {
     "cell_type": "code",
     "checksum": "c4f172cdbe47eeb33ac80eb1555a41f4",
     "grade": false,
     "grade_id": "cell-5ed34566d84dc81f",
     "locked": true,
     "schema_version": 3,
     "solution": false,
     "task": false
    }
   },
   "outputs": [
    {
     "name": "stdout",
     "output_type": "stream",
     "text": [
      "CPU times: user 7min 25s, sys: 1min 16s, total: 8min 42s\n",
      "Wall time: 2min 50s\n"
     ]
    }
   ],
   "source": [
    "%%time\n",
    "\n",
    "models = [model_under, model_opt, model_over]\n",
    "history_log = []\n",
    "\n",
    "if training==True:\n",
    "    for model in models:\n",
    "        model.compile(optimizer='RMSprop',\n",
    "              loss='sparse_categorical_crossentropy',\n",
    "              metrics='sparse_categorical_accuracy')\n",
    "\n",
    "        history = model.fit(X_trainval, y_trainval, validation_split=0.2, batch_size=32, epochs=20, verbose=0)\n",
    "        history_log.append(history)"
   ]
  },
  {
   "cell_type": "markdown",
   "metadata": {
    "deletable": false,
    "editable": false,
    "nbgrader": {
     "cell_type": "markdown",
     "checksum": "8778cccecc4c2b68426fd4e3c9d3767b",
     "grade": false,
     "grade_id": "cell-3705cc7a5e196513",
     "locked": true,
     "schema_version": 3,
     "solution": false,
     "task": false
    }
   },
   "source": [
    "Plot training and validation losses for all models:"
   ]
  },
  {
   "cell_type": "code",
   "execution_count": 53,
   "metadata": {
    "deletable": false,
    "editable": false,
    "nbgrader": {
     "cell_type": "code",
     "checksum": "6a4e08f2ef7e42894f781867943b1608",
     "grade": false,
     "grade_id": "cell-7fe578f763b7ceac",
     "locked": true,
     "schema_version": 3,
     "solution": false,
     "task": false
    }
   },
   "outputs": [
    {
     "data": {
      "image/png": "[encoded data removed]",
      "text/plain": [
       "<Figure size 1200x400 with 3 Axes>"
      ]
     },
     "metadata": {},
     "output_type": "display_data"
    }
   ],
   "source": [
    "if training==True:\n",
    "    fig, ax = plt.subplots(1,3, sharey=True, figsize=(12,4))\n",
    "    title = [\"underfit\", \"optimal\", \"overfit\"]\n",
    "\n",
    "    for i in range(len(history_log)):\n",
    "        ax[i].plot(history_log[i].history['loss'])\n",
    "        ax[i].plot(history_log[i].history['val_loss'])\n",
    "        ax[i].spines[\"top\"].set_visible(False)\n",
    "        ax[i].spines[\"right\"].set_visible(False)\n",
    "        ax[i].set_title(title[i], fontsize=18)\n",
    "\n",
    "    ax[0].set_xlabel('epoch', fontsize=14)\n",
    "    ax[0].set_ylabel('Loss', fontsize=14)\n",
    "\n",
    "    plt.legend(['train', 'val'])\n",
    "    plt.show()"
   ]
  },
  {
   "cell_type": "markdown",
   "metadata": {
    "deletable": false,
    "editable": false,
    "nbgrader": {
     "cell_type": "markdown",
     "checksum": "813e846531695ccfce6dab3019af273e",
     "grade": false,
     "grade_id": "cell-243fcda34d2f002e",
     "locked": true,
     "schema_version": 3,
     "solution": false,
     "task": false
    }
   },
   "source": [
    "As you can see, when the model underfits, it performs poorly on training and validation sets. In contrast, when the model overfits, the training loss is much smaller than the validation loss. The ideal situation is when training loss is low and slightly better than validation loss."
   ]
  },
  {
   "cell_type": "code",
   "execution_count": 81,
   "metadata": {
    "deletable": false,
    "editable": false,
    "nbgrader": {
     "cell_type": "code",
     "checksum": "ad61cb908cf4f2db527ad4babea57d18",
     "grade": false,
     "grade_id": "cell-b2ac6f910a2ec63e",
     "locked": true,
     "schema_version": 3,
     "solution": false,
     "task": false
    }
   },
   "outputs": [
    {
     "name": "stdout",
     "output_type": "stream",
     "text": [
      "model_reg.h5 is saved.\n",
      "Test loss is OK.\n"
     ]
    }
   ],
   "source": [
    "# Sanity checks\n",
    "# check that regression model is trained and saved correctly\n",
    "\n",
    "try:\n",
    "    model_reg = tf.keras.models.load_model('model_reg.h5')\n",
    "except:\n",
    "    print('model_reg.h5' + \" is not saved!\")\n",
    "else:\n",
    "    print('model_reg.h5'+ \" is saved.\")\n",
    "    test_loss = model_reg.evaluate(X_reg_test,y_reg_test, batch_size=128, verbose=0)\n",
    "    if test_loss <= 0.42:\n",
    "        print(\"Test loss is OK.\")\n",
    "    else:\n",
    "        print(\"Test loss is too large! Make sure you trained the model and saved it correctly!\")"
   ]
  },
  {
   "cell_type": "code",
   "execution_count": 82,
   "metadata": {
    "deletable": false,
    "editable": false,
    "nbgrader": {
     "cell_type": "code",
     "checksum": "c9d112b2de6af41587a78dfdeba0d3bb",
     "grade": false,
     "grade_id": "cell-af845c0b469fd6d3",
     "locked": true,
     "schema_version": 3,
     "solution": false,
     "task": false
    }
   },
   "outputs": [
    {
     "name": "stdout",
     "output_type": "stream",
     "text": [
      "model_256.h5 is saved.\n",
      "Test accuracy is OK.\n",
      "model_4x64.h5 is saved.\n",
      "Test accuracy is OK.\n"
     ]
    }
   ],
   "source": [
    "# Sanity checks\n",
    "# check that classification models are trained and saved correctly\n",
    "\n",
    "model_names = ['model_256.h5', 'model_4x64.h5']\n",
    "\n",
    "for model_name in model_names:\n",
    "    try:\n",
    "        model = tf.keras.models.load_model(model_name)\n",
    "    except:\n",
    "        print(model_name + \" is not saved!\")\n",
    "    else:\n",
    "        print(model_name + \" is saved.\")\n",
    "        _, test_accuracy = model.evaluate(X_test, y_test, batch_size=128, verbose=0)\n",
    "        if test_accuracy >= 0.83:\n",
    "            print(\"Test accuracy is OK.\")\n",
    "        else:\n",
    "            print(\"Test accuracy is too large! Make sure you trained the model and saved it correctly!\")"
   ]
  },
  {
   "cell_type": "markdown",
   "metadata": {
    "deletable": false,
    "editable": false,
    "nbgrader": {
     "cell_type": "markdown",
     "checksum": "b90a658ac86d579366e057b3a4084c7f",
     "grade": false,
     "grade_id": "cell-79dfbc58fdda2d4b",
     "locked": true,
     "schema_version": 3,
     "solution": false,
     "task": false
    }
   },
   "source": [
    "## Quiz \n",
    "\n",
    "Points: 0.25p per Question"
   ]
  },
  {
   "cell_type": "markdown",
   "metadata": {
    "deletable": false,
    "editable": false,
    "nbgrader": {
     "cell_type": "markdown",
     "checksum": "29aa3f25ca159181bdb40ab3add267b8",
     "grade": false,
     "grade_id": "cell-fdcd97124cfc9725",
     "locked": true,
     "schema_version": 3,
     "solution": false,
     "task": false
    }
   },
   "source": [
    "<div class=\" alert alert-success\">\n",
    "     <h3><b>Question 1.1.</b></h3>\n",
    "\n",
    "Which of the following statements is correct?\n",
    "\n",
    "1. An ANN is a network-like representation of non-linear maps between features and predicted label value\n",
    "\n",
    "2. We typically adjust (learn) the ANN parameters (weights and bias terms) by random search \n",
    "\n",
    "3. ANNs can only be used to predict numeric label values (regression tasks)\n",
    "\n",
    "4. ANNs that use only linear activation functions can still result overall in a non-linear map \n",
    "    \n",
    "</div>"
   ]
  },
  {
   "cell_type": "code",
   "execution_count": 84,
   "metadata": {
    "deletable": false,
    "nbgrader": {
     "cell_type": "code",
     "checksum": "9ceccf34aac382e436c1cf207d9bb71b",
     "grade": false,
     "grade_id": "cell-924d345e75dd426f",
     "locked": false,
     "schema_version": 3,
     "solution": true,
     "task": false
    }
   },
   "outputs": [],
   "source": [
    "# remove the line raise NotImplementedError() before testing your solution and submitting code\n",
    "\n",
    "# YOUR CODE HERE\n",
    "\n",
    "answer_11  = 1"
   ]
  },
  {
   "cell_type": "code",
   "execution_count": 85,
   "metadata": {
    "deletable": false,
    "editable": false,
    "nbgrader": {
     "cell_type": "code",
     "checksum": "1f5f45ec1d8ab405d79af21e69debfa2",
     "grade": true,
     "grade_id": "cell-92814d083e097b9c",
     "locked": true,
     "points": 0.25,
     "schema_version": 3,
     "solution": false,
     "task": false
    }
   },
   "outputs": [
    {
     "name": "stdout",
     "output_type": "stream",
     "text": [
      "Sanity check tests passed!\n"
     ]
    }
   ],
   "source": [
    "# This cell is for tests\n",
    "assert answer_11 in [1,2,3,4], '\"answer\" Value should be an integer between 1 and 4.'\n",
    "print('Sanity check tests passed!')\n"
   ]
  },
  {
   "cell_type": "markdown",
   "metadata": {
    "deletable": false,
    "editable": false,
    "nbgrader": {
     "cell_type": "markdown",
     "checksum": "18766aa2b949be0affb5e78042f878f7",
     "grade": false,
     "grade_id": "cell-94244c58c0a82b55",
     "locked": true,
     "schema_version": 3,
     "solution": false,
     "task": false
    }
   },
   "source": [
    "<div class=\" alert alert-success\">\n",
    "     <h3><b>Question 1.2.</b></h3>\n",
    "\n",
    "Choose the correct statement:\n",
    "\n",
    "1. Every ANN with less than three hidden layers always represents a linear map between input features and output (predicted label)\n",
    "\n",
    "2. To obtain non-linear maps between input and output, ANNs must use neurons with non-linear activation functions\n",
    "\n",
    "3. ANNs with non-linear activation functions can only be used to predict numeric labels (regression tasks)\n",
    "    \n",
    "</div>"
   ]
  },
  {
   "cell_type": "code",
   "execution_count": 86,
   "metadata": {
    "deletable": false,
    "nbgrader": {
     "cell_type": "code",
     "checksum": "69ff88c99f4205a90f80e8fdab28d991",
     "grade": false,
     "grade_id": "cell-c42fa331be1ebf41",
     "locked": false,
     "schema_version": 3,
     "solution": true,
     "task": false
    }
   },
   "outputs": [],
   "source": [
    "# remove the line raise NotImplementedError() before testing your solution and submitting code\n",
    "\n",
    "# YOUR CODE HERE\n",
    "answer_12  = 2"
   ]
  },
  {
   "cell_type": "code",
   "execution_count": 87,
   "metadata": {
    "deletable": false,
    "editable": false,
    "nbgrader": {
     "cell_type": "code",
     "checksum": "b6e3cdd78eb7eb897ffa76223e6de0a5",
     "grade": true,
     "grade_id": "cell-73374c0f5fc67cc9",
     "locked": true,
     "points": 0.25,
     "schema_version": 3,
     "solution": false,
     "task": false
    }
   },
   "outputs": [
    {
     "name": "stdout",
     "output_type": "stream",
     "text": [
      "Sanity check tests passed!\n"
     ]
    }
   ],
   "source": [
    "# This cell is for tests\n",
    "assert answer_12 in [1,2,3], '\"answer\" Value should be an integer between 1 and 3.'\n",
    "print('Sanity check tests passed!')\n"
   ]
  },
  {
   "cell_type": "markdown",
   "metadata": {
    "deletable": false,
    "editable": false,
    "nbgrader": {
     "cell_type": "markdown",
     "checksum": "0e6803ea91ac5bbf6eae4398b7800252",
     "grade": false,
     "grade_id": "cell-c273f8fef6d540c2",
     "locked": true,
     "schema_version": 3,
     "solution": false,
     "task": false
    }
   },
   "source": [
    "<div class=\" alert alert-success\">\n",
    "     <h3><b>Question 1.3.</b></h3>\n",
    "\n",
    "Choose the correct statement:\n",
    "\n",
    "\n",
    "1. The softmax activation function is typically used in the output layer of an ANN applied to a multi-class classification task\n",
    "\n",
    "2. The softmax activation function is a popular choice for the output layer of an ANN applied to a regression task (numeric label values)\n",
    "\n",
    "3. The ReLU activation function is often used in the output layer of an ANN applied to a binary classification task\n",
    "\n",
    "4. The ReLU activation function is often used in the output layer of an ANN applied to a multi-class classification task\n",
    "\n",
    "\n",
    "\n",
    "    \n",
    "</div>"
   ]
  },
  {
   "cell_type": "code",
   "execution_count": 88,
   "metadata": {
    "deletable": false,
    "nbgrader": {
     "cell_type": "code",
     "checksum": "a3f24b19bd14c3a9b09c3c8f78b6148b",
     "grade": false,
     "grade_id": "cell-e177f033d030abd9",
     "locked": false,
     "schema_version": 3,
     "solution": true,
     "task": false
    }
   },
   "outputs": [],
   "source": [
    "# remove the line raise NotImplementedError() before testing your solution and submitting code\n",
    "\n",
    "# YOUR CODE HERE\n",
    "\n",
    "\n",
    "answer_13  = 1"
   ]
  },
  {
   "cell_type": "code",
   "execution_count": 89,
   "metadata": {
    "deletable": false,
    "editable": false,
    "nbgrader": {
     "cell_type": "code",
     "checksum": "25d5a58d28f2923bb19f7d37474ff7f4",
     "grade": true,
     "grade_id": "cell-fa9a9c86d07b02f4",
     "locked": true,
     "points": 0.25,
     "schema_version": 3,
     "solution": false,
     "task": false
    }
   },
   "outputs": [
    {
     "name": "stdout",
     "output_type": "stream",
     "text": [
      "Sanity check tests passed!\n"
     ]
    }
   ],
   "source": [
    "# This cell is for tests\n",
    "assert answer_13 in [1,2,3,4], '\"answer\" Value should be an integer between 1 and 4.'\n",
    "print('Sanity check tests passed!')\n"
   ]
  },
  {
   "cell_type": "markdown",
   "metadata": {
    "deletable": false,
    "editable": false,
    "nbgrader": {
     "cell_type": "markdown",
     "checksum": "c1dc9d80bc0b2b249f435bf13fe1c361",
     "grade": false,
     "grade_id": "cell-637898b40043aa4d",
     "locked": true,
     "schema_version": 3,
     "solution": false,
     "task": false
    }
   },
   "source": [
    "<div class=\"alert alert-success\">\n",
    "     <h3><b>Question 1.4.</b></h3>\n",
    "\n",
    "Consider the following model:\n",
    "    \n",
    "\n",
    "```python     \n",
    "model = keras.Sequential([\n",
    "        layers.Dense(128, activation='relu', input_shape=(784,)),  # hidden layer 1\n",
    "        layers.Dense(128, activation='softmax')                    # hidden layer 2\n",
    "    ])\n",
    "```\n",
    "\n",
    "\n",
    "What is the input shape of the hidden layer 2?\n",
    "         \n",
    "1. input_shape = (784,)\n",
    "2. input_shape = (256,)\n",
    "3. input_shape = (128,)\n",
    "4. input_shape = (1,)\n",
    "\n",
    "</div>"
   ]
  },
  {
   "cell_type": "code",
   "execution_count": 90,
   "metadata": {
    "deletable": false,
    "nbgrader": {
     "cell_type": "code",
     "checksum": "b59f18f51563564822e87b1329a08147",
     "grade": false,
     "grade_id": "cell-3ba1d3fe338f9e56",
     "locked": false,
     "schema_version": 3,
     "solution": true,
     "task": false
    }
   },
   "outputs": [],
   "source": [
    "# remove the line raise NotImplementedError() before testing your solution and submitting code\n",
    "\n",
    "# YOUR CODE HERE\n",
    "answer_14  = 3"
   ]
  },
  {
   "cell_type": "code",
   "execution_count": 91,
   "metadata": {
    "deletable": false,
    "editable": false,
    "nbgrader": {
     "cell_type": "code",
     "checksum": "ec6e3c5d79d49b6090e863a902d2d455",
     "grade": true,
     "grade_id": "cell-486dc28bdfbe7584",
     "locked": true,
     "points": 0.25,
     "schema_version": 3,
     "solution": false,
     "task": false
    }
   },
   "outputs": [
    {
     "name": "stdout",
     "output_type": "stream",
     "text": [
      "Sanity check tests passed!\n"
     ]
    }
   ],
   "source": [
    "# This cell is for tests\n",
    "assert answer_14 in [1,2,3,4], '\"answer\" Value should be an integer between 1 and 4.'\n",
    "print('Sanity check tests passed!')\n"
   ]
  },
  {
   "cell_type": "code",
   "execution_count": null,
   "metadata": {},
   "outputs": [],
   "source": []
  }
 ],
 "metadata": {
  "kernelspec": {
   "display_name": "Python 3",
   "language": "python",
   "name": "python3"
  },
  "language_info": {
   "codemirror_mode": {
    "name": "ipython",
    "version": 3
   },
   "file_extension": ".py",
   "mimetype": "text/x-python",
   "name": "python",
   "nbconvert_exporter": "python",
   "pygments_lexer": "ipython3",
   "version": "3.10.8"
  },
  "toc": {
   "base_numbering": 1,
   "nav_menu": {},
   "number_sections": false,
   "sideBar": true,
   "skip_h1_title": false,
   "title_cell": "Table of Contents",
   "title_sidebar": "Contents",
   "toc_cell": false,
   "toc_position": {
    "height": "calc(100% - 180px)",
    "left": "10px",
    "top": "150px",
    "width": "273.069855px"
   },
   "toc_section_display": true,
   "toc_window_display": true
  },
  "varInspector": {
   "cols": {
    "lenName": 16,
    "lenType": 16,
    "lenVar": 40
   },
   "kernels_config": {
    "python": {
     "delete_cmd_postfix": "",
     "delete_cmd_prefix": "del ",
     "library": "var_list.py",
     "varRefreshCmd": "print(var_dic_list())"
    },
    "r": {
     "delete_cmd_postfix": ") ",
     "delete_cmd_prefix": "rm(",
     "library": "var_list.r",
     "varRefreshCmd": "cat(var_dic_list()) "
    }
   },
   "types_to_exclude": [
    "module",
    "function",
    "builtin_function_or_method",
    "instance",
    "_Feature"
   ],
   "window_display": false
  }
 },
 "nbformat": 4,
 "nbformat_minor": 4
}
